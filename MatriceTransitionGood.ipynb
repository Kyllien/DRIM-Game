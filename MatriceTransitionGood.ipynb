{
  "nbformat": 4,
  "nbformat_minor": 0,
  "metadata": {
    "colab": {
      "name": "MatriceTransitionGood.ipynb",
      "provenance": [],
      "collapsed_sections": [
        "OhRd2bhgZyvN",
        "Bs2WdyXPZ3mG",
        "9YbC84RYaL3s",
        "UneOp7TwaoUu",
        "05VLS2G6bJPy",
        "MvltsfBH470U",
        "D7PY3SrbVy0W",
        "MZHHKRctV147",
        "hvbXmg6pSaw2",
        "PEmPw0Yu9K6Y",
        "9q1E5M1LXwFe"
      ],
      "machine_shape": "hm",
      "authorship_tag": "ABX9TyP52wiG0Qs/nSnGE2f7vYFF",
      "include_colab_link": true
    },
    "kernelspec": {
      "name": "python3",
      "display_name": "Python 3"
    },
    "language_info": {
      "name": "python"
    },
    "accelerator": "GPU"
  },
  "cells": [
    {
      "cell_type": "markdown",
      "metadata": {
        "id": "view-in-github",
        "colab_type": "text"
      },
      "source": [
        "<a href=\"https://colab.research.google.com/github/Kyllien/DRIM-Game/blob/main/MatriceTransitionGood.ipynb\" target=\"_parent\"><img src=\"https://colab.research.google.com/assets/colab-badge.svg\" alt=\"Open In Colab\"/></a>"
      ]
    },
    {
      "cell_type": "markdown",
      "metadata": {
        "id": "OhRd2bhgZyvN"
      },
      "source": [
        "# Pre Requis"
      ]
    },
    {
      "cell_type": "code",
      "metadata": {
        "colab": {
          "base_uri": "https://localhost:8080/"
        },
        "id": "GKZADErSrMZ1",
        "outputId": "b9555515-b4ee-4c04-e153-c59b8dc13694"
      },
      "source": [
        "#Connect to google drive\n",
        "from google.colab import drive\n",
        "drive.mount('/content/gdrive')"
      ],
      "execution_count": 1,
      "outputs": [
        {
          "output_type": "stream",
          "name": "stdout",
          "text": [
            "Mounted at /content/gdrive\n"
          ]
        }
      ]
    },
    {
      "cell_type": "code",
      "metadata": {
        "id": "KNLjhTqFrw_H"
      },
      "source": [
        "#Import data from os\n",
        "import os\n",
        "os.chdir(\"/content/gdrive/My Drive/DRIM\")"
      ],
      "execution_count": 41,
      "outputs": []
    },
    {
      "cell_type": "code",
      "metadata": {
        "id": "QuZsEBcaTzug",
        "colab": {
          "base_uri": "https://localhost:8080/"
        },
        "outputId": "2c79d767-e68a-4e85-baf8-dcf97b43fc8e"
      },
      "source": [
        "!pip install statsmodels --upgrade"
      ],
      "execution_count": 3,
      "outputs": [
        {
          "output_type": "stream",
          "name": "stdout",
          "text": [
            "Requirement already satisfied: statsmodels in /usr/local/lib/python3.7/dist-packages (0.10.2)\n",
            "Collecting statsmodels\n",
            "  Downloading statsmodels-0.13.1-cp37-cp37m-manylinux_2_17_x86_64.manylinux2014_x86_64.whl (9.8 MB)\n",
            "\u001b[K     |████████████████████████████████| 9.8 MB 7.9 MB/s \n",
            "\u001b[?25hRequirement already satisfied: patsy>=0.5.2 in /usr/local/lib/python3.7/dist-packages (from statsmodels) (0.5.2)\n",
            "Requirement already satisfied: numpy>=1.17 in /usr/local/lib/python3.7/dist-packages (from statsmodels) (1.19.5)\n",
            "Requirement already satisfied: scipy>=1.3 in /usr/local/lib/python3.7/dist-packages (from statsmodels) (1.4.1)\n",
            "Requirement already satisfied: pandas>=0.25 in /usr/local/lib/python3.7/dist-packages (from statsmodels) (1.1.5)\n",
            "Requirement already satisfied: python-dateutil>=2.7.3 in /usr/local/lib/python3.7/dist-packages (from pandas>=0.25->statsmodels) (2.8.2)\n",
            "Requirement already satisfied: pytz>=2017.2 in /usr/local/lib/python3.7/dist-packages (from pandas>=0.25->statsmodels) (2018.9)\n",
            "Requirement already satisfied: six in /usr/local/lib/python3.7/dist-packages (from patsy>=0.5.2->statsmodels) (1.15.0)\n",
            "Installing collected packages: statsmodels\n",
            "  Attempting uninstall: statsmodels\n",
            "    Found existing installation: statsmodels 0.10.2\n",
            "    Uninstalling statsmodels-0.10.2:\n",
            "      Successfully uninstalled statsmodels-0.10.2\n",
            "Successfully installed statsmodels-0.13.1\n"
          ]
        }
      ]
    },
    {
      "cell_type": "code",
      "metadata": {
        "id": "IRQ6KFHWsQGP"
      },
      "source": [
        "#Librairie\n",
        "import pandas as pd\n",
        "import matplotlib.pyplot as plt\n",
        "import numpy as np\n",
        "import datetime\n",
        "import csv"
      ],
      "execution_count": 3,
      "outputs": []
    },
    {
      "cell_type": "markdown",
      "metadata": {
        "id": "Bs2WdyXPZ3mG"
      },
      "source": [
        "# Mise en place de la base\n",
        "## Ouverture de la base"
      ]
    },
    {
      "cell_type": "markdown",
      "source": [
        "Avec ajout de la deuxieme base de la finale"
      ],
      "metadata": {
        "id": "bCB7okZ_VAKC"
      }
    },
    {
      "cell_type": "code",
      "metadata": {
        "id": "aoVwaJ9Y8S18"
      },
      "source": [
        "data = pd.read_csv('base_1.csv')\n",
        "data2 = pd.read_csv('base_2.csv')\n",
        "# print(np.unique(data['classe'])) #Aucun prob de classe\n",
        "\n",
        "#rename the columns\n",
        "data = data.rename(columns={\"classe\": \"State\", \"dtf_per_trt\": \"Time\", \"ID_BCR_TRS\": \"ID\"})\n",
        "data2 = data2.rename(columns={\"classe\": \"State\", \"dtf_per_trt\": \"Time\", \"ID_BCR_TRS\": \"ID\"})\n",
        "\n",
        "# Put Time in Date Format\n",
        "data[\"Time\"]=pd.to_datetime(data[\"Time\"])\n",
        "data2[\"Time\"]=pd.to_datetime(data2[\"Time\"])\n",
        "\n",
        "#Concatenation avec la deuxieme base\n",
        "data = pd.concat([data,data2])"
      ],
      "execution_count": 4,
      "outputs": []
    },
    {
      "cell_type": "markdown",
      "metadata": {
        "id": "pJB2ANF_Z_D6"
      },
      "source": [
        "## Modification de la base avec une ligne = 1 ID"
      ]
    },
    {
      "cell_type": "code",
      "metadata": {
        "colab": {
          "base_uri": "https://localhost:8080/"
        },
        "id": "GuFnGmdiB-Br",
        "outputId": "d5d43430-b7d1-441f-cf66-d649c9b6fad2"
      },
      "source": [
        "df=data\n",
        "df=df.sort_values(by=[\"Time\"])\n",
        "ID=np.unique(df[\"ID\"])\n",
        "df2=pd.DataFrame(ID,columns=[\"ID\"])\n",
        "compteur=0\n",
        "for i in np.unique(df[\"Time\"]):\n",
        "  print(i)\n",
        "  df3=df[df[\"Time\"]==i]\n",
        "  df3=df3[[\"ID\",\"State\"]]\n",
        "  df3=df3.rename({'ID': 'ID', 'State': 'Date'+str(compteur)}, axis='columns')\n",
        "  compteur=compteur+1\n",
        "  df2=df2.merge(df3,on='ID',how='left')\n"
      ],
      "execution_count": 5,
      "outputs": [
        {
          "output_type": "stream",
          "name": "stdout",
          "text": [
            "2010-01-31T00:00:00.000000000\n",
            "2010-02-28T00:00:00.000000000\n",
            "2010-03-31T00:00:00.000000000\n",
            "2010-04-30T00:00:00.000000000\n",
            "2010-05-31T00:00:00.000000000\n",
            "2010-06-30T00:00:00.000000000\n",
            "2010-07-31T00:00:00.000000000\n",
            "2010-08-31T00:00:00.000000000\n",
            "2010-09-30T00:00:00.000000000\n",
            "2010-10-31T00:00:00.000000000\n",
            "2010-11-30T00:00:00.000000000\n",
            "2010-12-31T00:00:00.000000000\n",
            "2011-01-31T00:00:00.000000000\n",
            "2011-02-28T00:00:00.000000000\n",
            "2011-03-31T00:00:00.000000000\n",
            "2011-04-30T00:00:00.000000000\n",
            "2011-05-31T00:00:00.000000000\n",
            "2011-06-30T00:00:00.000000000\n",
            "2011-07-31T00:00:00.000000000\n",
            "2011-08-31T00:00:00.000000000\n",
            "2011-09-30T00:00:00.000000000\n",
            "2011-10-31T00:00:00.000000000\n",
            "2011-11-30T00:00:00.000000000\n",
            "2011-12-31T00:00:00.000000000\n",
            "2012-01-31T00:00:00.000000000\n",
            "2012-02-29T00:00:00.000000000\n",
            "2012-03-31T00:00:00.000000000\n",
            "2012-04-30T00:00:00.000000000\n",
            "2012-05-31T00:00:00.000000000\n",
            "2012-06-30T00:00:00.000000000\n",
            "2012-07-31T00:00:00.000000000\n",
            "2012-08-31T00:00:00.000000000\n",
            "2012-09-30T00:00:00.000000000\n",
            "2012-10-31T00:00:00.000000000\n",
            "2012-11-30T00:00:00.000000000\n",
            "2012-12-31T00:00:00.000000000\n",
            "2013-01-31T00:00:00.000000000\n",
            "2013-02-28T00:00:00.000000000\n",
            "2013-03-31T00:00:00.000000000\n",
            "2013-04-30T00:00:00.000000000\n",
            "2013-05-31T00:00:00.000000000\n",
            "2013-06-30T00:00:00.000000000\n",
            "2013-07-31T00:00:00.000000000\n",
            "2013-08-31T00:00:00.000000000\n",
            "2013-09-30T00:00:00.000000000\n",
            "2013-10-31T00:00:00.000000000\n",
            "2013-11-30T00:00:00.000000000\n",
            "2013-12-31T00:00:00.000000000\n",
            "2014-01-31T00:00:00.000000000\n",
            "2014-02-28T00:00:00.000000000\n",
            "2014-03-31T00:00:00.000000000\n",
            "2014-04-30T00:00:00.000000000\n",
            "2014-05-31T00:00:00.000000000\n",
            "2014-06-30T00:00:00.000000000\n",
            "2014-07-31T00:00:00.000000000\n",
            "2014-08-31T00:00:00.000000000\n",
            "2014-09-30T00:00:00.000000000\n",
            "2014-10-31T00:00:00.000000000\n",
            "2014-11-30T00:00:00.000000000\n",
            "2014-12-31T00:00:00.000000000\n",
            "2015-01-31T00:00:00.000000000\n",
            "2015-02-28T00:00:00.000000000\n",
            "2015-03-31T00:00:00.000000000\n",
            "2015-04-30T00:00:00.000000000\n",
            "2015-05-31T00:00:00.000000000\n",
            "2015-06-30T00:00:00.000000000\n",
            "2015-07-31T00:00:00.000000000\n",
            "2015-08-31T00:00:00.000000000\n",
            "2015-09-30T00:00:00.000000000\n",
            "2015-10-31T00:00:00.000000000\n",
            "2015-11-30T00:00:00.000000000\n",
            "2015-12-31T00:00:00.000000000\n",
            "2016-01-31T00:00:00.000000000\n",
            "2016-02-29T00:00:00.000000000\n",
            "2016-03-31T00:00:00.000000000\n",
            "2016-04-30T00:00:00.000000000\n",
            "2016-05-31T00:00:00.000000000\n",
            "2016-06-30T00:00:00.000000000\n",
            "2016-07-31T00:00:00.000000000\n",
            "2016-08-31T00:00:00.000000000\n",
            "2016-09-30T00:00:00.000000000\n",
            "2016-10-31T00:00:00.000000000\n",
            "2016-11-30T00:00:00.000000000\n",
            "2016-12-31T00:00:00.000000000\n",
            "2017-01-31T00:00:00.000000000\n",
            "2017-02-28T00:00:00.000000000\n",
            "2017-03-31T00:00:00.000000000\n",
            "2017-04-30T00:00:00.000000000\n",
            "2017-05-31T00:00:00.000000000\n",
            "2017-06-30T00:00:00.000000000\n",
            "2017-07-31T00:00:00.000000000\n",
            "2017-08-31T00:00:00.000000000\n",
            "2017-09-30T00:00:00.000000000\n",
            "2017-10-31T00:00:00.000000000\n",
            "2017-11-30T00:00:00.000000000\n",
            "2017-12-31T00:00:00.000000000\n",
            "2018-01-31T00:00:00.000000000\n",
            "2018-02-28T00:00:00.000000000\n",
            "2018-03-31T00:00:00.000000000\n",
            "2018-04-30T00:00:00.000000000\n",
            "2018-05-31T00:00:00.000000000\n",
            "2018-06-30T00:00:00.000000000\n",
            "2018-07-31T00:00:00.000000000\n",
            "2018-08-31T00:00:00.000000000\n",
            "2018-09-30T00:00:00.000000000\n",
            "2018-10-31T00:00:00.000000000\n",
            "2018-11-30T00:00:00.000000000\n",
            "2018-12-31T00:00:00.000000000\n",
            "2019-01-31T00:00:00.000000000\n",
            "2019-02-28T00:00:00.000000000\n",
            "2019-03-31T00:00:00.000000000\n",
            "2019-04-30T00:00:00.000000000\n",
            "2019-05-31T00:00:00.000000000\n",
            "2019-06-30T00:00:00.000000000\n",
            "2019-07-31T00:00:00.000000000\n",
            "2019-08-31T00:00:00.000000000\n",
            "2019-09-30T00:00:00.000000000\n",
            "2019-10-31T00:00:00.000000000\n",
            "2019-11-30T00:00:00.000000000\n",
            "2019-12-31T00:00:00.000000000\n",
            "2020-01-31T00:00:00.000000000\n",
            "2020-02-29T00:00:00.000000000\n",
            "2020-03-31T00:00:00.000000000\n",
            "2020-04-30T00:00:00.000000000\n",
            "2020-05-31T00:00:00.000000000\n",
            "2020-06-30T00:00:00.000000000\n",
            "2020-07-31T00:00:00.000000000\n",
            "2020-08-31T00:00:00.000000000\n",
            "2020-09-30T00:00:00.000000000\n",
            "2020-10-31T00:00:00.000000000\n",
            "2020-11-30T00:00:00.000000000\n",
            "2020-12-31T00:00:00.000000000\n"
          ]
        }
      ]
    },
    {
      "cell_type": "markdown",
      "metadata": {
        "id": "9YbC84RYaL3s"
      },
      "source": [
        "## Modif de la base\n",
        "Creation d'une classe pour les non rating et changement de type pour les cellules"
      ]
    },
    {
      "cell_type": "code",
      "metadata": {
        "id": "CNQeF-OR76kZ"
      },
      "source": [
        "#Creation d'une classe pour les non rating : 12\n",
        "df3=df2.copy()\n",
        "df3=df3.fillna(12)"
      ],
      "execution_count": 6,
      "outputs": []
    },
    {
      "cell_type": "code",
      "metadata": {
        "colab": {
          "base_uri": "https://localhost:8080/"
        },
        "id": "oIhGLfus83_a",
        "outputId": "8b4504a6-3789-4f71-84d9-209d02d97dd4"
      },
      "source": [
        "#Changement de type float en int8\n",
        "def TypeInt (df):\n",
        "  df2 = df[\"ID\"]\n",
        "  df = df.drop(columns=[\"ID\"])\n",
        "  for i in df.columns:\n",
        "    df2 = pd.concat([df2,pd.to_numeric(df[i],downcast='integer')],axis=1)\n",
        "  return df2\n",
        "df3 = TypeInt(df3)\n",
        "df3.dtypes"
      ],
      "execution_count": 7,
      "outputs": [
        {
          "output_type": "execute_result",
          "data": {
            "text/plain": [
              "ID         object\n",
              "Date0        int8\n",
              "Date1        int8\n",
              "Date2        int8\n",
              "Date3        int8\n",
              "            ...  \n",
              "Date127      int8\n",
              "Date128      int8\n",
              "Date129      int8\n",
              "Date130      int8\n",
              "Date131      int8\n",
              "Length: 133, dtype: object"
            ]
          },
          "metadata": {},
          "execution_count": 7
        }
      ]
    },
    {
      "cell_type": "markdown",
      "metadata": {
        "id": "TChEjUM7aWAm"
      },
      "source": [
        "## Mise en place des defauts"
      ]
    },
    {
      "cell_type": "code",
      "metadata": {
        "id": "ZKhGWibLZB0Q"
      },
      "source": [
        "# #Mise en place du postulat : une personne qui tombe en défaut reste en défaut\n",
        "# liste=[]\n",
        "# for i, row in df3.iterrows():\n",
        "#   if(row[row==11].empty==False):\n",
        "#     row[row[row==11].index[0]:]=11\n",
        "#   liste.append(row.values)\n",
        "# df4=pd.DataFrame(liste,columns=df3.columns)\n"
      ],
      "execution_count": null,
      "outputs": []
    },
    {
      "cell_type": "code",
      "metadata": {
        "id": "6Iz0iD05drVN"
      },
      "source": [
        "#Enregistrement de la base ou chargement\n"
      ],
      "execution_count": null,
      "outputs": []
    },
    {
      "cell_type": "markdown",
      "metadata": {
        "id": "UneOp7TwaoUu"
      },
      "source": [
        "# Creation des Matrices\n"
      ]
    },
    {
      "cell_type": "markdown",
      "metadata": {
        "id": "05VLS2G6bJPy"
      },
      "source": [
        "## Matrice sans prise en compte de la classe NA"
      ]
    },
    {
      "cell_type": "code",
      "metadata": {
        "id": "Xq5LVZeXq34d"
      },
      "source": [
        "#Creation Matrice PIT sans les NR(12)\n",
        "PIT={}\n",
        "for i in range(1,132):\n",
        "  u=df2.columns[i]\n",
        "  m=df2.columns[i+1]\n",
        "  PIT[i]=pd.crosstab(df2[u],df2[m],normalize=\"index\",dropna=True)\n",
        "  for j in range(1,11):\n",
        "    PIT[i].loc[11,j] = 0\n",
        "  PIT[i].loc[11,11] = 1"
      ],
      "execution_count": 9,
      "outputs": []
    },
    {
      "cell_type": "code",
      "metadata": {
        "colab": {
          "base_uri": "https://localhost:8080/",
          "height": 426
        },
        "id": "OP_csW5zrksq",
        "outputId": "b8e32853-ddf7-4786-fde8-b5737b99b0a2"
      },
      "source": [
        "#Creation matrice TTC sans les NR(12)\n",
        "TTC=PIT[1]\n",
        "for i in range(2,96):\n",
        "  TTC=TTC+PIT[i]\n",
        "TTC=TTC/len(PIT)\n",
        "TTC"
      ],
      "execution_count": 10,
      "outputs": [
        {
          "output_type": "execute_result",
          "data": {
            "text/html": [
              "<div>\n",
              "<style scoped>\n",
              "    .dataframe tbody tr th:only-of-type {\n",
              "        vertical-align: middle;\n",
              "    }\n",
              "\n",
              "    .dataframe tbody tr th {\n",
              "        vertical-align: top;\n",
              "    }\n",
              "\n",
              "    .dataframe thead th {\n",
              "        text-align: right;\n",
              "    }\n",
              "</style>\n",
              "<table border=\"1\" class=\"dataframe\">\n",
              "  <thead>\n",
              "    <tr style=\"text-align: right;\">\n",
              "      <th>Date1</th>\n",
              "      <th>1.0</th>\n",
              "      <th>2.0</th>\n",
              "      <th>3.0</th>\n",
              "      <th>4.0</th>\n",
              "      <th>5.0</th>\n",
              "      <th>6.0</th>\n",
              "      <th>7.0</th>\n",
              "      <th>8.0</th>\n",
              "      <th>9.0</th>\n",
              "      <th>10.0</th>\n",
              "      <th>11.0</th>\n",
              "    </tr>\n",
              "    <tr>\n",
              "      <th>Date0</th>\n",
              "      <th></th>\n",
              "      <th></th>\n",
              "      <th></th>\n",
              "      <th></th>\n",
              "      <th></th>\n",
              "      <th></th>\n",
              "      <th></th>\n",
              "      <th></th>\n",
              "      <th></th>\n",
              "      <th></th>\n",
              "      <th></th>\n",
              "    </tr>\n",
              "  </thead>\n",
              "  <tbody>\n",
              "    <tr>\n",
              "      <th>1.0</th>\n",
              "      <td>0.970357</td>\n",
              "      <td>0.014852</td>\n",
              "      <td>0.011744</td>\n",
              "      <td>0.002345</td>\n",
              "      <td>0.000176</td>\n",
              "      <td>0.000383</td>\n",
              "      <td>0.000069</td>\n",
              "      <td>0.000043</td>\n",
              "      <td>0.000023</td>\n",
              "      <td>0.000003</td>\n",
              "      <td>0.000007</td>\n",
              "    </tr>\n",
              "    <tr>\n",
              "      <th>2.0</th>\n",
              "      <td>0.025838</td>\n",
              "      <td>0.959496</td>\n",
              "      <td>0.001567</td>\n",
              "      <td>0.002870</td>\n",
              "      <td>0.004158</td>\n",
              "      <td>0.004869</td>\n",
              "      <td>0.001023</td>\n",
              "      <td>0.000079</td>\n",
              "      <td>0.000085</td>\n",
              "      <td>0.000004</td>\n",
              "      <td>0.000010</td>\n",
              "    </tr>\n",
              "    <tr>\n",
              "      <th>3.0</th>\n",
              "      <td>0.004818</td>\n",
              "      <td>0.027760</td>\n",
              "      <td>0.955731</td>\n",
              "      <td>0.000341</td>\n",
              "      <td>0.000384</td>\n",
              "      <td>0.004316</td>\n",
              "      <td>0.004964</td>\n",
              "      <td>0.001376</td>\n",
              "      <td>0.000190</td>\n",
              "      <td>0.000101</td>\n",
              "      <td>0.000019</td>\n",
              "    </tr>\n",
              "    <tr>\n",
              "      <th>4.0</th>\n",
              "      <td>0.000060</td>\n",
              "      <td>0.013048</td>\n",
              "      <td>0.030364</td>\n",
              "      <td>0.940812</td>\n",
              "      <td>0.000481</td>\n",
              "      <td>0.000699</td>\n",
              "      <td>0.011099</td>\n",
              "      <td>0.000105</td>\n",
              "      <td>0.003089</td>\n",
              "      <td>0.000171</td>\n",
              "      <td>0.000073</td>\n",
              "    </tr>\n",
              "    <tr>\n",
              "      <th>5.0</th>\n",
              "      <td>0.000059</td>\n",
              "      <td>0.009819</td>\n",
              "      <td>0.008680</td>\n",
              "      <td>0.022321</td>\n",
              "      <td>0.940846</td>\n",
              "      <td>0.000664</td>\n",
              "      <td>0.012350</td>\n",
              "      <td>0.000420</td>\n",
              "      <td>0.004502</td>\n",
              "      <td>0.000228</td>\n",
              "      <td>0.000113</td>\n",
              "    </tr>\n",
              "    <tr>\n",
              "      <th>6.0</th>\n",
              "      <td>0.000074</td>\n",
              "      <td>0.000932</td>\n",
              "      <td>0.014678</td>\n",
              "      <td>0.001824</td>\n",
              "      <td>0.015822</td>\n",
              "      <td>0.940915</td>\n",
              "      <td>0.001811</td>\n",
              "      <td>0.014090</td>\n",
              "      <td>0.006834</td>\n",
              "      <td>0.002751</td>\n",
              "      <td>0.000269</td>\n",
              "    </tr>\n",
              "    <tr>\n",
              "      <th>7.0</th>\n",
              "      <td>0.000040</td>\n",
              "      <td>0.000950</td>\n",
              "      <td>0.002507</td>\n",
              "      <td>0.008902</td>\n",
              "      <td>0.009430</td>\n",
              "      <td>0.017109</td>\n",
              "      <td>0.917311</td>\n",
              "      <td>0.001896</td>\n",
              "      <td>0.022824</td>\n",
              "      <td>0.017997</td>\n",
              "      <td>0.001034</td>\n",
              "    </tr>\n",
              "    <tr>\n",
              "      <th>8.0</th>\n",
              "      <td>0.000040</td>\n",
              "      <td>0.000387</td>\n",
              "      <td>0.006037</td>\n",
              "      <td>0.001126</td>\n",
              "      <td>0.001179</td>\n",
              "      <td>0.043849</td>\n",
              "      <td>0.036728</td>\n",
              "      <td>0.832132</td>\n",
              "      <td>0.014491</td>\n",
              "      <td>0.060491</td>\n",
              "      <td>0.003540</td>\n",
              "    </tr>\n",
              "    <tr>\n",
              "      <th>9.0</th>\n",
              "      <td>0.000041</td>\n",
              "      <td>0.000682</td>\n",
              "      <td>0.001313</td>\n",
              "      <td>0.006178</td>\n",
              "      <td>0.009493</td>\n",
              "      <td>0.024608</td>\n",
              "      <td>0.090554</td>\n",
              "      <td>0.020750</td>\n",
              "      <td>0.707087</td>\n",
              "      <td>0.121018</td>\n",
              "      <td>0.018276</td>\n",
              "    </tr>\n",
              "    <tr>\n",
              "      <th>10.0</th>\n",
              "      <td>0.000007</td>\n",
              "      <td>0.000093</td>\n",
              "      <td>0.000543</td>\n",
              "      <td>0.001307</td>\n",
              "      <td>0.001962</td>\n",
              "      <td>0.015094</td>\n",
              "      <td>0.094369</td>\n",
              "      <td>0.090277</td>\n",
              "      <td>0.120083</td>\n",
              "      <td>0.492849</td>\n",
              "      <td>0.183415</td>\n",
              "    </tr>\n",
              "    <tr>\n",
              "      <th>11.0</th>\n",
              "      <td>0.000000</td>\n",
              "      <td>0.000000</td>\n",
              "      <td>0.000000</td>\n",
              "      <td>0.000000</td>\n",
              "      <td>0.000000</td>\n",
              "      <td>0.000000</td>\n",
              "      <td>0.000000</td>\n",
              "      <td>0.000000</td>\n",
              "      <td>0.000000</td>\n",
              "      <td>0.000000</td>\n",
              "      <td>1.000000</td>\n",
              "    </tr>\n",
              "  </tbody>\n",
              "</table>\n",
              "</div>"
            ],
            "text/plain": [
              "Date1      1.0       2.0       3.0   ...      9.0       10.0      11.0\n",
              "Date0                                ...                              \n",
              "1.0    0.970357  0.014852  0.011744  ...  0.000023  0.000003  0.000007\n",
              "2.0    0.025838  0.959496  0.001567  ...  0.000085  0.000004  0.000010\n",
              "3.0    0.004818  0.027760  0.955731  ...  0.000190  0.000101  0.000019\n",
              "4.0    0.000060  0.013048  0.030364  ...  0.003089  0.000171  0.000073\n",
              "5.0    0.000059  0.009819  0.008680  ...  0.004502  0.000228  0.000113\n",
              "6.0    0.000074  0.000932  0.014678  ...  0.006834  0.002751  0.000269\n",
              "7.0    0.000040  0.000950  0.002507  ...  0.022824  0.017997  0.001034\n",
              "8.0    0.000040  0.000387  0.006037  ...  0.014491  0.060491  0.003540\n",
              "9.0    0.000041  0.000682  0.001313  ...  0.707087  0.121018  0.018276\n",
              "10.0   0.000007  0.000093  0.000543  ...  0.120083  0.492849  0.183415\n",
              "11.0   0.000000  0.000000  0.000000  ...  0.000000  0.000000  1.000000\n",
              "\n",
              "[11 rows x 11 columns]"
            ]
          },
          "metadata": {},
          "execution_count": 10
        }
      ]
    },
    {
      "cell_type": "code",
      "metadata": {
        "colab": {
          "base_uri": "https://localhost:8080/",
          "height": 426
        },
        "id": "jWgWkB7wsLJy",
        "outputId": "0e3a4481-bd1a-4022-e71f-013a1a211ec1"
      },
      "source": [
        "#TTC Cumule sans les NR(12)\n",
        "TTC_C = TTC\n",
        "TTC[11][1]\n",
        "for i in range(1,12):\n",
        "  compteur=0\n",
        "  for j in reversed(range(1,12)):\n",
        "    compteur=TTC[j][i]+compteur\n",
        "    TTC_C[j][i]=compteur\n",
        "TTC_C"
      ],
      "execution_count": 11,
      "outputs": [
        {
          "output_type": "execute_result",
          "data": {
            "text/html": [
              "<div>\n",
              "<style scoped>\n",
              "    .dataframe tbody tr th:only-of-type {\n",
              "        vertical-align: middle;\n",
              "    }\n",
              "\n",
              "    .dataframe tbody tr th {\n",
              "        vertical-align: top;\n",
              "    }\n",
              "\n",
              "    .dataframe thead th {\n",
              "        text-align: right;\n",
              "    }\n",
              "</style>\n",
              "<table border=\"1\" class=\"dataframe\">\n",
              "  <thead>\n",
              "    <tr style=\"text-align: right;\">\n",
              "      <th>Date1</th>\n",
              "      <th>1.0</th>\n",
              "      <th>2.0</th>\n",
              "      <th>3.0</th>\n",
              "      <th>4.0</th>\n",
              "      <th>5.0</th>\n",
              "      <th>6.0</th>\n",
              "      <th>7.0</th>\n",
              "      <th>8.0</th>\n",
              "      <th>9.0</th>\n",
              "      <th>10.0</th>\n",
              "      <th>11.0</th>\n",
              "    </tr>\n",
              "    <tr>\n",
              "      <th>Date0</th>\n",
              "      <th></th>\n",
              "      <th></th>\n",
              "      <th></th>\n",
              "      <th></th>\n",
              "      <th></th>\n",
              "      <th></th>\n",
              "      <th></th>\n",
              "      <th></th>\n",
              "      <th></th>\n",
              "      <th></th>\n",
              "      <th></th>\n",
              "    </tr>\n",
              "  </thead>\n",
              "  <tbody>\n",
              "    <tr>\n",
              "      <th>1.0</th>\n",
              "      <td>1.0</td>\n",
              "      <td>0.029643</td>\n",
              "      <td>0.014791</td>\n",
              "      <td>0.003048</td>\n",
              "      <td>0.000703</td>\n",
              "      <td>0.000527</td>\n",
              "      <td>0.000145</td>\n",
              "      <td>0.000076</td>\n",
              "      <td>0.000033</td>\n",
              "      <td>0.000009</td>\n",
              "      <td>0.000007</td>\n",
              "    </tr>\n",
              "    <tr>\n",
              "      <th>2.0</th>\n",
              "      <td>1.0</td>\n",
              "      <td>0.974162</td>\n",
              "      <td>0.014665</td>\n",
              "      <td>0.013098</td>\n",
              "      <td>0.010228</td>\n",
              "      <td>0.006070</td>\n",
              "      <td>0.001202</td>\n",
              "      <td>0.000179</td>\n",
              "      <td>0.000100</td>\n",
              "      <td>0.000014</td>\n",
              "      <td>0.000010</td>\n",
              "    </tr>\n",
              "    <tr>\n",
              "      <th>3.0</th>\n",
              "      <td>1.0</td>\n",
              "      <td>0.995182</td>\n",
              "      <td>0.967422</td>\n",
              "      <td>0.011691</td>\n",
              "      <td>0.011350</td>\n",
              "      <td>0.010966</td>\n",
              "      <td>0.006650</td>\n",
              "      <td>0.001686</td>\n",
              "      <td>0.000310</td>\n",
              "      <td>0.000120</td>\n",
              "      <td>0.000019</td>\n",
              "    </tr>\n",
              "    <tr>\n",
              "      <th>4.0</th>\n",
              "      <td>1.0</td>\n",
              "      <td>0.999940</td>\n",
              "      <td>0.986892</td>\n",
              "      <td>0.956528</td>\n",
              "      <td>0.015716</td>\n",
              "      <td>0.015236</td>\n",
              "      <td>0.014537</td>\n",
              "      <td>0.003438</td>\n",
              "      <td>0.003333</td>\n",
              "      <td>0.000244</td>\n",
              "      <td>0.000073</td>\n",
              "    </tr>\n",
              "    <tr>\n",
              "      <th>5.0</th>\n",
              "      <td>1.0</td>\n",
              "      <td>0.999941</td>\n",
              "      <td>0.990122</td>\n",
              "      <td>0.981442</td>\n",
              "      <td>0.959121</td>\n",
              "      <td>0.018275</td>\n",
              "      <td>0.017611</td>\n",
              "      <td>0.005262</td>\n",
              "      <td>0.004842</td>\n",
              "      <td>0.000340</td>\n",
              "      <td>0.000113</td>\n",
              "    </tr>\n",
              "    <tr>\n",
              "      <th>6.0</th>\n",
              "      <td>1.0</td>\n",
              "      <td>0.999926</td>\n",
              "      <td>0.998994</td>\n",
              "      <td>0.984316</td>\n",
              "      <td>0.982491</td>\n",
              "      <td>0.966669</td>\n",
              "      <td>0.025755</td>\n",
              "      <td>0.023943</td>\n",
              "      <td>0.009854</td>\n",
              "      <td>0.003019</td>\n",
              "      <td>0.000269</td>\n",
              "    </tr>\n",
              "    <tr>\n",
              "      <th>7.0</th>\n",
              "      <td>1.0</td>\n",
              "      <td>0.999960</td>\n",
              "      <td>0.999010</td>\n",
              "      <td>0.996503</td>\n",
              "      <td>0.987601</td>\n",
              "      <td>0.978171</td>\n",
              "      <td>0.961063</td>\n",
              "      <td>0.043751</td>\n",
              "      <td>0.041855</td>\n",
              "      <td>0.019031</td>\n",
              "      <td>0.001034</td>\n",
              "    </tr>\n",
              "    <tr>\n",
              "      <th>8.0</th>\n",
              "      <td>1.0</td>\n",
              "      <td>0.999960</td>\n",
              "      <td>0.999573</td>\n",
              "      <td>0.993536</td>\n",
              "      <td>0.992409</td>\n",
              "      <td>0.991230</td>\n",
              "      <td>0.947381</td>\n",
              "      <td>0.910653</td>\n",
              "      <td>0.078522</td>\n",
              "      <td>0.064030</td>\n",
              "      <td>0.003540</td>\n",
              "    </tr>\n",
              "    <tr>\n",
              "      <th>9.0</th>\n",
              "      <td>1.0</td>\n",
              "      <td>0.999959</td>\n",
              "      <td>0.999277</td>\n",
              "      <td>0.997964</td>\n",
              "      <td>0.991786</td>\n",
              "      <td>0.982293</td>\n",
              "      <td>0.957685</td>\n",
              "      <td>0.867131</td>\n",
              "      <td>0.846381</td>\n",
              "      <td>0.139294</td>\n",
              "      <td>0.018276</td>\n",
              "    </tr>\n",
              "    <tr>\n",
              "      <th>10.0</th>\n",
              "      <td>1.0</td>\n",
              "      <td>0.999993</td>\n",
              "      <td>0.999899</td>\n",
              "      <td>0.999356</td>\n",
              "      <td>0.998049</td>\n",
              "      <td>0.996087</td>\n",
              "      <td>0.980993</td>\n",
              "      <td>0.886624</td>\n",
              "      <td>0.796347</td>\n",
              "      <td>0.676264</td>\n",
              "      <td>0.183415</td>\n",
              "    </tr>\n",
              "    <tr>\n",
              "      <th>11.0</th>\n",
              "      <td>1.0</td>\n",
              "      <td>1.000000</td>\n",
              "      <td>1.000000</td>\n",
              "      <td>1.000000</td>\n",
              "      <td>1.000000</td>\n",
              "      <td>1.000000</td>\n",
              "      <td>1.000000</td>\n",
              "      <td>1.000000</td>\n",
              "      <td>1.000000</td>\n",
              "      <td>1.000000</td>\n",
              "      <td>1.000000</td>\n",
              "    </tr>\n",
              "  </tbody>\n",
              "</table>\n",
              "</div>"
            ],
            "text/plain": [
              "Date1  1.0       2.0       3.0   ...      9.0       10.0      11.0\n",
              "Date0                            ...                              \n",
              "1.0     1.0  0.029643  0.014791  ...  0.000033  0.000009  0.000007\n",
              "2.0     1.0  0.974162  0.014665  ...  0.000100  0.000014  0.000010\n",
              "3.0     1.0  0.995182  0.967422  ...  0.000310  0.000120  0.000019\n",
              "4.0     1.0  0.999940  0.986892  ...  0.003333  0.000244  0.000073\n",
              "5.0     1.0  0.999941  0.990122  ...  0.004842  0.000340  0.000113\n",
              "6.0     1.0  0.999926  0.998994  ...  0.009854  0.003019  0.000269\n",
              "7.0     1.0  0.999960  0.999010  ...  0.041855  0.019031  0.001034\n",
              "8.0     1.0  0.999960  0.999573  ...  0.078522  0.064030  0.003540\n",
              "9.0     1.0  0.999959  0.999277  ...  0.846381  0.139294  0.018276\n",
              "10.0    1.0  0.999993  0.999899  ...  0.796347  0.676264  0.183415\n",
              "11.0    1.0  1.000000  1.000000  ...  1.000000  1.000000  1.000000\n",
              "\n",
              "[11 rows x 11 columns]"
            ]
          },
          "metadata": {},
          "execution_count": 11
        }
      ]
    },
    {
      "cell_type": "markdown",
      "metadata": {
        "id": "KbsrWw5maxmR"
      },
      "source": [
        "## Matrice avec les NA"
      ]
    },
    {
      "cell_type": "markdown",
      "metadata": {
        "id": "nQWCXpccbAjQ"
      },
      "source": [
        "### Matrice PIT mensuel"
      ]
    },
    {
      "cell_type": "code",
      "metadata": {
        "id": "F_xoBXSpEqmU"
      },
      "source": [
        "#Creation Matrice PIT avec les NR(12)\n",
        "PIT_NR={}\n",
        "for i in range(1,132):\n",
        "  u=df3.columns[i]\n",
        "  m=df3.columns[i+1]\n",
        "  PIT_NR[i]=pd.crosstab(df3[u],df3[m],normalize=\"index\")\n",
        "  for j in range(1,13):\n",
        "    PIT_NR[i].loc[11,j] = 0\n",
        "  PIT_NR[i].loc[11,11] = 1\n",
        "\n",
        "\n"
      ],
      "execution_count": 8,
      "outputs": []
    },
    {
      "cell_type": "code",
      "metadata": {
        "colab": {
          "base_uri": "https://localhost:8080/",
          "height": 457
        },
        "id": "RKAWV_GNEwND",
        "outputId": "912621e8-b647-4896-e79f-01e98fb0f808"
      },
      "source": [
        "PIT_NR[1]"
      ],
      "execution_count": 13,
      "outputs": [
        {
          "output_type": "execute_result",
          "data": {
            "text/html": [
              "<div>\n",
              "<style scoped>\n",
              "    .dataframe tbody tr th:only-of-type {\n",
              "        vertical-align: middle;\n",
              "    }\n",
              "\n",
              "    .dataframe tbody tr th {\n",
              "        vertical-align: top;\n",
              "    }\n",
              "\n",
              "    .dataframe thead th {\n",
              "        text-align: right;\n",
              "    }\n",
              "</style>\n",
              "<table border=\"1\" class=\"dataframe\">\n",
              "  <thead>\n",
              "    <tr style=\"text-align: right;\">\n",
              "      <th>Date1</th>\n",
              "      <th>1</th>\n",
              "      <th>2</th>\n",
              "      <th>3</th>\n",
              "      <th>4</th>\n",
              "      <th>5</th>\n",
              "      <th>6</th>\n",
              "      <th>7</th>\n",
              "      <th>8</th>\n",
              "      <th>9</th>\n",
              "      <th>10</th>\n",
              "      <th>11</th>\n",
              "      <th>12</th>\n",
              "    </tr>\n",
              "    <tr>\n",
              "      <th>Date0</th>\n",
              "      <th></th>\n",
              "      <th></th>\n",
              "      <th></th>\n",
              "      <th></th>\n",
              "      <th></th>\n",
              "      <th></th>\n",
              "      <th></th>\n",
              "      <th></th>\n",
              "      <th></th>\n",
              "      <th></th>\n",
              "      <th></th>\n",
              "      <th></th>\n",
              "    </tr>\n",
              "  </thead>\n",
              "  <tbody>\n",
              "    <tr>\n",
              "      <th>1</th>\n",
              "      <td>0.936569</td>\n",
              "      <td>0.000710</td>\n",
              "      <td>0.002334</td>\n",
              "      <td>0.000812</td>\n",
              "      <td>0.000000</td>\n",
              "      <td>0.000025</td>\n",
              "      <td>0.000000</td>\n",
              "      <td>0.000000</td>\n",
              "      <td>0.000025</td>\n",
              "      <td>0.000000</td>\n",
              "      <td>0.000000</td>\n",
              "      <td>0.059524</td>\n",
              "    </tr>\n",
              "    <tr>\n",
              "      <th>2</th>\n",
              "      <td>0.019365</td>\n",
              "      <td>0.963849</td>\n",
              "      <td>0.000397</td>\n",
              "      <td>0.001298</td>\n",
              "      <td>0.002019</td>\n",
              "      <td>0.002524</td>\n",
              "      <td>0.000000</td>\n",
              "      <td>0.000000</td>\n",
              "      <td>0.000000</td>\n",
              "      <td>0.000000</td>\n",
              "      <td>0.000000</td>\n",
              "      <td>0.010548</td>\n",
              "    </tr>\n",
              "    <tr>\n",
              "      <th>3</th>\n",
              "      <td>0.004233</td>\n",
              "      <td>0.024065</td>\n",
              "      <td>0.949582</td>\n",
              "      <td>0.000191</td>\n",
              "      <td>0.000191</td>\n",
              "      <td>0.003661</td>\n",
              "      <td>0.004805</td>\n",
              "      <td>0.000000</td>\n",
              "      <td>0.000000</td>\n",
              "      <td>0.000000</td>\n",
              "      <td>0.000038</td>\n",
              "      <td>0.013234</td>\n",
              "    </tr>\n",
              "    <tr>\n",
              "      <th>4</th>\n",
              "      <td>0.000164</td>\n",
              "      <td>0.015756</td>\n",
              "      <td>0.034138</td>\n",
              "      <td>0.920565</td>\n",
              "      <td>0.000328</td>\n",
              "      <td>0.001149</td>\n",
              "      <td>0.015263</td>\n",
              "      <td>0.000164</td>\n",
              "      <td>0.000000</td>\n",
              "      <td>0.000000</td>\n",
              "      <td>0.000000</td>\n",
              "      <td>0.012473</td>\n",
              "    </tr>\n",
              "    <tr>\n",
              "      <th>5</th>\n",
              "      <td>0.000000</td>\n",
              "      <td>0.017369</td>\n",
              "      <td>0.012062</td>\n",
              "      <td>0.011901</td>\n",
              "      <td>0.924091</td>\n",
              "      <td>0.000965</td>\n",
              "      <td>0.022998</td>\n",
              "      <td>0.000643</td>\n",
              "      <td>0.000161</td>\n",
              "      <td>0.000000</td>\n",
              "      <td>0.000000</td>\n",
              "      <td>0.009810</td>\n",
              "    </tr>\n",
              "    <tr>\n",
              "      <th>6</th>\n",
              "      <td>0.000000</td>\n",
              "      <td>0.003868</td>\n",
              "      <td>0.020394</td>\n",
              "      <td>0.000820</td>\n",
              "      <td>0.009259</td>\n",
              "      <td>0.915026</td>\n",
              "      <td>0.005391</td>\n",
              "      <td>0.028833</td>\n",
              "      <td>0.003868</td>\n",
              "      <td>0.000000</td>\n",
              "      <td>0.000000</td>\n",
              "      <td>0.012541</td>\n",
              "    </tr>\n",
              "    <tr>\n",
              "      <th>7</th>\n",
              "      <td>0.000000</td>\n",
              "      <td>0.000802</td>\n",
              "      <td>0.006950</td>\n",
              "      <td>0.018444</td>\n",
              "      <td>0.018712</td>\n",
              "      <td>0.014167</td>\n",
              "      <td>0.861668</td>\n",
              "      <td>0.003876</td>\n",
              "      <td>0.058808</td>\n",
              "      <td>0.000936</td>\n",
              "      <td>0.000668</td>\n",
              "      <td>0.014969</td>\n",
              "    </tr>\n",
              "    <tr>\n",
              "      <th>8</th>\n",
              "      <td>0.000000</td>\n",
              "      <td>0.000000</td>\n",
              "      <td>0.006063</td>\n",
              "      <td>0.000000</td>\n",
              "      <td>0.000933</td>\n",
              "      <td>0.117537</td>\n",
              "      <td>0.030784</td>\n",
              "      <td>0.733209</td>\n",
              "      <td>0.035448</td>\n",
              "      <td>0.062500</td>\n",
              "      <td>0.001399</td>\n",
              "      <td>0.012127</td>\n",
              "    </tr>\n",
              "    <tr>\n",
              "      <th>9</th>\n",
              "      <td>0.000000</td>\n",
              "      <td>0.000000</td>\n",
              "      <td>0.000495</td>\n",
              "      <td>0.001486</td>\n",
              "      <td>0.005448</td>\n",
              "      <td>0.015849</td>\n",
              "      <td>0.180287</td>\n",
              "      <td>0.011392</td>\n",
              "      <td>0.596335</td>\n",
              "      <td>0.167410</td>\n",
              "      <td>0.008915</td>\n",
              "      <td>0.012382</td>\n",
              "    </tr>\n",
              "    <tr>\n",
              "      <th>10</th>\n",
              "      <td>0.000000</td>\n",
              "      <td>0.000000</td>\n",
              "      <td>0.000000</td>\n",
              "      <td>0.000000</td>\n",
              "      <td>0.002938</td>\n",
              "      <td>0.002938</td>\n",
              "      <td>0.030362</td>\n",
              "      <td>0.081293</td>\n",
              "      <td>0.115573</td>\n",
              "      <td>0.673849</td>\n",
              "      <td>0.075416</td>\n",
              "      <td>0.017630</td>\n",
              "    </tr>\n",
              "    <tr>\n",
              "      <th>11</th>\n",
              "      <td>0.000000</td>\n",
              "      <td>0.000000</td>\n",
              "      <td>0.000000</td>\n",
              "      <td>0.000000</td>\n",
              "      <td>0.000000</td>\n",
              "      <td>0.000000</td>\n",
              "      <td>0.000000</td>\n",
              "      <td>0.000000</td>\n",
              "      <td>0.000000</td>\n",
              "      <td>0.000000</td>\n",
              "      <td>1.000000</td>\n",
              "      <td>0.000000</td>\n",
              "    </tr>\n",
              "    <tr>\n",
              "      <th>12</th>\n",
              "      <td>0.003406</td>\n",
              "      <td>0.005551</td>\n",
              "      <td>0.001885</td>\n",
              "      <td>0.000521</td>\n",
              "      <td>0.000295</td>\n",
              "      <td>0.000206</td>\n",
              "      <td>0.000049</td>\n",
              "      <td>0.000003</td>\n",
              "      <td>0.000003</td>\n",
              "      <td>0.000008</td>\n",
              "      <td>0.000013</td>\n",
              "      <td>0.988061</td>\n",
              "    </tr>\n",
              "  </tbody>\n",
              "</table>\n",
              "</div>"
            ],
            "text/plain": [
              "Date1        1         2         3   ...        10        11        12\n",
              "Date0                                ...                              \n",
              "1      0.936569  0.000710  0.002334  ...  0.000000  0.000000  0.059524\n",
              "2      0.019365  0.963849  0.000397  ...  0.000000  0.000000  0.010548\n",
              "3      0.004233  0.024065  0.949582  ...  0.000000  0.000038  0.013234\n",
              "4      0.000164  0.015756  0.034138  ...  0.000000  0.000000  0.012473\n",
              "5      0.000000  0.017369  0.012062  ...  0.000000  0.000000  0.009810\n",
              "6      0.000000  0.003868  0.020394  ...  0.000000  0.000000  0.012541\n",
              "7      0.000000  0.000802  0.006950  ...  0.000936  0.000668  0.014969\n",
              "8      0.000000  0.000000  0.006063  ...  0.062500  0.001399  0.012127\n",
              "9      0.000000  0.000000  0.000495  ...  0.167410  0.008915  0.012382\n",
              "10     0.000000  0.000000  0.000000  ...  0.673849  0.075416  0.017630\n",
              "11     0.000000  0.000000  0.000000  ...  0.000000  1.000000  0.000000\n",
              "12     0.003406  0.005551  0.001885  ...  0.000008  0.000013  0.988061\n",
              "\n",
              "[12 rows x 12 columns]"
            ]
          },
          "metadata": {},
          "execution_count": 13
        }
      ]
    },
    {
      "cell_type": "markdown",
      "metadata": {
        "id": "RXSbB7vim_-z"
      },
      "source": [
        "### Matrice Mensuel Ajuste"
      ]
    },
    {
      "cell_type": "code",
      "metadata": {
        "id": "WvVTrfnYm-6Y"
      },
      "source": [
        "PIT_NR_AJUSTE = {}\n",
        "for i in range(1,132):\n",
        "  matrice=[]\n",
        "  for j in range(0,11):\n",
        "    matrice2=[]\n",
        "    for k in range(0,11):\n",
        "      matrice2.append(PIT_NR[i].iloc[j,k]/(1-PIT_NR[i].iloc[j,11]))\n",
        "    matrice.append(matrice2)\n",
        "  PIT_NR_AJUSTE[i]=pd.DataFrame(matrice,columns=[\"1\",\"2\",\"3\",\"4\",\"5\",\"6\",\"7\",\"8\",\"9\",\"10\",\"D\"],index=[\"1\",\"2\",\"3\",\"4\",\"5\",\"6\",\"7\",\"8\",\"9\",\"10\",\"D\"])"
      ],
      "execution_count": 9,
      "outputs": []
    },
    {
      "cell_type": "markdown",
      "metadata": {
        "id": "5ZEzF6udng7A"
      },
      "source": [
        "### Matrice PIT Mensuel Ajuste Cumule"
      ]
    },
    {
      "cell_type": "code",
      "metadata": {
        "id": "IaaXVeIYnO_Y"
      },
      "source": [
        "PIT_MENS_CUMULE = {}\n",
        "for i in range(1,132):\n",
        "  matrice1=[]\n",
        "  for j in range(0,11):\n",
        "    matrice2=[PIT_NR_AJUSTE[i].iloc[j,10]]\n",
        "    compteur=PIT_NR_AJUSTE[i].iloc[j,10]\n",
        "    for k in reversed(range(0,10)):\n",
        "      compteur=PIT_NR_AJUSTE[i].iloc[j,k]+compteur\n",
        "      matrice2.append(compteur)\n",
        "    matrice1.append(list(reversed(matrice2)))\n",
        "  PIT_MENS_CUMULE[i]=pd.DataFrame(matrice1,columns=[\"1\",\"2\",\"3\",\"4\",\"5\",\"6\",\"7\",\"8\",\"9\",\"10\",\"D\"],index=[\"1\",\"2\",\"3\",\"4\",\"5\",\"6\",\"7\",\"8\",\"9\",\"10\",\"D\"])"
      ],
      "execution_count": 10,
      "outputs": []
    },
    {
      "cell_type": "markdown",
      "metadata": {
        "id": "_O4q0xdMcIjE"
      },
      "source": [
        "### Matrice PIT mensuel a horizon 12 mois\n"
      ]
    },
    {
      "cell_type": "markdown",
      "metadata": {
        "id": "ICyN_48bo4Pk"
      },
      "source": [
        "Premiere methode en prenant les gens qui sont dans la base a la t et regard sur +12 dans quelle classe ils sont"
      ]
    },
    {
      "cell_type": "code",
      "metadata": {
        "id": "jzpxRggbcNhv"
      },
      "source": [
        "# PIT_NR_12={}\n",
        "# for i in range(1,85):\n",
        "#   u=df4.columns[i]\n",
        "#   m=df4.columns[i+12]\n",
        "#   PIT_NR_12[i]=pd.crosstab(df4[u],df4[m],normalize=\"index\")"
      ],
      "execution_count": 16,
      "outputs": []
    },
    {
      "cell_type": "markdown",
      "metadata": {
        "id": "QCVdVXQfpDG4"
      },
      "source": [
        "### Version du Cours pour matrice PIT + 12 mois\n",
        "\n"
      ]
    },
    {
      "cell_type": "code",
      "metadata": {
        "id": "pE_zA00hcoC8"
      },
      "source": [
        "PIT_12 = []\n",
        "for k in range(1,121) :\n",
        "  matrice = PIT_NR_AJUSTE[k].to_numpy()\n",
        "  for i in range(1,12) :\n",
        "    matrice = np.dot(matrice,PIT_NR_AJUSTE[k+i].to_numpy())\n",
        "  PIT_12.append(matrice)"
      ],
      "execution_count": 11,
      "outputs": []
    },
    {
      "cell_type": "markdown",
      "metadata": {
        "id": "puuaPseFrVzS"
      },
      "source": [
        "### Passage du array numpy a un dict en Dataframe"
      ]
    },
    {
      "cell_type": "code",
      "metadata": {
        "id": "agJ5p-gVrCuk"
      },
      "source": [
        "# PIT_NR_12_AJUSTE={}\n",
        "# for i in range(1,85) :\n",
        "#   PIT_NR_12_AJUSTE[i]=pd.DataFrame(PIT_12[i-1],columns=[\"1\",\"2\",\"3\",\"4\",\"5\",\"6\",\"7\",\"8\",\"9\",\"10\",\"D\"],index=[\"1\",\"2\",\"3\",\"4\",\"5\",\"6\",\"7\",\"8\",\"9\",\"10\",\"D\"])\n"
      ],
      "execution_count": 18,
      "outputs": []
    },
    {
      "cell_type": "markdown",
      "source": [
        "### Version Methodo DRIM"
      ],
      "metadata": {
        "id": "qFnWx8hgW41J"
      }
    },
    {
      "cell_type": "code",
      "source": [
        "PIT_NR_12_AJUSTE = {}\n",
        "for i in range(1,121):\n",
        "  PIT_NR_12_AJUSTE[i]=PIT_NR_AJUSTE[i]\n",
        "  for j in range(1,12):\n",
        "    PIT_NR_12_AJUSTE[i]=PIT_NR_12_AJUSTE[i]+PIT_NR_AJUSTE[i+j]\n",
        "  PIT_NR_12_AJUSTE[i]=PIT_NR_12_AJUSTE[i]/12\n"
      ],
      "metadata": {
        "id": "ymCQP-gPW6w2"
      },
      "execution_count": 12,
      "outputs": []
    },
    {
      "cell_type": "code",
      "source": [
        "PIT_NR_12_AJUSTE[20]"
      ],
      "metadata": {
        "colab": {
          "base_uri": "https://localhost:8080/",
          "height": 394
        },
        "id": "pHpymymVZ2cJ",
        "outputId": "8914acc7-5d38-4a1d-b77c-87470b896327"
      },
      "execution_count": 21,
      "outputs": [
        {
          "output_type": "execute_result",
          "data": {
            "text/html": [
              "<div>\n",
              "<style scoped>\n",
              "    .dataframe tbody tr th:only-of-type {\n",
              "        vertical-align: middle;\n",
              "    }\n",
              "\n",
              "    .dataframe tbody tr th {\n",
              "        vertical-align: top;\n",
              "    }\n",
              "\n",
              "    .dataframe thead th {\n",
              "        text-align: right;\n",
              "    }\n",
              "</style>\n",
              "<table border=\"1\" class=\"dataframe\">\n",
              "  <thead>\n",
              "    <tr style=\"text-align: right;\">\n",
              "      <th></th>\n",
              "      <th>1</th>\n",
              "      <th>2</th>\n",
              "      <th>3</th>\n",
              "      <th>4</th>\n",
              "      <th>5</th>\n",
              "      <th>6</th>\n",
              "      <th>7</th>\n",
              "      <th>8</th>\n",
              "      <th>9</th>\n",
              "      <th>10</th>\n",
              "      <th>D</th>\n",
              "    </tr>\n",
              "  </thead>\n",
              "  <tbody>\n",
              "    <tr>\n",
              "      <th>1</th>\n",
              "      <td>0.978695</td>\n",
              "      <td>0.011293</td>\n",
              "      <td>0.007261</td>\n",
              "      <td>0.002041</td>\n",
              "      <td>0.000184</td>\n",
              "      <td>0.000346</td>\n",
              "      <td>0.000102</td>\n",
              "      <td>0.000047</td>\n",
              "      <td>0.000024</td>\n",
              "      <td>0.000002</td>\n",
              "      <td>0.000005</td>\n",
              "    </tr>\n",
              "    <tr>\n",
              "      <th>2</th>\n",
              "      <td>0.035118</td>\n",
              "      <td>0.952778</td>\n",
              "      <td>0.001011</td>\n",
              "      <td>0.001986</td>\n",
              "      <td>0.003759</td>\n",
              "      <td>0.004020</td>\n",
              "      <td>0.001081</td>\n",
              "      <td>0.000162</td>\n",
              "      <td>0.000083</td>\n",
              "      <td>0.000000</td>\n",
              "      <td>0.000003</td>\n",
              "    </tr>\n",
              "    <tr>\n",
              "      <th>3</th>\n",
              "      <td>0.006497</td>\n",
              "      <td>0.029337</td>\n",
              "      <td>0.952787</td>\n",
              "      <td>0.000367</td>\n",
              "      <td>0.000375</td>\n",
              "      <td>0.003723</td>\n",
              "      <td>0.004963</td>\n",
              "      <td>0.001432</td>\n",
              "      <td>0.000374</td>\n",
              "      <td>0.000139</td>\n",
              "      <td>0.000005</td>\n",
              "    </tr>\n",
              "    <tr>\n",
              "      <th>4</th>\n",
              "      <td>0.000069</td>\n",
              "      <td>0.013921</td>\n",
              "      <td>0.030832</td>\n",
              "      <td>0.938729</td>\n",
              "      <td>0.000506</td>\n",
              "      <td>0.000477</td>\n",
              "      <td>0.011335</td>\n",
              "      <td>0.000114</td>\n",
              "      <td>0.003774</td>\n",
              "      <td>0.000210</td>\n",
              "      <td>0.000033</td>\n",
              "    </tr>\n",
              "    <tr>\n",
              "      <th>5</th>\n",
              "      <td>0.000060</td>\n",
              "      <td>0.013327</td>\n",
              "      <td>0.011103</td>\n",
              "      <td>0.020808</td>\n",
              "      <td>0.934680</td>\n",
              "      <td>0.000562</td>\n",
              "      <td>0.013163</td>\n",
              "      <td>0.000398</td>\n",
              "      <td>0.005552</td>\n",
              "      <td>0.000291</td>\n",
              "      <td>0.000058</td>\n",
              "    </tr>\n",
              "    <tr>\n",
              "      <th>6</th>\n",
              "      <td>0.000085</td>\n",
              "      <td>0.001325</td>\n",
              "      <td>0.018202</td>\n",
              "      <td>0.002440</td>\n",
              "      <td>0.014066</td>\n",
              "      <td>0.934151</td>\n",
              "      <td>0.001920</td>\n",
              "      <td>0.015953</td>\n",
              "      <td>0.008624</td>\n",
              "      <td>0.003098</td>\n",
              "      <td>0.000135</td>\n",
              "    </tr>\n",
              "    <tr>\n",
              "      <th>7</th>\n",
              "      <td>0.000000</td>\n",
              "      <td>0.001612</td>\n",
              "      <td>0.003716</td>\n",
              "      <td>0.012927</td>\n",
              "      <td>0.010244</td>\n",
              "      <td>0.014826</td>\n",
              "      <td>0.910604</td>\n",
              "      <td>0.001808</td>\n",
              "      <td>0.024931</td>\n",
              "      <td>0.018564</td>\n",
              "      <td>0.000767</td>\n",
              "    </tr>\n",
              "    <tr>\n",
              "      <th>8</th>\n",
              "      <td>0.000000</td>\n",
              "      <td>0.000592</td>\n",
              "      <td>0.009026</td>\n",
              "      <td>0.001579</td>\n",
              "      <td>0.001183</td>\n",
              "      <td>0.064152</td>\n",
              "      <td>0.040598</td>\n",
              "      <td>0.794819</td>\n",
              "      <td>0.018426</td>\n",
              "      <td>0.065358</td>\n",
              "      <td>0.004267</td>\n",
              "    </tr>\n",
              "    <tr>\n",
              "      <th>9</th>\n",
              "      <td>0.000052</td>\n",
              "      <td>0.001327</td>\n",
              "      <td>0.002249</td>\n",
              "      <td>0.010183</td>\n",
              "      <td>0.013315</td>\n",
              "      <td>0.034024</td>\n",
              "      <td>0.117899</td>\n",
              "      <td>0.021633</td>\n",
              "      <td>0.639488</td>\n",
              "      <td>0.134693</td>\n",
              "      <td>0.025137</td>\n",
              "    </tr>\n",
              "    <tr>\n",
              "      <th>10</th>\n",
              "      <td>0.000000</td>\n",
              "      <td>0.000193</td>\n",
              "      <td>0.000586</td>\n",
              "      <td>0.001910</td>\n",
              "      <td>0.002083</td>\n",
              "      <td>0.018582</td>\n",
              "      <td>0.108749</td>\n",
              "      <td>0.090394</td>\n",
              "      <td>0.111306</td>\n",
              "      <td>0.444330</td>\n",
              "      <td>0.221868</td>\n",
              "    </tr>\n",
              "    <tr>\n",
              "      <th>D</th>\n",
              "      <td>0.000000</td>\n",
              "      <td>0.000000</td>\n",
              "      <td>0.000000</td>\n",
              "      <td>0.000000</td>\n",
              "      <td>0.000000</td>\n",
              "      <td>0.000000</td>\n",
              "      <td>0.000000</td>\n",
              "      <td>0.000000</td>\n",
              "      <td>0.000000</td>\n",
              "      <td>0.000000</td>\n",
              "      <td>1.000000</td>\n",
              "    </tr>\n",
              "  </tbody>\n",
              "</table>\n",
              "</div>"
            ],
            "text/plain": [
              "           1         2         3  ...         9        10         D\n",
              "1   0.978695  0.011293  0.007261  ...  0.000024  0.000002  0.000005\n",
              "2   0.035118  0.952778  0.001011  ...  0.000083  0.000000  0.000003\n",
              "3   0.006497  0.029337  0.952787  ...  0.000374  0.000139  0.000005\n",
              "4   0.000069  0.013921  0.030832  ...  0.003774  0.000210  0.000033\n",
              "5   0.000060  0.013327  0.011103  ...  0.005552  0.000291  0.000058\n",
              "6   0.000085  0.001325  0.018202  ...  0.008624  0.003098  0.000135\n",
              "7   0.000000  0.001612  0.003716  ...  0.024931  0.018564  0.000767\n",
              "8   0.000000  0.000592  0.009026  ...  0.018426  0.065358  0.004267\n",
              "9   0.000052  0.001327  0.002249  ...  0.639488  0.134693  0.025137\n",
              "10  0.000000  0.000193  0.000586  ...  0.111306  0.444330  0.221868\n",
              "D   0.000000  0.000000  0.000000  ...  0.000000  0.000000  1.000000\n",
              "\n",
              "[11 rows x 11 columns]"
            ]
          },
          "metadata": {},
          "execution_count": 21
        }
      ]
    },
    {
      "cell_type": "markdown",
      "metadata": {
        "id": "BFnKAOUJ1t4d"
      },
      "source": [
        "### Matrice PIT Cumule"
      ]
    },
    {
      "cell_type": "code",
      "metadata": {
        "id": "i6DPbiSF1tIi"
      },
      "source": [
        "PIT_CUMULE = {}\n",
        "for i in range(1,121):\n",
        "  matrice1=[]\n",
        "  for j in range(0,11):\n",
        "    matrice2=[PIT_NR_12_AJUSTE[i].iloc[j,10]]\n",
        "    compteur=PIT_NR_12_AJUSTE[i].iloc[j,10]\n",
        "    for k in reversed(range(0,10)):\n",
        "      compteur=PIT_NR_12_AJUSTE[i].iloc[j,k]+compteur\n",
        "      matrice2.append(compteur)\n",
        "    matrice1.append(list(reversed(matrice2)))\n",
        "  PIT_CUMULE[i]=pd.DataFrame(matrice1,columns=[\"1\",\"2\",\"3\",\"4\",\"5\",\"6\",\"7\",\"8\",\"9\",\"10\",\"D\"],index=[\"1\",\"2\",\"3\",\"4\",\"5\",\"6\",\"7\",\"8\",\"9\",\"10\",\"D\"])"
      ],
      "execution_count": 13,
      "outputs": []
    },
    {
      "cell_type": "code",
      "source": [
        "for i in range(1,121):\n",
        "  PIT_NR_12_AJUSTE[i].to_excel(\"MAtrice Empirique/PIT_Empirique\"+str(i)+\".xlsx\")"
      ],
      "metadata": {
        "id": "ruFh1IwUZ-VJ"
      },
      "execution_count": 17,
      "outputs": []
    },
    {
      "cell_type": "code",
      "metadata": {
        "id": "GPrESBuZAq30"
      },
      "source": [
        "# for i in range(1,121):\n",
        "#   PIT_CUMULE[i].to_excel(\"PIT_CUMULE\"+str(i)+\".xlsx\")"
      ],
      "execution_count": 35,
      "outputs": []
    },
    {
      "cell_type": "markdown",
      "metadata": {
        "id": "AG18ad1A4XhZ"
      },
      "source": [
        "### Matrice TTC"
      ]
    },
    {
      "cell_type": "code",
      "metadata": {
        "colab": {
          "base_uri": "https://localhost:8080/",
          "height": 394
        },
        "id": "7AA2Chks4aH0",
        "outputId": "ce5101a1-c771-48a8-d0f8-61facb29e1d0"
      },
      "source": [
        "TTC=PIT_NR_12_AJUSTE[1]\n",
        "for i in range(2,85):\n",
        "  TTC=TTC+PIT_NR_12_AJUSTE[i]\n",
        "TTC=TTC/len(PIT_NR_12_AJUSTE)\n",
        "TTC"
      ],
      "execution_count": 24,
      "outputs": [
        {
          "output_type": "execute_result",
          "data": {
            "text/html": [
              "<div>\n",
              "<style scoped>\n",
              "    .dataframe tbody tr th:only-of-type {\n",
              "        vertical-align: middle;\n",
              "    }\n",
              "\n",
              "    .dataframe tbody tr th {\n",
              "        vertical-align: top;\n",
              "    }\n",
              "\n",
              "    .dataframe thead th {\n",
              "        text-align: right;\n",
              "    }\n",
              "</style>\n",
              "<table border=\"1\" class=\"dataframe\">\n",
              "  <thead>\n",
              "    <tr style=\"text-align: right;\">\n",
              "      <th></th>\n",
              "      <th>1</th>\n",
              "      <th>2</th>\n",
              "      <th>3</th>\n",
              "      <th>4</th>\n",
              "      <th>5</th>\n",
              "      <th>6</th>\n",
              "      <th>7</th>\n",
              "      <th>8</th>\n",
              "      <th>9</th>\n",
              "      <th>10</th>\n",
              "      <th>D</th>\n",
              "    </tr>\n",
              "  </thead>\n",
              "  <tbody>\n",
              "    <tr>\n",
              "      <th>1</th>\n",
              "      <td>0.969605</td>\n",
              "      <td>0.015225</td>\n",
              "      <td>0.012078</td>\n",
              "      <td>0.002383</td>\n",
              "      <td>0.000179</td>\n",
              "      <td>0.000384</td>\n",
              "      <td>0.000072</td>\n",
              "      <td>0.000042</td>\n",
              "      <td>0.000022</td>\n",
              "      <td>0.000003</td>\n",
              "      <td>0.000007</td>\n",
              "    </tr>\n",
              "    <tr>\n",
              "      <th>2</th>\n",
              "      <td>0.026616</td>\n",
              "      <td>0.958455</td>\n",
              "      <td>0.001579</td>\n",
              "      <td>0.002907</td>\n",
              "      <td>0.004253</td>\n",
              "      <td>0.004971</td>\n",
              "      <td>0.001039</td>\n",
              "      <td>0.000086</td>\n",
              "      <td>0.000081</td>\n",
              "      <td>0.000004</td>\n",
              "      <td>0.000011</td>\n",
              "    </tr>\n",
              "    <tr>\n",
              "      <th>3</th>\n",
              "      <td>0.004912</td>\n",
              "      <td>0.028080</td>\n",
              "      <td>0.955167</td>\n",
              "      <td>0.000338</td>\n",
              "      <td>0.000384</td>\n",
              "      <td>0.004373</td>\n",
              "      <td>0.005025</td>\n",
              "      <td>0.001395</td>\n",
              "      <td>0.000204</td>\n",
              "      <td>0.000102</td>\n",
              "      <td>0.000018</td>\n",
              "    </tr>\n",
              "    <tr>\n",
              "      <th>4</th>\n",
              "      <td>0.000060</td>\n",
              "      <td>0.013013</td>\n",
              "      <td>0.030532</td>\n",
              "      <td>0.940600</td>\n",
              "      <td>0.000483</td>\n",
              "      <td>0.000680</td>\n",
              "      <td>0.011158</td>\n",
              "      <td>0.000105</td>\n",
              "      <td>0.003130</td>\n",
              "      <td>0.000168</td>\n",
              "      <td>0.000071</td>\n",
              "    </tr>\n",
              "    <tr>\n",
              "      <th>5</th>\n",
              "      <td>0.000058</td>\n",
              "      <td>0.009679</td>\n",
              "      <td>0.008554</td>\n",
              "      <td>0.022814</td>\n",
              "      <td>0.940375</td>\n",
              "      <td>0.000655</td>\n",
              "      <td>0.012474</td>\n",
              "      <td>0.000428</td>\n",
              "      <td>0.004618</td>\n",
              "      <td>0.000235</td>\n",
              "      <td>0.000111</td>\n",
              "    </tr>\n",
              "    <tr>\n",
              "      <th>6</th>\n",
              "      <td>0.000074</td>\n",
              "      <td>0.000908</td>\n",
              "      <td>0.014687</td>\n",
              "      <td>0.001836</td>\n",
              "      <td>0.016035</td>\n",
              "      <td>0.940563</td>\n",
              "      <td>0.001742</td>\n",
              "      <td>0.014122</td>\n",
              "      <td>0.006946</td>\n",
              "      <td>0.002819</td>\n",
              "      <td>0.000268</td>\n",
              "    </tr>\n",
              "    <tr>\n",
              "      <th>7</th>\n",
              "      <td>0.000037</td>\n",
              "      <td>0.000959</td>\n",
              "      <td>0.002446</td>\n",
              "      <td>0.008617</td>\n",
              "      <td>0.009279</td>\n",
              "      <td>0.017168</td>\n",
              "      <td>0.917630</td>\n",
              "      <td>0.001850</td>\n",
              "      <td>0.022649</td>\n",
              "      <td>0.018326</td>\n",
              "      <td>0.001041</td>\n",
              "    </tr>\n",
              "    <tr>\n",
              "      <th>8</th>\n",
              "      <td>0.000039</td>\n",
              "      <td>0.000398</td>\n",
              "      <td>0.006055</td>\n",
              "      <td>0.001160</td>\n",
              "      <td>0.001204</td>\n",
              "      <td>0.043047</td>\n",
              "      <td>0.036846</td>\n",
              "      <td>0.831985</td>\n",
              "      <td>0.014317</td>\n",
              "      <td>0.061391</td>\n",
              "      <td>0.003557</td>\n",
              "    </tr>\n",
              "    <tr>\n",
              "      <th>9</th>\n",
              "      <td>0.000042</td>\n",
              "      <td>0.000694</td>\n",
              "      <td>0.001323</td>\n",
              "      <td>0.006223</td>\n",
              "      <td>0.009601</td>\n",
              "      <td>0.024938</td>\n",
              "      <td>0.089394</td>\n",
              "      <td>0.020998</td>\n",
              "      <td>0.707054</td>\n",
              "      <td>0.121402</td>\n",
              "      <td>0.018330</td>\n",
              "    </tr>\n",
              "    <tr>\n",
              "      <th>10</th>\n",
              "      <td>0.000008</td>\n",
              "      <td>0.000102</td>\n",
              "      <td>0.000548</td>\n",
              "      <td>0.001312</td>\n",
              "      <td>0.001967</td>\n",
              "      <td>0.015405</td>\n",
              "      <td>0.094789</td>\n",
              "      <td>0.090381</td>\n",
              "      <td>0.119783</td>\n",
              "      <td>0.491216</td>\n",
              "      <td>0.184490</td>\n",
              "    </tr>\n",
              "    <tr>\n",
              "      <th>D</th>\n",
              "      <td>0.000000</td>\n",
              "      <td>0.000000</td>\n",
              "      <td>0.000000</td>\n",
              "      <td>0.000000</td>\n",
              "      <td>0.000000</td>\n",
              "      <td>0.000000</td>\n",
              "      <td>0.000000</td>\n",
              "      <td>0.000000</td>\n",
              "      <td>0.000000</td>\n",
              "      <td>0.000000</td>\n",
              "      <td>1.000000</td>\n",
              "    </tr>\n",
              "  </tbody>\n",
              "</table>\n",
              "</div>"
            ],
            "text/plain": [
              "           1         2         3  ...         9        10         D\n",
              "1   0.969605  0.015225  0.012078  ...  0.000022  0.000003  0.000007\n",
              "2   0.026616  0.958455  0.001579  ...  0.000081  0.000004  0.000011\n",
              "3   0.004912  0.028080  0.955167  ...  0.000204  0.000102  0.000018\n",
              "4   0.000060  0.013013  0.030532  ...  0.003130  0.000168  0.000071\n",
              "5   0.000058  0.009679  0.008554  ...  0.004618  0.000235  0.000111\n",
              "6   0.000074  0.000908  0.014687  ...  0.006946  0.002819  0.000268\n",
              "7   0.000037  0.000959  0.002446  ...  0.022649  0.018326  0.001041\n",
              "8   0.000039  0.000398  0.006055  ...  0.014317  0.061391  0.003557\n",
              "9   0.000042  0.000694  0.001323  ...  0.707054  0.121402  0.018330\n",
              "10  0.000008  0.000102  0.000548  ...  0.119783  0.491216  0.184490\n",
              "D   0.000000  0.000000  0.000000  ...  0.000000  0.000000  1.000000\n",
              "\n",
              "[11 rows x 11 columns]"
            ]
          },
          "metadata": {},
          "execution_count": 24
        }
      ]
    },
    {
      "cell_type": "markdown",
      "metadata": {
        "id": "fC5obX0IDdec"
      },
      "source": [
        "### TTC Cumule"
      ]
    },
    {
      "cell_type": "code",
      "metadata": {
        "id": "Q4Not9PbDfmD"
      },
      "source": [
        "matrice1=[]\n",
        "for j in range(0,11):\n",
        "  matrice2=[TTC.iloc[j,10]]\n",
        "  compteur=TTC.iloc[j,10]\n",
        "  for k in reversed(range(0,10)):\n",
        "    compteur=TTC.iloc[j,k]+compteur\n",
        "    matrice2.append(compteur)\n",
        "  matrice1.append(list(reversed(matrice2)))\n",
        "TTC_CUMULE=pd.DataFrame(matrice1,columns=[\"1\",\"2\",\"3\",\"4\",\"5\",\"6\",\"7\",\"8\",\"9\",\"10\",\"D\"],index=[\"1\",\"2\",\"3\",\"4\",\"5\",\"6\",\"7\",\"8\",\"9\",\"10\",\"D\"])\n",
        "TTC_CUMULE\n",
        "#TTC_CUMULE.to_excel(\"TTC_C.xlsx\")"
      ],
      "execution_count": 36,
      "outputs": []
    },
    {
      "cell_type": "markdown",
      "metadata": {
        "id": "MvltsfBH470U"
      },
      "source": [
        "# Taux de Defaut"
      ]
    },
    {
      "cell_type": "markdown",
      "metadata": {
        "id": "rPl_PSBobXY_"
      },
      "source": [
        "## Calcul du Taux de Defaut Empirique"
      ]
    },
    {
      "cell_type": "code",
      "source": [
        "# PIT_12=[]\n",
        "# for i in range(1,85):\n",
        "#   liste=[]\n",
        "#   for j in range(0,11):\n",
        "#     liste.append(PIT_NR_12_AJUSTE[i].iloc[:,j].tolist())\n",
        "#   PIT_12.append(np.array(liste))"
      ],
      "metadata": {
        "id": "UXPTujnBa2JF"
      },
      "execution_count": 26,
      "outputs": []
    },
    {
      "cell_type": "code",
      "metadata": {
        "colab": {
          "base_uri": "https://localhost:8080/"
        },
        "id": "EDuGMulC4bTk",
        "outputId": "04bbe9b9-996b-4029-fde2-7ef8c4b44355"
      },
      "source": [
        "DR_annuel =[]\n",
        "for k in range(0,len(PIT_12)) :\n",
        "  Defaut = np.transpose(pd.DataFrame(df2.iloc[:,k+1].value_counts()).sort_index(axis = 0, ascending = True).to_numpy())@PIT_12[k]\n",
        "  Tx_DR = Defaut[0,10]/sum(Defaut[0])\n",
        "  DR_annuel.append(Tx_DR)\n",
        "print(DR_annuel)"
      ],
      "execution_count": 14,
      "outputs": [
        {
          "output_type": "stream",
          "name": "stdout",
          "text": [
            "[0.06323287022978022, 0.06163850915616854, 0.055020306155498334, 0.05298694872363413, 0.05270742873292758, 0.052255358270242275, 0.05203383643749418, 0.05307515934807887, 0.05322927298227999, 0.052821178200599644, 0.05203397155401317, 0.05155556911646777, 0.051427923168377715, 0.05051483915342187, 0.05012161915509601, 0.050277335748037014, 0.05052270642443089, 0.050769485380956846, 0.051108496098072685, 0.051472697040830705, 0.04624229476742066, 0.04629618920621155, 0.045952950828409396, 0.04602435215719956, 0.04625741426099205, 0.04587786972051637, 0.047663484919776955, 0.04773957703420087, 0.045190382106238235, 0.04612580834628971, 0.04711376918698887, 0.04763403948925948, 0.04834609527132462, 0.04806448765771673, 0.04903350385265545, 0.04981139402638576, 0.050965913004418065, 0.051381294215087275, 0.04915510588925234, 0.048761791814939365, 0.05008796849177048, 0.05095811996021929, 0.0514475818957455, 0.0527534957955137, 0.05312836862047044, 0.053669009560608626, 0.05494222859699939, 0.056163775146247874, 0.05607478719782093, 0.05505229752532997, 0.05563963765850451, 0.054860189012515305, 0.05360251603336817, 0.053624436746971135, 0.05330464810541426, 0.053191624052731354, 0.049896910151609915, 0.04928862787077573, 0.048972486044138175, 0.04826612999819794, 0.047776097188738674, 0.047146588721981304, 0.04592356353372622, 0.044947497408036066, 0.04420816275550751, 0.04007387421738792, 0.0397053088248434, 0.04010924656738744, 0.03991126378599929, 0.03970718316295427, 0.03969342753173466, 0.03898019049411669, 0.03871101974315107, 0.037309938261496894, 0.03697151730695369, 0.03190203816603631, 0.03212728553331505, 0.0323997418731086, 0.032729328245770364, 0.03308834397250349, 0.03332923006156598, 0.03331624961477273, 0.03344467308212279, 0.03332086281288712, 0.03330583633606953, 0.03234244718944529, 0.03228751796242195, 0.03191371699464262, 0.029372665021533274, 0.02950173997019536, 0.029688294757403595, 0.029946722171384044, 0.029919470101975387, 0.02992476415839845, 0.029636848693538505, 0.02950966264410752, 0.03000621054875541, 0.029292250102290526, 0.029574271194370023, 0.02928437374787789, 0.029824733297701012, 0.02993170238502943, 0.02992938021958936, 0.02997249214534461, 0.030106742243224013, 0.03012980569163066, 0.03005069765952625, 0.02996782890668796, 0.03000799172991884, 0.02997665341370485, 0.029871057823326143, 0.0299791374791067, 0.03050656983509187, 0.0313816648303798, 0.031665164710259514, 0.03151220931288219, 0.031364804215820406, 0.02932364871197636, 0.029149576857806704, 0.02873789226956487]\n"
          ]
        }
      ]
    },
    {
      "cell_type": "markdown",
      "metadata": {
        "id": "iiKYZfey4vhw"
      },
      "source": [
        "## Comparaison avec le taux de defaut historique"
      ]
    },
    {
      "cell_type": "code",
      "metadata": {
        "colab": {
          "base_uri": "https://localhost:8080/",
          "height": 281
        },
        "id": "lU8vMlUg5C72",
        "outputId": "e920a39f-44d8-415b-84ae-52dbd74ade63"
      },
      "source": [
        "DR_Histo = pd.read_excel(\"DR_Histo.xlsx\")\n",
        "DR_Histo=pd.concat([DR_Histo,pd.DataFrame(DR_annuel)],axis=1)\n",
        "DR_Histo.columns=[\"Date\",\"Taux_Defaut_Historique\",\"Taux_Defaut_Projete\"]\n",
        "plt.plot(DR_Histo[\"Date\"],DR_Histo[\"Taux_Defaut_Historique\"])\n",
        "plt.plot(DR_Histo[\"Date\"],DR_Histo[\"Taux_Defaut_Projete\"])\n",
        "plt.legend([\"Taux Defaut Historique\",\"Taux Defaut Projete\"])\n",
        "plt.title(\"Comparaison entre les deux taux de défauts\")\n",
        "plt.show()\n"
      ],
      "execution_count": 15,
      "outputs": [
        {
          "output_type": "display_data",
          "data": {
            "image/png": "[encoded data removed]",
            "text/plain": [
              "<Figure size 432x288 with 1 Axes>"
            ]
          },
          "metadata": {
            "needs_background": "light"
          }
        }
      ]
    },
    {
      "cell_type": "markdown",
      "metadata": {
        "id": "AGo1vsnMNPk3"
      },
      "source": [
        "## Mise en place d'un AR pour le taux de defaut projete"
      ]
    },
    {
      "cell_type": "code",
      "metadata": {
        "colab": {
          "base_uri": "https://localhost:8080/",
          "height": 336
        },
        "id": "8KIyZyh1NOgS",
        "outputId": "112f7af6-8f57-409a-ae4f-742f14a247ab"
      },
      "source": [
        "# from statsmodels.tsa.ar_model import AutoReg\n",
        "# from statsmodels.graphics.tsaplots import plot_pacf\n",
        "\n",
        "# pacf = plot_pacf(DR_annuel, lags=10)\n",
        "# ar_model = AutoReg(DR_annuel, lags=1).fit()\n",
        "# pred = ar_model.predict(start=0, end=len(DR_annuel)-1, dynamic=False)\n",
        "\n",
        "# DR_Histo=pd.concat([DR_Histo,pd.DataFrame(pred)],axis=1)\n"
      ],
      "execution_count": 29,
      "outputs": [
        {
          "output_type": "stream",
          "name": "stderr",
          "text": [
            "/usr/local/lib/python3.7/dist-packages/statsmodels/graphics/tsaplots.py:353: FutureWarning: The default method 'yw' can produce PACF values outside of the [-1,1] interval. After 0.13, the default will change tounadjusted Yule-Walker ('ywm'). You can use this method now by setting method='ywm'.\n",
            "  FutureWarning,\n"
          ]
        },
        {
          "output_type": "display_data",
          "data": {
            "image/png": "[encoded data removed]",
            "text/plain": [
              "<Figure size 432x288 with 1 Axes>"
            ]
          },
          "metadata": {
            "needs_background": "light"
          }
        }
      ]
    },
    {
      "cell_type": "markdown",
      "metadata": {
        "id": "51gn1LCyMP82"
      },
      "source": [
        "## Exportation du taux de defaut projete"
      ]
    },
    {
      "cell_type": "code",
      "metadata": {
        "id": "rw9Ps4UeMdRu"
      },
      "source": [
        "# DR_Histo.columns=[\"Date\",\"Taux_Defaut_Historique\",\"Taux_Defaut_Projete\",\"AR\"]\n",
        "DR_Histo.to_excel(\"Taux_Defaut_Projet.xlsx\")"
      ],
      "execution_count": 19,
      "outputs": []
    },
    {
      "cell_type": "markdown",
      "metadata": {
        "id": "D7PY3SrbVy0W"
      },
      "source": [
        "# Modele Satellite ML"
      ]
    },
    {
      "cell_type": "code",
      "metadata": {
        "colab": {
          "base_uri": "https://localhost:8080/",
          "height": 423
        },
        "id": "gZRa_fMuZSu-",
        "outputId": "7049debe-583c-44e0-f827-a7067d968007"
      },
      "source": [
        "DR_Histo.head(85)"
      ],
      "execution_count": 31,
      "outputs": [
        {
          "output_type": "execute_result",
          "data": {
            "text/html": [
              "<div>\n",
              "<style scoped>\n",
              "    .dataframe tbody tr th:only-of-type {\n",
              "        vertical-align: middle;\n",
              "    }\n",
              "\n",
              "    .dataframe tbody tr th {\n",
              "        vertical-align: top;\n",
              "    }\n",
              "\n",
              "    .dataframe thead th {\n",
              "        text-align: right;\n",
              "    }\n",
              "</style>\n",
              "<table border=\"1\" class=\"dataframe\">\n",
              "  <thead>\n",
              "    <tr style=\"text-align: right;\">\n",
              "      <th></th>\n",
              "      <th>Date</th>\n",
              "      <th>Taux_Defaut_Historique</th>\n",
              "      <th>Taux_Defaut_Projete</th>\n",
              "      <th>AR</th>\n",
              "    </tr>\n",
              "  </thead>\n",
              "  <tbody>\n",
              "    <tr>\n",
              "      <th>0</th>\n",
              "      <td>2010-01-31</td>\n",
              "      <td>0.059661</td>\n",
              "      <td>0.063233</td>\n",
              "      <td>NaN</td>\n",
              "    </tr>\n",
              "    <tr>\n",
              "      <th>1</th>\n",
              "      <td>2010-02-28</td>\n",
              "      <td>0.052415</td>\n",
              "      <td>0.061639</td>\n",
              "      <td>0.062451</td>\n",
              "    </tr>\n",
              "    <tr>\n",
              "      <th>2</th>\n",
              "      <td>2010-03-31</td>\n",
              "      <td>0.051614</td>\n",
              "      <td>0.055020</td>\n",
              "      <td>0.060900</td>\n",
              "    </tr>\n",
              "    <tr>\n",
              "      <th>3</th>\n",
              "      <td>2010-04-30</td>\n",
              "      <td>0.049995</td>\n",
              "      <td>0.052987</td>\n",
              "      <td>0.054460</td>\n",
              "    </tr>\n",
              "    <tr>\n",
              "      <th>4</th>\n",
              "      <td>2010-05-31</td>\n",
              "      <td>0.049792</td>\n",
              "      <td>0.052707</td>\n",
              "      <td>0.052481</td>\n",
              "    </tr>\n",
              "    <tr>\n",
              "      <th>...</th>\n",
              "      <td>...</td>\n",
              "      <td>...</td>\n",
              "      <td>...</td>\n",
              "      <td>...</td>\n",
              "    </tr>\n",
              "    <tr>\n",
              "      <th>80</th>\n",
              "      <td>2016-09-30</td>\n",
              "      <td>0.030966</td>\n",
              "      <td>0.033329</td>\n",
              "      <td>0.033119</td>\n",
              "    </tr>\n",
              "    <tr>\n",
              "      <th>81</th>\n",
              "      <td>2016-10-31</td>\n",
              "      <td>0.030967</td>\n",
              "      <td>0.033316</td>\n",
              "      <td>0.033354</td>\n",
              "    </tr>\n",
              "    <tr>\n",
              "      <th>82</th>\n",
              "      <td>2016-11-30</td>\n",
              "      <td>0.030922</td>\n",
              "      <td>0.033445</td>\n",
              "      <td>0.033341</td>\n",
              "    </tr>\n",
              "    <tr>\n",
              "      <th>83</th>\n",
              "      <td>2016-12-31</td>\n",
              "      <td>0.030736</td>\n",
              "      <td>0.033321</td>\n",
              "      <td>0.033466</td>\n",
              "    </tr>\n",
              "    <tr>\n",
              "      <th>84</th>\n",
              "      <td>2017-01-31</td>\n",
              "      <td>0.030709</td>\n",
              "      <td>NaN</td>\n",
              "      <td>NaN</td>\n",
              "    </tr>\n",
              "  </tbody>\n",
              "</table>\n",
              "<p>85 rows × 4 columns</p>\n",
              "</div>"
            ],
            "text/plain": [
              "         Date  Taux_Defaut_Historique  Taux_Defaut_Projete        AR\n",
              "0  2010-01-31                0.059661             0.063233       NaN\n",
              "1  2010-02-28                0.052415             0.061639  0.062451\n",
              "2  2010-03-31                0.051614             0.055020  0.060900\n",
              "3  2010-04-30                0.049995             0.052987  0.054460\n",
              "4  2010-05-31                0.049792             0.052707  0.052481\n",
              "..        ...                     ...                  ...       ...\n",
              "80 2016-09-30                0.030966             0.033329  0.033119\n",
              "81 2016-10-31                0.030967             0.033316  0.033354\n",
              "82 2016-11-30                0.030922             0.033445  0.033341\n",
              "83 2016-12-31                0.030736             0.033321  0.033466\n",
              "84 2017-01-31                0.030709                  NaN       NaN\n",
              "\n",
              "[85 rows x 4 columns]"
            ]
          },
          "metadata": {},
          "execution_count": 31
        }
      ]
    },
    {
      "cell_type": "code",
      "metadata": {
        "id": "YlNG1Wj4WSm4"
      },
      "source": [
        "base_diff = pd.read_excel(\"base_diff4.xlsx\")\n",
        "m=[0]\n",
        "m.extend(DR_annuel)\n",
        "base_diff = pd.concat([base_diff,pd.DataFrame(m)],axis=1)\n",
        "X_train = base_diff.iloc[1:84,3:]\n",
        "X_test = base_diff.iloc[84:,3:]\n",
        "y_train = DR_Histo[\"Taux_Defaut_Projete\"].iloc[1:84,]\n",
        "y_test = DR_Histo[\"Taux_Defaut_Historique\"].iloc[84:,]"
      ],
      "execution_count": 32,
      "outputs": []
    },
    {
      "cell_type": "code",
      "metadata": {
        "colab": {
          "base_uri": "https://localhost:8080/",
          "height": 118
        },
        "id": "UMsErEo8p4r5",
        "outputId": "c5357102-3431-44db-e514-e56506fc931c"
      },
      "source": [
        "X_test.iloc[:1,:]"
      ],
      "execution_count": 33,
      "outputs": [
        {
          "output_type": "execute_result",
          "data": {
            "text/html": [
              "<div>\n",
              "<style scoped>\n",
              "    .dataframe tbody tr th:only-of-type {\n",
              "        vertical-align: middle;\n",
              "    }\n",
              "\n",
              "    .dataframe tbody tr th {\n",
              "        vertical-align: top;\n",
              "    }\n",
              "\n",
              "    .dataframe thead th {\n",
              "        text-align: right;\n",
              "    }\n",
              "</style>\n",
              "<table border=\"1\" class=\"dataframe\">\n",
              "  <thead>\n",
              "    <tr style=\"text-align: right;\">\n",
              "      <th></th>\n",
              "      <th>Tx_Chomage_M</th>\n",
              "      <th>Ita_coin</th>\n",
              "      <th>B_T_Climate</th>\n",
              "      <th>LCI</th>\n",
              "      <th>Tx_IPC</th>\n",
              "      <th>Tx_interet_CT</th>\n",
              "      <th>Tx_interet_LT</th>\n",
              "      <th>Confiance_conso</th>\n",
              "      <th>Confiance_ent</th>\n",
              "      <th>Ind_Inc_Pol_Eco</th>\n",
              "      <th>Qt_Euribor1</th>\n",
              "      <th>Qt_Euribor2</th>\n",
              "      <th>Qt_FTSE</th>\n",
              "      <th>Qt_Enel</th>\n",
              "      <th>Qt_Eni</th>\n",
              "      <th>Qt_Exor</th>\n",
              "      <th>Qt_Generali</th>\n",
              "      <th>Tx_I_Deposits_E</th>\n",
              "      <th>Qt_Cours_actions</th>\n",
              "      <th>Tx_I_Loans</th>\n",
              "      <th>Tx_Bond_Yields_10</th>\n",
              "      <th>USD_euro_change</th>\n",
              "      <th>Tx_Pret_Menage</th>\n",
              "      <th>Tx_Pret_SNF</th>\n",
              "      <th>BOP_Compte_Courant</th>\n",
              "      <th>BOP_Biens</th>\n",
              "      <th>BOP_Services</th>\n",
              "      <th>BOP_Capital</th>\n",
              "      <th>Qt_GT_Pret_bancaire</th>\n",
              "      <th>Qt_GT_credit_conso</th>\n",
              "      <th>Qt_GT_credit_immo</th>\n",
              "      <th>Qt_GT_taux_interet</th>\n",
              "      <th>Tx_bons_tresor</th>\n",
              "      <th>Qt_VIX</th>\n",
              "      <th>Qt_Telecom_ita</th>\n",
              "      <th>Qt_IXIC_NASDAQ</th>\n",
              "      <th>Tx_Deposit_Resident</th>\n",
              "      <th>Tx_Interet_Deposit</th>\n",
              "      <th>Tx_Interet_Deposit_Over</th>\n",
              "      <th>Tx_Interet_Loans_House</th>\n",
              "      <th>Tx_Interet_Loans_Othe</th>\n",
              "      <th>Tx_Bon_Tresor_3</th>\n",
              "      <th>Tx_Bon_Tresor_5</th>\n",
              "      <th>Tx_Bon_Tresor_10</th>\n",
              "      <th>Tx_Bon_Tresor_30</th>\n",
              "      <th>Qt_M1</th>\n",
              "      <th>Qt_M2</th>\n",
              "      <th>Qt_M3</th>\n",
              "      <th>Tx_Fund_Raised</th>\n",
              "      <th>Tx_Refinancing</th>\n",
              "      <th>Tx_Debt_Securities</th>\n",
              "      <th>Tx_Total_Deposit</th>\n",
              "      <th>Tx_Loans_Other</th>\n",
              "      <th>Tx_Loans_Household</th>\n",
              "      <th>Tx_Loans_NonFinancial</th>\n",
              "      <th>Tx_Debt_CB</th>\n",
              "      <th>Qt_Debt_Monetary</th>\n",
              "      <th>Qt_Debt_Financial</th>\n",
              "      <th>Qt_Debt_Resident</th>\n",
              "      <th>Qt_Debt_NonResident</th>\n",
              "      <th>Qt_Debt_Gross</th>\n",
              "      <th>Qt_Stock_Gov</th>\n",
              "      <th>0</th>\n",
              "    </tr>\n",
              "  </thead>\n",
              "  <tbody>\n",
              "    <tr>\n",
              "      <th>84</th>\n",
              "      <td>10.9</td>\n",
              "      <td>0.51</td>\n",
              "      <td>1.8</td>\n",
              "      <td>1.6314</td>\n",
              "      <td>0.897308</td>\n",
              "      <td>-0.3279</td>\n",
              "      <td>1.794</td>\n",
              "      <td>1.36789</td>\n",
              "      <td>0.9359</td>\n",
              "      <td>-9.9475</td>\n",
              "      <td>-1.579638e-13</td>\n",
              "      <td>0.0001</td>\n",
              "      <td>0.234638</td>\n",
              "      <td>0.279496</td>\n",
              "      <td>0.019237</td>\n",
              "      <td>0.389205</td>\n",
              "      <td>0.080147</td>\n",
              "      <td>0.3832</td>\n",
              "      <td>0.187019</td>\n",
              "      <td>1.8966</td>\n",
              "      <td>1.794</td>\n",
              "      <td>-0.4</td>\n",
              "      <td>2.77</td>\n",
              "      <td>0.15</td>\n",
              "      <td>-190.624</td>\n",
              "      <td>-195.641</td>\n",
              "      <td>-127.581</td>\n",
              "      <td>-592.58</td>\n",
              "      <td>-0.204794</td>\n",
              "      <td>3.0</td>\n",
              "      <td>1.098612</td>\n",
              "      <td>0.498991</td>\n",
              "      <td>-0.407</td>\n",
              "      <td>0.121575</td>\n",
              "      <td>-0.091895</td>\n",
              "      <td>0.277626</td>\n",
              "      <td>3.64</td>\n",
              "      <td>0.3832</td>\n",
              "      <td>0.064</td>\n",
              "      <td>1.8966</td>\n",
              "      <td>1.5042</td>\n",
              "      <td>-0.01832</td>\n",
              "      <td>0.52223</td>\n",
              "      <td>1.79452</td>\n",
              "      <td>3.05699</td>\n",
              "      <td>0.08635</td>\n",
              "      <td>0.014735</td>\n",
              "      <td>0.054188</td>\n",
              "      <td>0.44</td>\n",
              "      <td>23.23</td>\n",
              "      <td>-16.1</td>\n",
              "      <td>-2.2</td>\n",
              "      <td>1.79</td>\n",
              "      <td>2.77</td>\n",
              "      <td>0.15</td>\n",
              "      <td>15.621631</td>\n",
              "      <td>-0.075223</td>\n",
              "      <td>-0.0497</td>\n",
              "      <td>-0.078643</td>\n",
              "      <td>0.00314</td>\n",
              "      <td>0.014763</td>\n",
              "      <td>0.014225</td>\n",
              "      <td>0.033321</td>\n",
              "    </tr>\n",
              "  </tbody>\n",
              "</table>\n",
              "</div>"
            ],
            "text/plain": [
              "    Tx_Chomage_M  Ita_coin  B_T_Climate  ...  Qt_Debt_Gross  Qt_Stock_Gov         0\n",
              "84          10.9      0.51          1.8  ...       0.014763      0.014225  0.033321\n",
              "\n",
              "[1 rows x 63 columns]"
            ]
          },
          "metadata": {},
          "execution_count": 33
        }
      ]
    },
    {
      "cell_type": "markdown",
      "source": [
        "## LSTM Multivariate"
      ],
      "metadata": {
        "id": "eWm27eRwlD0Q"
      }
    },
    {
      "cell_type": "code",
      "source": [
        ""
      ],
      "metadata": {
        "id": "jqx3Gtx6lIRq"
      },
      "execution_count": 33,
      "outputs": []
    },
    {
      "cell_type": "markdown",
      "metadata": {
        "id": "MZHHKRctV147"
      },
      "source": [
        "## Gradient Boost"
      ]
    },
    {
      "cell_type": "code",
      "metadata": {
        "id": "c4s9v2KjVJw7",
        "colab": {
          "base_uri": "https://localhost:8080/",
          "height": 130
        },
        "outputId": "935a74b2-c256-4e3a-f6b2-4cf8e52671b7"
      },
      "source": [
        "from sklearn.ensemble import GradientBoostingRegressor\n",
        "from sklearn.metrics import f1_score\n",
        "from sklearn.model_selection import GridSearchCV\n",
        "\n",
        "prediction=[]\n",
        "for i in range(0:36):\n",
        "  reg = GradientBoostingRegressor(random_state=0,max_depth=7,n_estimators=500,learning_rate=0.01)\n",
        "  reg.fit(X_train, y_train)\n",
        "  X_test2 = X_test.iloc[i,:]\n",
        "  prediction.append(reg.predict(X_test2))\n",
        "  X_test.iloc[]\n",
        "reg.score(X_test,y_test)"
      ],
      "execution_count": 34,
      "outputs": [
        {
          "output_type": "error",
          "ename": "SyntaxError",
          "evalue": "ignored",
          "traceback": [
            "\u001b[0;36m  File \u001b[0;32m\"<ipython-input-34-9b75c577558f>\"\u001b[0;36m, line \u001b[0;32m6\u001b[0m\n\u001b[0;31m    for i in range(0:36):\u001b[0m\n\u001b[0m                    ^\u001b[0m\n\u001b[0;31mSyntaxError\u001b[0m\u001b[0;31m:\u001b[0m invalid syntax\n"
          ]
        }
      ]
    },
    {
      "cell_type": "code",
      "metadata": {
        "id": "0RgUETpvhS3_"
      },
      "source": [
        "X_train.head(10)"
      ],
      "execution_count": null,
      "outputs": []
    },
    {
      "cell_type": "markdown",
      "source": [
        "## Random Forest"
      ],
      "metadata": {
        "id": "hvbXmg6pSaw2"
      }
    },
    {
      "cell_type": "markdown",
      "source": [
        "Choix du meilleur modele :"
      ],
      "metadata": {
        "id": "B2JX_ZXHW0hE"
      }
    },
    {
      "cell_type": "code",
      "source": [
        "from sklearn.ensemble import GradientBoostingRegressor\n",
        "from sklearn.metrics import r2_score\n",
        "from sklearn.model_selection import GridSearchCV\n",
        "import warnings; warnings.simplefilter('ignore')\n",
        "\n",
        "n_estimators = [1000,1500,2000,4000]\n",
        "max_depth = [50, 100, 200, 300]\n",
        "min_samples_split = [0.1, 0.05, 0.03]\n",
        "learning_rate = [1,0.5,0.2,0.1,0.01,0.001]\n",
        "class_weight=[None,\"balanced\"]\n",
        "\n",
        "parameters = {'n_estimators': n_estimators ,\n",
        "              'max_depth' : max_depth,\n",
        "              'min_samples_split' : min_samples_split,\n",
        "              'learning_rate' : learning_rate\n",
        "              #'class_weight' : class_weight\n",
        "}\n",
        "\n",
        "RF = GradientBoostingRegressor()\n",
        "\n",
        "clf = GridSearchCV(RF, parameters, scoring=\"r2\", cv=5)\n",
        "clf.fit(X_train, y_train)\n"
      ],
      "metadata": {
        "id": "1RSTf7LoTcFR"
      },
      "execution_count": null,
      "outputs": []
    },
    {
      "cell_type": "code",
      "source": [
        "gridsearch_result = pd.DataFrame(clf.cv_results_[\"params\"])\n",
        "gridsearch_result[\"score\"] = clf.cv_results_[\"mean_test_score\"]\n",
        "gridsearch_result[[\"n_estimators\",\"max_depth\",\"score\"]].groupby([\"n_estimators\",\"max_depth\"]).mean().unstack()"
      ],
      "metadata": {
        "id": "xmD10SUaXXN5"
      },
      "execution_count": null,
      "outputs": []
    },
    {
      "cell_type": "code",
      "source": [
        "clf.best_score_"
      ],
      "metadata": {
        "id": "TQLoZfombEEP"
      },
      "execution_count": null,
      "outputs": []
    },
    {
      "cell_type": "code",
      "source": [
        "gridsearch_result[[\"n_estimators\",\"max_depth\",\"score\"]].groupby([\"n_estimators\",\"max_depth\"]).mean().unstack().plot()"
      ],
      "metadata": {
        "id": "uDlW_-8EXjd-"
      },
      "execution_count": null,
      "outputs": []
    },
    {
      "cell_type": "markdown",
      "source": [
        "\n",
        "# Methode alternative : Modelisation pour chaque cellule matrice PIT cumulée"
      ],
      "metadata": {
        "id": "l3ANerjRi6m4"
      }
    },
    {
      "cell_type": "markdown",
      "metadata": {
        "id": "PEmPw0Yu9K6Y"
      },
      "source": [
        "## Mise en Data des Cellules de chaque PIT Cumule\n",
        "Pour permettre la production de la méthode alternative"
      ]
    },
    {
      "cell_type": "code",
      "metadata": {
        "id": "-Ex13XFT9oqM"
      },
      "source": [
        "Data_Cellule = {}\n",
        "dates = pd.date_range(start='20100130',freq=\"M\",periods=84)\n",
        "for i in range(0,10) :\n",
        "  matrice=[]\n",
        "  for j in range(0,11):\n",
        "    liste=[]\n",
        "    for k in range(1,85):\n",
        "      liste.append(PIT_CUMULE[k].iloc[i,j])\n",
        "    matrice.append(liste)\n",
        "  Data_Cellule[\"Classe_\"+str(i+1)]=pd.DataFrame(np.transpose(matrice), columns=[\"1\",\"2\",\"3\",\"4\",\"5\",\"6\",\"7\",\"8\",\"9\",\"10\",\"D\"],index=dates)\n"
      ],
      "execution_count": 37,
      "outputs": []
    },
    {
      "cell_type": "code",
      "metadata": {
        "colab": {
          "base_uri": "https://localhost:8080/",
          "height": 423
        },
        "id": "9B4Lo2QqFvGx",
        "outputId": "28dc8fac-1dcd-44eb-db04-4a360f7a02f5"
      },
      "source": [
        "Data_Cellule[\"Classe_1\"]"
      ],
      "execution_count": null,
      "outputs": [
        {
          "output_type": "execute_result",
          "data": {
            "text/html": [
              "<div>\n",
              "<style scoped>\n",
              "    .dataframe tbody tr th:only-of-type {\n",
              "        vertical-align: middle;\n",
              "    }\n",
              "\n",
              "    .dataframe tbody tr th {\n",
              "        vertical-align: top;\n",
              "    }\n",
              "\n",
              "    .dataframe thead th {\n",
              "        text-align: right;\n",
              "    }\n",
              "</style>\n",
              "<table border=\"1\" class=\"dataframe\">\n",
              "  <thead>\n",
              "    <tr style=\"text-align: right;\">\n",
              "      <th></th>\n",
              "      <th>1</th>\n",
              "      <th>2</th>\n",
              "      <th>3</th>\n",
              "      <th>4</th>\n",
              "      <th>5</th>\n",
              "      <th>6</th>\n",
              "      <th>7</th>\n",
              "      <th>8</th>\n",
              "      <th>9</th>\n",
              "      <th>10</th>\n",
              "      <th>D</th>\n",
              "    </tr>\n",
              "  </thead>\n",
              "  <tbody>\n",
              "    <tr>\n",
              "      <th>2010-01-31</th>\n",
              "      <td>1.0</td>\n",
              "      <td>0.230486</td>\n",
              "      <td>0.115205</td>\n",
              "      <td>0.038087</td>\n",
              "      <td>0.019877</td>\n",
              "      <td>0.015677</td>\n",
              "      <td>0.009059</td>\n",
              "      <td>0.004415</td>\n",
              "      <td>0.002459</td>\n",
              "      <td>0.001322</td>\n",
              "      <td>0.000778</td>\n",
              "    </tr>\n",
              "    <tr>\n",
              "      <th>2010-02-28</th>\n",
              "      <td>1.0</td>\n",
              "      <td>0.249680</td>\n",
              "      <td>0.122844</td>\n",
              "      <td>0.040507</td>\n",
              "      <td>0.021593</td>\n",
              "      <td>0.016835</td>\n",
              "      <td>0.009551</td>\n",
              "      <td>0.004528</td>\n",
              "      <td>0.002699</td>\n",
              "      <td>0.001566</td>\n",
              "      <td>0.000896</td>\n",
              "    </tr>\n",
              "    <tr>\n",
              "      <th>2010-03-31</th>\n",
              "      <td>1.0</td>\n",
              "      <td>0.266746</td>\n",
              "      <td>0.130466</td>\n",
              "      <td>0.044050</td>\n",
              "      <td>0.024235</td>\n",
              "      <td>0.018742</td>\n",
              "      <td>0.010693</td>\n",
              "      <td>0.004787</td>\n",
              "      <td>0.002947</td>\n",
              "      <td>0.001748</td>\n",
              "      <td>0.001100</td>\n",
              "    </tr>\n",
              "    <tr>\n",
              "      <th>2010-04-30</th>\n",
              "      <td>1.0</td>\n",
              "      <td>0.284760</td>\n",
              "      <td>0.137417</td>\n",
              "      <td>0.046228</td>\n",
              "      <td>0.025545</td>\n",
              "      <td>0.019369</td>\n",
              "      <td>0.010623</td>\n",
              "      <td>0.004455</td>\n",
              "      <td>0.002802</td>\n",
              "      <td>0.001771</td>\n",
              "      <td>0.001095</td>\n",
              "    </tr>\n",
              "    <tr>\n",
              "      <th>2010-05-31</th>\n",
              "      <td>1.0</td>\n",
              "      <td>0.284954</td>\n",
              "      <td>0.139810</td>\n",
              "      <td>0.046665</td>\n",
              "      <td>0.025431</td>\n",
              "      <td>0.019273</td>\n",
              "      <td>0.010851</td>\n",
              "      <td>0.004561</td>\n",
              "      <td>0.002879</td>\n",
              "      <td>0.001754</td>\n",
              "      <td>0.001120</td>\n",
              "    </tr>\n",
              "    <tr>\n",
              "      <th>...</th>\n",
              "      <td>...</td>\n",
              "      <td>...</td>\n",
              "      <td>...</td>\n",
              "      <td>...</td>\n",
              "      <td>...</td>\n",
              "      <td>...</td>\n",
              "      <td>...</td>\n",
              "      <td>...</td>\n",
              "      <td>...</td>\n",
              "      <td>...</td>\n",
              "      <td>...</td>\n",
              "    </tr>\n",
              "    <tr>\n",
              "      <th>2016-08-31</th>\n",
              "      <td>1.0</td>\n",
              "      <td>0.298029</td>\n",
              "      <td>0.151734</td>\n",
              "      <td>0.043291</td>\n",
              "      <td>0.021159</td>\n",
              "      <td>0.016188</td>\n",
              "      <td>0.006798</td>\n",
              "      <td>0.002006</td>\n",
              "      <td>0.001082</td>\n",
              "      <td>0.000512</td>\n",
              "      <td>0.000210</td>\n",
              "    </tr>\n",
              "    <tr>\n",
              "      <th>2016-09-30</th>\n",
              "      <td>1.0</td>\n",
              "      <td>0.295590</td>\n",
              "      <td>0.150208</td>\n",
              "      <td>0.043403</td>\n",
              "      <td>0.021329</td>\n",
              "      <td>0.016398</td>\n",
              "      <td>0.006939</td>\n",
              "      <td>0.002128</td>\n",
              "      <td>0.001155</td>\n",
              "      <td>0.000552</td>\n",
              "      <td>0.000248</td>\n",
              "    </tr>\n",
              "    <tr>\n",
              "      <th>2016-10-31</th>\n",
              "      <td>1.0</td>\n",
              "      <td>0.295836</td>\n",
              "      <td>0.150024</td>\n",
              "      <td>0.043751</td>\n",
              "      <td>0.021875</td>\n",
              "      <td>0.016762</td>\n",
              "      <td>0.007109</td>\n",
              "      <td>0.002221</td>\n",
              "      <td>0.001221</td>\n",
              "      <td>0.000579</td>\n",
              "      <td>0.000262</td>\n",
              "    </tr>\n",
              "    <tr>\n",
              "      <th>2016-11-30</th>\n",
              "      <td>1.0</td>\n",
              "      <td>0.299075</td>\n",
              "      <td>0.151262</td>\n",
              "      <td>0.044017</td>\n",
              "      <td>0.022107</td>\n",
              "      <td>0.016986</td>\n",
              "      <td>0.007178</td>\n",
              "      <td>0.002242</td>\n",
              "      <td>0.001224</td>\n",
              "      <td>0.000591</td>\n",
              "      <td>0.000262</td>\n",
              "    </tr>\n",
              "    <tr>\n",
              "      <th>2016-12-31</th>\n",
              "      <td>1.0</td>\n",
              "      <td>0.303003</td>\n",
              "      <td>0.153768</td>\n",
              "      <td>0.045600</td>\n",
              "      <td>0.023475</td>\n",
              "      <td>0.018117</td>\n",
              "      <td>0.007705</td>\n",
              "      <td>0.002451</td>\n",
              "      <td>0.001361</td>\n",
              "      <td>0.000636</td>\n",
              "      <td>0.000271</td>\n",
              "    </tr>\n",
              "  </tbody>\n",
              "</table>\n",
              "<p>84 rows × 11 columns</p>\n",
              "</div>"
            ],
            "text/plain": [
              "              1         2         3  ...         9        10         D\n",
              "2010-01-31  1.0  0.230486  0.115205  ...  0.002459  0.001322  0.000778\n",
              "2010-02-28  1.0  0.249680  0.122844  ...  0.002699  0.001566  0.000896\n",
              "2010-03-31  1.0  0.266746  0.130466  ...  0.002947  0.001748  0.001100\n",
              "2010-04-30  1.0  0.284760  0.137417  ...  0.002802  0.001771  0.001095\n",
              "2010-05-31  1.0  0.284954  0.139810  ...  0.002879  0.001754  0.001120\n",
              "...         ...       ...       ...  ...       ...       ...       ...\n",
              "2016-08-31  1.0  0.298029  0.151734  ...  0.001082  0.000512  0.000210\n",
              "2016-09-30  1.0  0.295590  0.150208  ...  0.001155  0.000552  0.000248\n",
              "2016-10-31  1.0  0.295836  0.150024  ...  0.001221  0.000579  0.000262\n",
              "2016-11-30  1.0  0.299075  0.151262  ...  0.001224  0.000591  0.000262\n",
              "2016-12-31  1.0  0.303003  0.153768  ...  0.001361  0.000636  0.000271\n",
              "\n",
              "[84 rows x 11 columns]"
            ]
          },
          "metadata": {},
          "execution_count": 34
        }
      ]
    },
    {
      "cell_type": "markdown",
      "metadata": {
        "id": "VJQkgoRFIZbP"
      },
      "source": [
        "## Exportation des donnée "
      ]
    },
    {
      "cell_type": "code",
      "source": [
        "vecteur=[\"Classe_1\",\"Classe_2\",\"Classe_3\",\"Classe_4\",\"Classe_5\",\"Classe_6\",\"Classe_7\",\"Classe_8\",\"Classe_9\",\"Classe_10\"]\n",
        "for i in vecteur:\n",
        "  Data_Cellule[i].to_excel(\"Cellule_PIT_Cumule/Cellule_\"+str(i)+\".xlsx\")"
      ],
      "metadata": {
        "id": "hP3caBQEl6IJ"
      },
      "execution_count": 38,
      "outputs": []
    },
    {
      "cell_type": "markdown",
      "source": [
        "## Tests et Creation PIT Cumule predite en fonction des differentes methodes"
      ],
      "metadata": {
        "id": "MYJBCdIrPDj4"
      }
    },
    {
      "cell_type": "markdown",
      "source": [
        "### AdaLasso"
      ],
      "metadata": {
        "id": "4A8lyshBTZFw"
      }
    },
    {
      "cell_type": "markdown",
      "source": [
        "Recuperation de chaque tableau de chaque classe (chaque ligne)"
      ],
      "metadata": {
        "id": "zci6xCPzcJ6G"
      }
    },
    {
      "cell_type": "code",
      "source": [
        "AdaLasso = {}\n",
        "for i in range(1,11) :\n",
        "  AdaLasso[i] = pd.read_excel(\"Prediction Cellule/PredictionCellule_AdaLasso.xlsx\",sheet_name=\"Classe\"+str(i))\n",
        "  AdaLasso[i].drop(columns=\"Unnamed: 0\",inplace=True)"
      ],
      "metadata": {
        "id": "fZTBFJEePMOS"
      },
      "execution_count": 19,
      "outputs": []
    },
    {
      "cell_type": "markdown",
      "source": [
        "Mise en place des PIT Cumule"
      ],
      "metadata": {
        "id": "dgp9nKiycQts"
      }
    },
    {
      "cell_type": "code",
      "source": [
        "PIT_Cumule_AdaLasso = {}\n",
        "mo = pd.DataFrame([1,1,1,1,1,1,1,1,1,1],index=[\"1\",\"2\",\"3\",\"4\",\"5\",\"6\",\"7\",\"8\",\"9\",\"10\"])\n",
        "for i in range(0,37):\n",
        "  liste=[]\n",
        "  for j in range(1,11):\n",
        "    liste.append(AdaLasso[j].iloc[i,:])\n",
        "  PIT_Cumule_AdaLasso[i]=mo.merge(pd.DataFrame(liste,index=[\"1\",\"2\",\"3\",\"4\",\"5\",\"6\",\"7\",\"8\",\"9\",\"10\"]),left_index=True,right_index=True)\n",
        "  PIT_Cumule_AdaLasso[i].rename(columns={0:'1','Ligne_1':'2','Ligne_2':'3','Ligne_3':'4','Ligne_4':'5','Ligne_5':'6','Ligne_6':'7','Ligne_7':'8','Ligne_8':'9','Ligne_9':'10','Ligne_10':'11'},inplace=True)"
      ],
      "metadata": {
        "id": "MfL0Akb5TXbH"
      },
      "execution_count": 20,
      "outputs": []
    },
    {
      "cell_type": "markdown",
      "source": [
        "Comparaison pra rpport au matrice cumule empirique"
      ],
      "metadata": {
        "id": "-2lcAcRecUtp"
      }
    },
    {
      "cell_type": "code",
      "source": [
        "import sklearn.metrics as me\n",
        "import math\n",
        "\n",
        "listeAda=[]\n",
        "for i in range(1,11):\n",
        "  for j in range(0,10):\n",
        "    listeAda.append(PIT_Cumule_AdaLasso[12].iloc[j,i])\n",
        "listePIT=[]\n",
        "for i in range(1,11):\n",
        "  for j in range(0,10):\n",
        "    listePIT.append(PIT_CUMULE[97].iloc[j,i])\n",
        "\n",
        "print(\"MAPE : \",me.mean_absolute_percentage_error(listePIT,listeAda))\n",
        "print(\"MAE : \",me.mean_absolute_error(listePIT,listeAda))\n",
        "print(\"MSE : \",me.mean_squared_error(listePIT,listeAda))\n",
        "print(\"RMSE : \",math.sqrt(me.mean_squared_error(listePIT,listeAda)))"
      ],
      "metadata": {
        "colab": {
          "base_uri": "https://localhost:8080/"
        },
        "id": "RFqkCIbxXNC-",
        "outputId": "ba469448-1690-43cc-d39d-c0fa73e096f2"
      },
      "execution_count": 21,
      "outputs": [
        {
          "output_type": "stream",
          "name": "stdout",
          "text": [
            "MAPE :  0.2344955814120263\n",
            "MAE :  0.003652814884887911\n",
            "MSE :  6.756277822476524e-05\n",
            "RMSE :  0.008219658035755821\n"
          ]
        }
      ]
    },
    {
      "cell_type": "code",
      "source": [
        "listeAda=[]\n",
        "for i in range(1,11):\n",
        "  for j in range(0,10):\n",
        "    listeAda.append(PIT_Cumule_AdaLasso[24].iloc[j,i])\n",
        "listePIT=[]\n",
        "for i in range(1,11):\n",
        "  for j in range(0,10):\n",
        "    listePIT.append(PIT_CUMULE[108].iloc[j,i])\n",
        "\n",
        "print(\"MAPE : \",me.mean_absolute_percentage_error(listePIT,listeAda))\n",
        "print(\"MAE : \",me.mean_absolute_error(listePIT,listeAda))\n",
        "print(\"MSE : \",me.mean_squared_error(listePIT,listeAda))\n",
        "print(\"RMSE : \",math.sqrt(me.mean_squared_error(listePIT,listeAda)))"
      ],
      "metadata": {
        "colab": {
          "base_uri": "https://localhost:8080/"
        },
        "id": "WW4JfZym1GRH",
        "outputId": "ccf441c7-60ea-4d1b-ca37-099abb34640b"
      },
      "execution_count": 34,
      "outputs": [
        {
          "output_type": "stream",
          "name": "stdout",
          "text": [
            "MAPE :  0.42206577624618874\n",
            "MAE :  0.004447304212361572\n",
            "MSE :  7.888898888095167e-05\n",
            "RMSE :  0.008881947358600572\n"
          ]
        }
      ]
    },
    {
      "cell_type": "code",
      "source": [
        "listeAda=[]\n",
        "for i in range(1,11):\n",
        "  for j in range(0,10):\n",
        "    listeAda.append(PIT_Cumule_AdaLasso[36].iloc[j,i])\n",
        "listePIT=[]\n",
        "for i in range(1,11):\n",
        "  for j in range(0,10):\n",
        "    listePIT.append(PIT_CUMULE[120].iloc[j,i])\n",
        "\n",
        "print(\"MAPE : \",me.mean_absolute_percentage_error(listePIT,listeAda))\n",
        "print(\"MAE : \",me.mean_absolute_error(listePIT,listeAda))\n",
        "print(\"MSE : \",me.mean_squared_error(listePIT,listeAda))\n",
        "print(\"RMSE : \",math.sqrt(me.mean_squared_error(listePIT,listeAda)))"
      ],
      "metadata": {
        "colab": {
          "base_uri": "https://localhost:8080/"
        },
        "id": "PPYzElCc2NVC",
        "outputId": "4a4cca7d-af19-4242-9404-a9ec480f9de0"
      },
      "execution_count": 35,
      "outputs": [
        {
          "output_type": "stream",
          "name": "stdout",
          "text": [
            "MAPE :  0.4439531573797049\n",
            "MAE :  0.0036642189450512754\n",
            "MSE :  9.700656128992105e-05\n",
            "RMSE :  0.009849190895191394\n"
          ]
        }
      ]
    },
    {
      "cell_type": "markdown",
      "source": [
        "Passage Des Cumules au PIT Normal"
      ],
      "metadata": {
        "id": "4IhDL6X6geYL"
      }
    },
    {
      "cell_type": "code",
      "source": [
        "PIT_AdaLasso = {}\n",
        "for i in range(0,37):\n",
        "  liste=[]\n",
        "  for j in range(0,10):\n",
        "    compteur=[]\n",
        "    for k in range(0,10):\n",
        "      compteur.append(PIT_Cumule_AdaLasso[i].iloc[j,k]-PIT_Cumule_AdaLasso[i].iloc[j,k+1])\n",
        "    compteur.append(PIT_Cumule_AdaLasso[i].iloc[j,10])\n",
        "    liste.append(compteur)\n",
        "  PIT_AdaLasso[i]=pd.DataFrame(liste,columns=[\"1\",\"2\",\"3\",\"4\",\"5\",\"6\",\"7\",\"8\",\"9\",\"10\",\"D\"],index=[\"1\",\"2\",\"3\",\"4\",\"5\",\"6\",\"7\",\"8\",\"9\",\"10\"])\n",
        "  PIT_AdaLasso[i].to_excel(\"Matrice Predite/AdaLasso\"+str(i)+\"_Cellule.xlsx\")\n",
        "  \n"
      ],
      "metadata": {
        "id": "DaSWgjNseXjH"
      },
      "execution_count": 22,
      "outputs": []
    },
    {
      "cell_type": "markdown",
      "source": [
        "Exportation des données :"
      ],
      "metadata": {
        "id": "X1Z6An9GhwEX"
      }
    },
    {
      "cell_type": "code",
      "source": [
        "for i in range(0,37):\n",
        "  PIT_AdaLasso[i].to_excel(\"Prediction Cellule/AdaLasso/PIT_Adalasso\"+str(i)+\".xlsx\")"
      ],
      "metadata": {
        "id": "wMadTRE-gY8e"
      },
      "execution_count": 37,
      "outputs": []
    },
    {
      "cell_type": "markdown",
      "source": [
        "### MSAENET"
      ],
      "metadata": {
        "id": "oMIa_CcLiQ_d"
      }
    },
    {
      "cell_type": "code",
      "source": [
        "Msaenet = {}\n",
        "for i in range(1,11):\n",
        "  Msaenet[i] = pd.read_excel(\"Prediction Cellule/PredictionCellule_MSAENET.xlsx\",sheet_name=\"Classe\"+str(i))\n",
        "  Msaenet[i].drop(columns=\"Unnamed: 0\",inplace=True)\n",
        "\n",
        "PIT_Cumule_Msaenet = {}\n",
        "mo = pd.DataFrame([1,1,1,1,1,1,1,1,1,1],index=[\"1\",\"2\",\"3\",\"4\",\"5\",\"6\",\"7\",\"8\",\"9\",\"10\"])\n",
        "for i in range(0,37):\n",
        "  liste=[]\n",
        "  for j in range(1,11):\n",
        "    liste.append(Msaenet[j].iloc[i,:])\n",
        "  PIT_Cumule_Msaenet[i]=mo.merge(pd.DataFrame(liste,index=[\"1\",\"2\",\"3\",\"4\",\"5\",\"6\",\"7\",\"8\",\"9\",\"10\"]),left_index=True,right_index=True)\n",
        "  PIT_Cumule_Msaenet[i].rename(columns={0:'1','Ligne_1':'2','Ligne_2':'3','Ligne_3':'4','Ligne_4':'5','Ligne_5':'6','Ligne_6':'7','Ligne_7':'8','Ligne_8':'9','Ligne_9':'10','Ligne_10':'11'},inplace=True)\n",
        "\n",
        "import sklearn.metrics as me\n",
        "import math\n",
        "\n",
        "listeMsa=[]\n",
        "for i in range(1,11):\n",
        "  for j in range(0,10):\n",
        "    listeMsa.append(PIT_Cumule_Msaenet[12].iloc[j,i])\n",
        "listePIT=[]\n",
        "for i in range(1,11):\n",
        "  for j in range(0,10):\n",
        "    listePIT.append(PIT_CUMULE[97].iloc[j,i])\n",
        "\n",
        "print(\"MAPE : \",me.mean_absolute_percentage_error(listePIT,listeMsa))\n",
        "print(\"MAE : \",me.mean_absolute_error(listePIT,listeMsa))\n",
        "print(\"MSE : \",me.mean_squared_error(listePIT,listeMsa))\n",
        "print(\"RMSE : \",math.sqrt(me.mean_squared_error(listePIT,listeMsa)))\n",
        "\n",
        "listeMsa=[]\n",
        "for i in range(1,11):\n",
        "  for j in range(0,10):\n",
        "    listeMsa.append(PIT_Cumule_Msaenet[24].iloc[j,i])\n",
        "listePIT=[]\n",
        "for i in range(1,11):\n",
        "  for j in range(0,10):\n",
        "    listePIT.append(PIT_CUMULE[108].iloc[j,i])\n",
        "\n",
        "print(\"MAPE : \",me.mean_absolute_percentage_error(listePIT,listeMsa))\n",
        "print(\"MAE : \",me.mean_absolute_error(listePIT,listeMsa))\n",
        "print(\"MSE : \",me.mean_squared_error(listePIT,listeMsa))\n",
        "print(\"RMSE : \",math.sqrt(me.mean_squared_error(listePIT,listeMsa)))\n",
        "\n",
        "listeMsa=[]\n",
        "for i in range(1,11):\n",
        "  for j in range(0,10):\n",
        "    listeMsa.append(PIT_Cumule_Msaenet[36].iloc[j,i])\n",
        "listePIT=[]\n",
        "for i in range(1,11):\n",
        "  for j in range(0,10):\n",
        "    listePIT.append(PIT_CUMULE[120].iloc[j,i])\n",
        "\n",
        "print(\"MAPE : \",me.mean_absolute_percentage_error(listePIT,listeMsa))\n",
        "print(\"MAE : \",me.mean_absolute_error(listePIT,listeMsa))\n",
        "print(\"MSE : \",me.mean_squared_error(listePIT,listeMsa))\n",
        "print(\"RMSE : \",math.sqrt(me.mean_squared_error(listePIT,listeMsa)))\n",
        "\n",
        "PIT_Msaenet = {}\n",
        "for i in range(0,37):\n",
        "  liste=[]\n",
        "  for j in range(0,10):\n",
        "    compteur=[]\n",
        "    for k in range(0,10):\n",
        "      compteur.append(PIT_Cumule_Msaenet[i].iloc[j,k]-PIT_Cumule_Msaenet[i].iloc[j,k+1])\n",
        "    compteur.append(PIT_Cumule_Msaenet[i].iloc[j,10])\n",
        "    liste.append(compteur)\n",
        "  PIT_Msaenet[i]=pd.DataFrame(liste,columns=[\"1\",\"2\",\"3\",\"4\",\"5\",\"6\",\"7\",\"8\",\"9\",\"10\",\"D\"],index=[\"1\",\"2\",\"3\",\"4\",\"5\",\"6\",\"7\",\"8\",\"9\",\"10\"])\n"
      ],
      "metadata": {
        "colab": {
          "base_uri": "https://localhost:8080/"
        },
        "id": "JtrnKLL1ieFg",
        "outputId": "865bccb9-646d-4e08-eaea-56d228d04381"
      },
      "execution_count": 40,
      "outputs": [
        {
          "output_type": "stream",
          "name": "stdout",
          "text": [
            "MAPE :  0.6092658628576876\n",
            "MAE :  0.00599597646308883\n",
            "MSE :  0.00017762725912247584\n",
            "RMSE :  0.013327687688510555\n",
            "MAPE :  0.4195354425349936\n",
            "MAE :  0.00490618360771022\n",
            "MSE :  9.536102800502137e-05\n",
            "RMSE :  0.009765297128353103\n",
            "MAPE :  0.5170548464983592\n",
            "MAE :  0.0031143386004129445\n",
            "MSE :  3.6310064813816006e-05\n",
            "RMSE :  0.006025783336116227\n"
          ]
        }
      ]
    },
    {
      "cell_type": "code",
      "source": [
        "for i in range(0,37):\n",
        "  PIT_Msaenet[i].to_excel(\"Prediction Cellule/Msaenet/PIT_Msaenet\"+str(i)+\".xlsx\")"
      ],
      "metadata": {
        "id": "RAw9x8BYiZLh"
      },
      "execution_count": 48,
      "outputs": []
    },
    {
      "cell_type": "markdown",
      "source": [
        "### Ridge"
      ],
      "metadata": {
        "id": "IkmKsKB1jn9H"
      }
    },
    {
      "cell_type": "code",
      "source": [
        "Ridge = {}\n",
        "for i in range(1,11):\n",
        "  Ridge[i] = pd.read_excel(\"Prediction Cellule/PredictionCellule_Ridge.xlsx\",sheet_name=\"Classe\"+str(i))\n",
        "  Ridge[i].drop(columns=\"Unnamed: 0\",inplace=True)\n",
        "\n",
        "PIT_Cumule_Ridge = {}\n",
        "mo = pd.DataFrame([1,1,1,1,1,1,1,1,1,1],index=[\"1\",\"2\",\"3\",\"4\",\"5\",\"6\",\"7\",\"8\",\"9\",\"10\"])\n",
        "for i in range(0,37):\n",
        "  liste=[]\n",
        "  for j in range(1,11):\n",
        "    liste.append(Ridge[j].iloc[i,:])\n",
        "  PIT_Cumule_Ridge[i]=mo.merge(pd.DataFrame(liste,index=[\"1\",\"2\",\"3\",\"4\",\"5\",\"6\",\"7\",\"8\",\"9\",\"10\"]),left_index=True,right_index=True)\n",
        "  PIT_Cumule_Ridge[i].rename(columns={0:'1','Ligne_1':'2','Ligne_2':'3','Ligne_3':'4','Ligne_4':'5','Ligne_5':'6','Ligne_6':'7','Ligne_7':'8','Ligne_8':'9','Ligne_9':'10','Ligne_10':'11'},inplace=True)\n",
        "\n",
        "import sklearn.metrics as me\n",
        "import math\n",
        "\n",
        "listeR=[]\n",
        "for i in range(1,11):\n",
        "  for j in range(0,10):\n",
        "    listeR.append(PIT_Cumule_Ridge[12].iloc[j,i])\n",
        "listePIT=[]\n",
        "for i in range(1,11):\n",
        "  for j in range(0,10):\n",
        "    listePIT.append(PIT_CUMULE[97].iloc[j,i])\n",
        "\n",
        "print(\"MAPE : \",me.mean_absolute_percentage_error(listePIT,listeR))\n",
        "print(\"MAE : \",me.mean_absolute_error(listePIT,listeR))\n",
        "print(\"MSE : \",me.mean_squared_error(listePIT,listeR))\n",
        "print(\"RMSE : \",math.sqrt(me.mean_squared_error(listePIT,listeR)))\n",
        "\n",
        "listeR=[]\n",
        "for i in range(1,11):\n",
        "  for j in range(0,10):\n",
        "    listeR.append(PIT_Cumule_Ridge[24].iloc[j,i])\n",
        "listePIT=[]\n",
        "for i in range(1,11):\n",
        "  for j in range(0,10):\n",
        "    listePIT.append(PIT_CUMULE[108].iloc[j,i])\n",
        "\n",
        "print(\"MAPE : \",me.mean_absolute_percentage_error(listePIT,listeR))\n",
        "print(\"MAE : \",me.mean_absolute_error(listePIT,listeR))\n",
        "print(\"MSE : \",me.mean_squared_error(listePIT,listeR))\n",
        "print(\"RMSE : \",math.sqrt(me.mean_squared_error(listePIT,listeR)))\n",
        "\n",
        "listeR=[]\n",
        "for i in range(1,11):\n",
        "  for j in range(0,10):\n",
        "    listeR.append(PIT_Cumule_Ridge[36].iloc[j,i])\n",
        "listePIT=[]\n",
        "for i in range(1,11):\n",
        "  for j in range(0,10):\n",
        "    listePIT.append(PIT_CUMULE[120].iloc[j,i])\n",
        "\n",
        "print(\"MAPE : \",me.mean_absolute_percentage_error(listePIT,listeR))\n",
        "print(\"MAE : \",me.mean_absolute_error(listePIT,listeR))\n",
        "print(\"MSE : \",me.mean_squared_error(listePIT,listeR))\n",
        "print(\"RMSE : \",math.sqrt(me.mean_squared_error(listePIT,listeR)))\n",
        "\n",
        "PIT_Ridge = {}\n",
        "for i in range(0,37):\n",
        "  liste=[]\n",
        "  for j in range(0,10):\n",
        "    compteur=[]\n",
        "    for k in range(0,10):\n",
        "      compteur.append(PIT_Cumule_Ridge[i].iloc[j,k]-PIT_Cumule_Ridge[i].iloc[j,k+1])\n",
        "    compteur.append(PIT_Cumule_Ridge[i].iloc[j,10])\n",
        "    liste.append(compteur)\n",
        "  PIT_Ridge[i]=pd.DataFrame(liste,columns=[\"1\",\"2\",\"3\",\"4\",\"5\",\"6\",\"7\",\"8\",\"9\",\"10\",\"D\"],index=[\"1\",\"2\",\"3\",\"4\",\"5\",\"6\",\"7\",\"8\",\"9\",\"10\"])\n",
        "  PIT_Ridge[i].to_excel(\"/Matrice\")"
      ],
      "metadata": {
        "colab": {
          "base_uri": "https://localhost:8080/"
        },
        "id": "nUnpTrnijpPG",
        "outputId": "526cb7dc-54f4-4a46-ebce-8818e33b2f7c"
      },
      "execution_count": 44,
      "outputs": [
        {
          "output_type": "stream",
          "name": "stdout",
          "text": [
            "MAPE :  0.5172270153098153\n",
            "MAE :  0.003435009613994602\n",
            "MSE :  4.900572176228086e-05\n",
            "RMSE :  0.007000408685375509\n",
            "MAPE :  0.23065772247159202\n",
            "MAE :  0.003255231707716506\n",
            "MSE :  4.2537984188721605e-05\n",
            "RMSE :  0.006522115008854229\n",
            "MAPE :  0.3939285157844142\n",
            "MAE :  0.004751425337228022\n",
            "MSE :  0.00010273966645871308\n",
            "RMSE :  0.010136057737538449\n"
          ]
        }
      ]
    },
    {
      "cell_type": "code",
      "source": [
        "for i in range(0,37):\n",
        "  PIT_Ridge[i].to_excel(\"Prediction Cellule/Ridge/PIT_Ridge\"+str(i)+\".xlsx\")"
      ],
      "metadata": {
        "id": "QMyYUkr2p5Iu"
      },
      "execution_count": 47,
      "outputs": []
    },
    {
      "cell_type": "markdown",
      "source": [
        "### Lasso"
      ],
      "metadata": {
        "id": "eWCFBjoLp_DQ"
      }
    },
    {
      "cell_type": "code",
      "source": [
        "Lasso = {}\n",
        "for i in range(1,11):\n",
        "  Lasso[i] = pd.read_excel(\"Prediction Cellule/PredictionCellule_Lasso.xlsx\",sheet_name=\"Classe\"+str(i))\n",
        "  Lasso[i].drop(columns=\"Unnamed: 0\",inplace=True)\n",
        "\n",
        "PIT_Cumule_Lasso = {}\n",
        "mo = pd.DataFrame([1,1,1,1,1,1,1,1,1,1],index=[\"1\",\"2\",\"3\",\"4\",\"5\",\"6\",\"7\",\"8\",\"9\",\"10\"])\n",
        "for i in range(0,37):\n",
        "  liste=[]\n",
        "  for j in range(1,11):\n",
        "    liste.append(Lasso[j].iloc[i,:])\n",
        "  PIT_Cumule_Lasso[i]=mo.merge(pd.DataFrame(liste,index=[\"1\",\"2\",\"3\",\"4\",\"5\",\"6\",\"7\",\"8\",\"9\",\"10\"]),left_index=True,right_index=True)\n",
        "  PIT_Cumule_Lasso[i].rename(columns={0:'1','Ligne_1':'2','Ligne_2':'3','Ligne_3':'4','Ligne_4':'5','Ligne_5':'6','Ligne_6':'7','Ligne_7':'8','Ligne_8':'9','Ligne_9':'10','Ligne_10':'11'},inplace=True)\n",
        "\n",
        "import sklearn.metrics as me\n",
        "import math\n",
        "\n",
        "listeR=[]\n",
        "for i in range(1,11):\n",
        "  for j in range(0,10):\n",
        "    listeR.append(PIT_Cumule_Lasso[12].iloc[j,i])\n",
        "listePIT=[]\n",
        "for i in range(1,11):\n",
        "  for j in range(0,10):\n",
        "    listePIT.append(PIT_CUMULE[97].iloc[j,i])\n",
        "\n",
        "print(\"MAPE : \",me.mean_absolute_percentage_error(listePIT,listeR))\n",
        "print(\"MAE : \",me.mean_absolute_error(listePIT,listeR))\n",
        "print(\"MSE : \",me.mean_squared_error(listePIT,listeR))\n",
        "print(\"RMSE : \",math.sqrt(me.mean_squared_error(listePIT,listeR)))\n",
        "\n",
        "listeR=[]\n",
        "for i in range(1,11):\n",
        "  for j in range(0,10):\n",
        "    listeR.append(PIT_Cumule_Lasso[24].iloc[j,i])\n",
        "listePIT=[]\n",
        "for i in range(1,11):\n",
        "  for j in range(0,10):\n",
        "    listePIT.append(PIT_CUMULE[108].iloc[j,i])\n",
        "\n",
        "print(\"MAPE : \",me.mean_absolute_percentage_error(listePIT,listeR))\n",
        "print(\"MAE : \",me.mean_absolute_error(listePIT,listeR))\n",
        "print(\"MSE : \",me.mean_squared_error(listePIT,listeR))\n",
        "print(\"RMSE : \",math.sqrt(me.mean_squared_error(listePIT,listeR)))\n",
        "\n",
        "listeR=[]\n",
        "for i in range(1,11):\n",
        "  for j in range(0,10):\n",
        "    listeR.append(PIT_Cumule_Lasso[36].iloc[j,i])\n",
        "listePIT=[]\n",
        "for i in range(1,11):\n",
        "  for j in range(0,10):\n",
        "    listePIT.append(PIT_CUMULE[120].iloc[j,i])\n",
        "\n",
        "print(\"MAPE : \",me.mean_absolute_percentage_error(listePIT,listeR))\n",
        "print(\"MAE : \",me.mean_absolute_error(listePIT,listeR))\n",
        "print(\"MSE : \",me.mean_squared_error(listePIT,listeR))\n",
        "print(\"RMSE : \",math.sqrt(me.mean_squared_error(listePIT,listeR)))\n",
        "\n",
        "PIT_Lasso = {}\n",
        "for i in range(0,37):\n",
        "  liste=[]\n",
        "  for j in range(0,10):\n",
        "    compteur=[]\n",
        "    for k in range(0,10):\n",
        "      compteur.append(PIT_Cumule_Lasso[i].iloc[j,k]-PIT_Cumule_Lasso[i].iloc[j,k+1])\n",
        "    compteur.append(PIT_Cumule_Lasso[i].iloc[j,10])\n",
        "    liste.append(compteur)\n",
        "  PIT_Lasso[i]=pd.DataFrame(liste,columns=[\"1\",\"2\",\"3\",\"4\",\"5\",\"6\",\"7\",\"8\",\"9\",\"10\",\"D\"],index=[\"1\",\"2\",\"3\",\"4\",\"5\",\"6\",\"7\",\"8\",\"9\",\"10\"])"
      ],
      "metadata": {
        "colab": {
          "base_uri": "https://localhost:8080/"
        },
        "id": "hL3XLIJwqA2F",
        "outputId": "c951a745-2dc1-4544-e941-2a2d6a883f5a"
      },
      "execution_count": 15,
      "outputs": [
        {
          "output_type": "stream",
          "name": "stdout",
          "text": [
            "MAPE :  0.5682843520129164\n",
            "MAE :  0.003439657933592757\n",
            "MSE :  5.7110371724460844e-05\n",
            "RMSE :  0.00755714044625749\n",
            "MAPE :  0.47227183192790195\n",
            "MAE :  0.005007755251794679\n",
            "MSE :  9.437624842762508e-05\n",
            "RMSE :  0.00971474386834903\n",
            "MAPE :  0.5729843452584099\n",
            "MAE :  0.005956335387294018\n",
            "MSE :  0.0001615291655533952\n",
            "RMSE :  0.012709412478686621\n"
          ]
        }
      ]
    },
    {
      "cell_type": "code",
      "source": [
        "for i in range(0,37):\n",
        "  PIT_Lasso[i].to_excel(\"Prediction Cellule/Lasso/PIT_Lasso\"+str(i)+\".xlsx\")"
      ],
      "metadata": {
        "id": "WUlKvAzUqcFT"
      },
      "execution_count": 49,
      "outputs": []
    },
    {
      "cell_type": "markdown",
      "source": [
        "### Elastic"
      ],
      "metadata": {
        "id": "B957freZqgih"
      }
    },
    {
      "cell_type": "code",
      "source": [
        "Elastic = {}\n",
        "for i in range(1,11):\n",
        "  Elastic[i] = pd.read_excel(\"Prediction Cellule/PredictionCellule_Elastic.xlsx\",sheet_name=\"Classe\"+str(i))\n",
        "  Elastic[i].drop(columns=\"Unnamed: 0\",inplace=True)\n",
        "\n",
        "PIT_Cumule_Elastic = {}\n",
        "mo = pd.DataFrame([1,1,1,1,1,1,1,1,1,1],index=[\"1\",\"2\",\"3\",\"4\",\"5\",\"6\",\"7\",\"8\",\"9\",\"10\"])\n",
        "for i in range(0,37):\n",
        "  liste=[]\n",
        "  for j in range(1,11):\n",
        "    liste.append(Elastic[j].iloc[i,:])\n",
        "  PIT_Cumule_Elastic[i]=mo.merge(pd.DataFrame(liste,index=[\"1\",\"2\",\"3\",\"4\",\"5\",\"6\",\"7\",\"8\",\"9\",\"10\"]),left_index=True,right_index=True)\n",
        "  PIT_Cumule_Elastic[i].rename(columns={0:'1','Ligne_1':'2','Ligne_2':'3','Ligne_3':'4','Ligne_4':'5','Ligne_5':'6','Ligne_6':'7','Ligne_7':'8','Ligne_8':'9','Ligne_9':'10','Ligne_10':'11'},inplace=True)\n",
        "\n",
        "import sklearn.metrics as me\n",
        "import math\n",
        "\n",
        "listeR=[]\n",
        "for i in range(1,11):\n",
        "  for j in range(0,10):\n",
        "    listeR.append(PIT_Cumule_Elastic[12].iloc[j,i])\n",
        "listePIT=[]\n",
        "for i in range(1,11):\n",
        "  for j in range(0,10):\n",
        "    listePIT.append(PIT_CUMULE[97].iloc[j,i])\n",
        "\n",
        "print(\"MAPE : \",me.mean_absolute_percentage_error(listePIT,listeR))\n",
        "print(\"MAE : \",me.mean_absolute_error(listePIT,listeR))\n",
        "print(\"MSE : \",me.mean_squared_error(listePIT,listeR))\n",
        "print(\"RMSE : \",math.sqrt(me.mean_squared_error(listePIT,listeR)))\n",
        "\n",
        "listeR=[]\n",
        "for i in range(1,11):\n",
        "  for j in range(0,10):\n",
        "    listeR.append(PIT_Cumule_Elastic[24].iloc[j,i])\n",
        "listePIT=[]\n",
        "for i in range(1,11):\n",
        "  for j in range(0,10):\n",
        "    listePIT.append(PIT_CUMULE[108].iloc[j,i])\n",
        "\n",
        "print(\"MAPE : \",me.mean_absolute_percentage_error(listePIT,listeR))\n",
        "print(\"MAE : \",me.mean_absolute_error(listePIT,listeR))\n",
        "print(\"MSE : \",me.mean_squared_error(listePIT,listeR))\n",
        "print(\"RMSE : \",math.sqrt(me.mean_squared_error(listePIT,listeR)))\n",
        "\n",
        "listeR=[]\n",
        "for i in range(1,11):\n",
        "  for j in range(0,10):\n",
        "    listeR.append(PIT_Cumule_Elastic[36].iloc[j,i])\n",
        "listePIT=[]\n",
        "for i in range(1,11):\n",
        "  for j in range(0,10):\n",
        "    listePIT.append(PIT_CUMULE[120].iloc[j,i])\n",
        "\n",
        "print(\"MAPE : \",me.mean_absolute_percentage_error(listePIT,listeR))\n",
        "print(\"MAE : \",me.mean_absolute_error(listePIT,listeR))\n",
        "print(\"MSE : \",me.mean_squared_error(listePIT,listeR))\n",
        "print(\"RMSE : \",math.sqrt(me.mean_squared_error(listePIT,listeR)))\n",
        "\n",
        "PIT_Elastic = {}\n",
        "for i in range(0,37):\n",
        "  liste=[]\n",
        "  for j in range(0,10):\n",
        "    compteur=[]\n",
        "    for k in range(0,10):\n",
        "      compteur.append(PIT_Cumule_Elastic[i].iloc[j,k]-PIT_Cumule_Elastic[i].iloc[j,k+1])\n",
        "    compteur.append(PIT_Cumule_Elastic[i].iloc[j,10])\n",
        "    liste.append(compteur)\n",
        "  PIT_Elastic[i]=pd.DataFrame(liste,columns=[\"1\",\"2\",\"3\",\"4\",\"5\",\"6\",\"7\",\"8\",\"9\",\"10\",\"D\"],index=[\"1\",\"2\",\"3\",\"4\",\"5\",\"6\",\"7\",\"8\",\"9\",\"10\"])"
      ],
      "metadata": {
        "colab": {
          "base_uri": "https://localhost:8080/"
        },
        "id": "B2lHNsSdqip2",
        "outputId": "5c6683b8-b1ca-427c-9cdc-be30a3dffc0f"
      },
      "execution_count": 14,
      "outputs": [
        {
          "output_type": "stream",
          "name": "stdout",
          "text": [
            "MAPE :  0.5469975336911961\n",
            "MAE :  0.0031939228792988617\n",
            "MSE :  4.799413593914006e-05\n",
            "RMSE :  0.006927780015209783\n",
            "MAPE :  0.4519475074834139\n",
            "MAE :  0.004182618202187842\n",
            "MSE :  6.534450321871235e-05\n",
            "RMSE :  0.008083594696588415\n",
            "MAPE :  0.5316608845403225\n",
            "MAE :  0.0052756749455712786\n",
            "MSE :  0.00014568519282869425\n",
            "RMSE :  0.01207001213042863\n"
          ]
        }
      ]
    },
    {
      "cell_type": "code",
      "source": [
        "for i in range(0,37):\n",
        "  PIT_Elastic[i].to_excel(\"Prediction Cellule/Elastic/PIT_Elastic\"+str(i)+\".xlsx\")"
      ],
      "metadata": {
        "id": "_GtdA-jYq_ex"
      },
      "execution_count": 50,
      "outputs": []
    },
    {
      "cell_type": "markdown",
      "metadata": {
        "id": "V-OTW7xYEpRj"
      },
      "source": [
        "# Methode alternative : Credit Index"
      ]
    },
    {
      "cell_type": "markdown",
      "source": [
        "## AdaLasso"
      ],
      "metadata": {
        "id": "gG9U7bf66VdD"
      }
    },
    {
      "cell_type": "code",
      "metadata": {
        "id": "YBL_MsSjFQOv",
        "colab": {
          "base_uri": "https://localhost:8080/"
        },
        "outputId": "2061da43-a50c-450b-c55c-f736024dc7e9"
      },
      "source": [
        "PIT_CreditIndex_AdaLasso = {}\n",
        "PIT_CreditIndex_AdaLasso[1] = pd.read_excel(\"Matrice PIT credit index/Credit Index to Matrice Cumule_adalasso.xlsx\",sheet_name=\"PIT12\")\n",
        "PIT_CreditIndex_AdaLasso[1] = PIT_CreditIndex_AdaLasso[1].iloc[:,1:]\n",
        "PIT_CreditIndex_AdaLasso[2] = pd.read_excel(\"Matrice PIT credit index/Credit Index to Matrice Cumule_adalasso.xlsx\",sheet_name=\"PIT24\")\n",
        "PIT_CreditIndex_AdaLasso[2] = PIT_CreditIndex_AdaLasso[2].iloc[:,1:]\n",
        "PIT_CreditIndex_AdaLasso[3] = pd.read_excel(\"Matrice PIT credit index/Credit Index to Matrice Cumule_adalasso.xlsx\",sheet_name=\"PIT36\")\n",
        "PIT_CreditIndex_AdaLasso[3] = PIT_CreditIndex_AdaLasso[3].iloc[:,1:]\n",
        "\n",
        "listeR=[]\n",
        "for i in range(1,11):\n",
        "  for j in range(0,10):\n",
        "    listeR.append(PIT_CreditIndex_AdaLasso[1].iloc[j,i])\n",
        "listePIT=[]\n",
        "for i in range(1,11):\n",
        "  for j in range(0,10):\n",
        "    listePIT.append(PIT_CUMULE[97].iloc[j,i])\n",
        "\n",
        "print(\"MAPE : \",me.mean_absolute_percentage_error(listePIT,listeR))\n",
        "print(\"MAE : \",me.mean_absolute_error(listePIT,listeR))\n",
        "print(\"MSE : \",me.mean_squared_error(listePIT,listeR))\n",
        "print(\"RMSE : \",math.sqrt(me.mean_squared_error(listePIT,listeR)))\n",
        "\n",
        "listeR=[]\n",
        "for i in range(1,11):\n",
        "  for j in range(0,10):\n",
        "    listeR.append(PIT_CreditIndex_AdaLasso[2].iloc[j,i])\n",
        "listePIT=[]\n",
        "for i in range(1,11):\n",
        "  for j in range(0,10):\n",
        "    listePIT.append(PIT_CUMULE[108].iloc[j,i])\n",
        "\n",
        "print(\"MAPE : \",me.mean_absolute_percentage_error(listePIT,listeR))\n",
        "print(\"MAE : \",me.mean_absolute_error(listePIT,listeR))\n",
        "print(\"MSE : \",me.mean_squared_error(listePIT,listeR))\n",
        "print(\"RMSE : \",math.sqrt(me.mean_squared_error(listePIT,listeR)))\n",
        "\n",
        "listeR=[]\n",
        "for i in range(1,11):\n",
        "  for j in range(0,10):\n",
        "    listeR.append(PIT_CreditIndex_AdaLasso[3].iloc[j,i])\n",
        "listePIT=[]\n",
        "for i in range(1,11):\n",
        "  for j in range(0,10):\n",
        "    listePIT.append(PIT_CUMULE[120].iloc[j,i])\n",
        "\n",
        "print(\"MAPE : \",me.mean_absolute_percentage_error(listePIT,listeR))\n",
        "print(\"MAE : \",me.mean_absolute_error(listePIT,listeR))\n",
        "print(\"MSE : \",me.mean_squared_error(listePIT,listeR))\n",
        "print(\"RMSE : \",math.sqrt(me.mean_squared_error(listePIT,listeR)))\n",
        "\n",
        "PIT_CI_AdaLasso = {}\n",
        "for i in range(1,4):\n",
        "  liste=[]\n",
        "  for j in range(0,10):\n",
        "    compteur=[]\n",
        "    for k in range(0,10):\n",
        "      compteur.append(PIT_CreditIndex_AdaLasso[i].iloc[j,k]-PIT_CreditIndex_AdaLasso[i].iloc[j,k+1])\n",
        "    compteur.append(PIT_CreditIndex_AdaLasso[i].iloc[j,10])\n",
        "    liste.append(compteur)\n",
        "  PIT_CI_AdaLasso[i]=pd.DataFrame(liste,columns=[\"1\",\"2\",\"3\",\"4\",\"5\",\"6\",\"7\",\"8\",\"9\",\"10\",\"D\"],index=[\"1\",\"2\",\"3\",\"4\",\"5\",\"6\",\"7\",\"8\",\"9\",\"10\"])\n",
        "  PIT_CI_AdaLasso[i].to_excel(\"Matrice Predite/PIT_AdaLasso\"+str(i)+\"_CreditIndex.xlsx\")"
      ],
      "execution_count": 44,
      "outputs": [
        {
          "output_type": "stream",
          "name": "stdout",
          "text": [
            "MAPE :  0.5523786084486046\n",
            "MAE :  0.05762916212216738\n",
            "MSE :  0.01239596690004915\n",
            "RMSE :  0.11133717663049099\n",
            "MAPE :  0.728165592569803\n",
            "MAE :  0.17792657030834844\n",
            "MSE :  0.09253455519750343\n",
            "RMSE :  0.30419492960518496\n",
            "MAPE :  0.7420005474245728\n",
            "MAE :  0.190306341936859\n",
            "MSE :  0.10442168466646823\n",
            "RMSE :  0.3231434428647257\n"
          ]
        }
      ]
    },
    {
      "cell_type": "markdown",
      "source": [
        "## Lasso"
      ],
      "metadata": {
        "id": "F9QryGWe-yb0"
      }
    },
    {
      "cell_type": "code",
      "source": [
        "PIT_CreditIndex_Lasso = {}\n",
        "PIT_CreditIndex_Lasso[1] = pd.read_excel(\"Matrice PIT credit index/Credit Index to Matrice Cumule_lasso.xlsx\",sheet_name=\"PIT12\")\n",
        "PIT_CreditIndex_Lasso[1] = PIT_CreditIndex_Lasso[1].iloc[:,1:]\n",
        "PIT_CreditIndex_Lasso[2] = pd.read_excel(\"Matrice PIT credit index/Credit Index to Matrice Cumule_lasso.xlsx\",sheet_name=\"PIT24\")\n",
        "PIT_CreditIndex_Lasso[2] = PIT_CreditIndex_Lasso[2].iloc[:,1:]\n",
        "PIT_CreditIndex_Lasso[3] = pd.read_excel(\"Matrice PIT credit index/Credit Index to Matrice Cumule_lasso.xlsx\",sheet_name=\"PIT36\")\n",
        "PIT_CreditIndex_Lasso[3] = PIT_CreditIndex_Lasso[3].iloc[:,1:]\n",
        "\n",
        "listeR=[]\n",
        "for i in range(1,11):\n",
        "  for j in range(0,10):\n",
        "    listeR.append(PIT_CreditIndex_Lasso[1].iloc[j,i])\n",
        "listePIT=[]\n",
        "for i in range(1,11):\n",
        "  for j in range(0,10):\n",
        "    listePIT.append(PIT_CUMULE[97].iloc[j,i])\n",
        "\n",
        "print(\"MAPE : \",me.mean_absolute_percentage_error(listePIT,listeR))\n",
        "print(\"MAE : \",me.mean_absolute_error(listePIT,listeR))\n",
        "print(\"MSE : \",me.mean_squared_error(listePIT,listeR))\n",
        "print(\"RMSE : \",math.sqrt(me.mean_squared_error(listePIT,listeR)))\n",
        "\n",
        "listeR=[]\n",
        "for i in range(1,11):\n",
        "  for j in range(0,10):\n",
        "    listeR.append(PIT_CreditIndex_Lasso[2].iloc[j,i])\n",
        "listePIT=[]\n",
        "for i in range(1,11):\n",
        "  for j in range(0,10):\n",
        "    listePIT.append(PIT_CUMULE[108].iloc[j,i])\n",
        "\n",
        "print(\"MAPE : \",me.mean_absolute_percentage_error(listePIT,listeR))\n",
        "print(\"MAE : \",me.mean_absolute_error(listePIT,listeR))\n",
        "print(\"MSE : \",me.mean_squared_error(listePIT,listeR))\n",
        "print(\"RMSE : \",math.sqrt(me.mean_squared_error(listePIT,listeR)))\n",
        "\n",
        "listeR=[]\n",
        "for i in range(1,11):\n",
        "  for j in range(0,10):\n",
        "    listeR.append(PIT_CreditIndex_Lasso[3].iloc[j,i])\n",
        "listePIT=[]\n",
        "for i in range(1,11):\n",
        "  for j in range(0,10):\n",
        "    listePIT.append(PIT_CUMULE[120].iloc[j,i])\n",
        "\n",
        "print(\"MAPE : \",me.mean_absolute_percentage_error(listePIT,listeR))\n",
        "print(\"MAE : \",me.mean_absolute_error(listePIT,listeR))\n",
        "print(\"MSE : \",me.mean_squared_error(listePIT,listeR))\n",
        "print(\"RMSE : \",math.sqrt(me.mean_squared_error(listePIT,listeR)))\n",
        "\n",
        "PIT_CI_Lasso = {}\n",
        "for i in range(1,4):\n",
        "  liste=[]\n",
        "  for j in range(0,10):\n",
        "    compteur=[]\n",
        "    for k in range(0,10):\n",
        "      compteur.append(PIT_CreditIndex_Lasso[i].iloc[j,k]-PIT_CreditIndex_Lasso[i].iloc[j,k+1])\n",
        "    compteur.append(PIT_CreditIndex_Lasso[i].iloc[j,10])\n",
        "    liste.append(compteur)\n",
        "  PIT_CI_Lasso[i]=pd.DataFrame(liste,columns=[\"1\",\"2\",\"3\",\"4\",\"5\",\"6\",\"7\",\"8\",\"9\",\"10\",\"D\"],index=[\"1\",\"2\",\"3\",\"4\",\"5\",\"6\",\"7\",\"8\",\"9\",\"10\"])"
      ],
      "metadata": {
        "colab": {
          "base_uri": "https://localhost:8080/",
          "height": 522
        },
        "id": "isnUOu_C8Ozb",
        "outputId": "82317fed-bc86-41e2-f9cc-b0495b1781d8"
      },
      "execution_count": 42,
      "outputs": [
        {
          "output_type": "stream",
          "name": "stderr",
          "text": [
            "/usr/local/lib/python3.7/dist-packages/sklearn/metrics/_regression.py:91: FutureWarning: Arrays of bytes/strings is being converted to decimal numbers if dtype='numeric'. This behavior is deprecated in 0.24 and will be removed in 1.1 (renaming of 0.26). Please convert your data to numeric values explicitly instead.\n",
            "  y_pred = check_array(y_pred, ensure_2d=False, dtype=dtype)\n"
          ]
        },
        {
          "output_type": "error",
          "ename": "ValueError",
          "evalue": "ignored",
          "traceback": [
            "\u001b[0;31m---------------------------------------------------------------------------\u001b[0m",
            "\u001b[0;31mValueError\u001b[0m                                Traceback (most recent call last)",
            "\u001b[0;32m/usr/local/lib/python3.7/dist-packages/sklearn/utils/validation.py\u001b[0m in \u001b[0;36mcheck_array\u001b[0;34m(array, accept_sparse, accept_large_sparse, dtype, order, copy, force_all_finite, ensure_2d, allow_nd, ensure_min_samples, ensure_min_features, estimator)\u001b[0m\n\u001b[1;32m    778\u001b[0m             \u001b[0;32mtry\u001b[0m\u001b[0;34m:\u001b[0m\u001b[0;34m\u001b[0m\u001b[0;34m\u001b[0m\u001b[0m\n\u001b[0;32m--> 779\u001b[0;31m                 \u001b[0marray\u001b[0m \u001b[0;34m=\u001b[0m \u001b[0marray\u001b[0m\u001b[0;34m.\u001b[0m\u001b[0mastype\u001b[0m\u001b[0;34m(\u001b[0m\u001b[0mnp\u001b[0m\u001b[0;34m.\u001b[0m\u001b[0mfloat64\u001b[0m\u001b[0;34m)\u001b[0m\u001b[0;34m\u001b[0m\u001b[0;34m\u001b[0m\u001b[0m\n\u001b[0m\u001b[1;32m    780\u001b[0m             \u001b[0;32mexcept\u001b[0m \u001b[0mValueError\u001b[0m \u001b[0;32mas\u001b[0m \u001b[0me\u001b[0m\u001b[0;34m:\u001b[0m\u001b[0;34m\u001b[0m\u001b[0;34m\u001b[0m\u001b[0m\n",
            "\u001b[0;31mValueError\u001b[0m: could not convert string to float: '#ERROR!'",
            "\nThe above exception was the direct cause of the following exception:\n",
            "\u001b[0;31mValueError\u001b[0m                                Traceback (most recent call last)",
            "\u001b[0;32m<ipython-input-42-9924c4f73182>\u001b[0m in \u001b[0;36m<module>\u001b[0;34m()\u001b[0m\n\u001b[1;32m     16\u001b[0m     \u001b[0mlistePIT\u001b[0m\u001b[0;34m.\u001b[0m\u001b[0mappend\u001b[0m\u001b[0;34m(\u001b[0m\u001b[0mPIT_CUMULE\u001b[0m\u001b[0;34m[\u001b[0m\u001b[0;36m97\u001b[0m\u001b[0;34m]\u001b[0m\u001b[0;34m.\u001b[0m\u001b[0miloc\u001b[0m\u001b[0;34m[\u001b[0m\u001b[0mj\u001b[0m\u001b[0;34m,\u001b[0m\u001b[0mi\u001b[0m\u001b[0;34m]\u001b[0m\u001b[0;34m)\u001b[0m\u001b[0;34m\u001b[0m\u001b[0;34m\u001b[0m\u001b[0m\n\u001b[1;32m     17\u001b[0m \u001b[0;34m\u001b[0m\u001b[0m\n\u001b[0;32m---> 18\u001b[0;31m \u001b[0mprint\u001b[0m\u001b[0;34m(\u001b[0m\u001b[0;34m\"MAPE : \"\u001b[0m\u001b[0;34m,\u001b[0m\u001b[0mme\u001b[0m\u001b[0;34m.\u001b[0m\u001b[0mmean_absolute_percentage_error\u001b[0m\u001b[0;34m(\u001b[0m\u001b[0mlistePIT\u001b[0m\u001b[0;34m,\u001b[0m\u001b[0mlisteR\u001b[0m\u001b[0;34m)\u001b[0m\u001b[0;34m)\u001b[0m\u001b[0;34m\u001b[0m\u001b[0;34m\u001b[0m\u001b[0m\n\u001b[0m\u001b[1;32m     19\u001b[0m \u001b[0mprint\u001b[0m\u001b[0;34m(\u001b[0m\u001b[0;34m\"MAE : \"\u001b[0m\u001b[0;34m,\u001b[0m\u001b[0mme\u001b[0m\u001b[0;34m.\u001b[0m\u001b[0mmean_absolute_error\u001b[0m\u001b[0;34m(\u001b[0m\u001b[0mlistePIT\u001b[0m\u001b[0;34m,\u001b[0m\u001b[0mlisteR\u001b[0m\u001b[0;34m)\u001b[0m\u001b[0;34m)\u001b[0m\u001b[0;34m\u001b[0m\u001b[0;34m\u001b[0m\u001b[0m\n\u001b[1;32m     20\u001b[0m \u001b[0mprint\u001b[0m\u001b[0;34m(\u001b[0m\u001b[0;34m\"MSE : \"\u001b[0m\u001b[0;34m,\u001b[0m\u001b[0mme\u001b[0m\u001b[0;34m.\u001b[0m\u001b[0mmean_squared_error\u001b[0m\u001b[0;34m(\u001b[0m\u001b[0mlistePIT\u001b[0m\u001b[0;34m,\u001b[0m\u001b[0mlisteR\u001b[0m\u001b[0;34m)\u001b[0m\u001b[0;34m)\u001b[0m\u001b[0;34m\u001b[0m\u001b[0;34m\u001b[0m\u001b[0m\n",
            "\u001b[0;32m/usr/local/lib/python3.7/dist-packages/sklearn/metrics/_regression.py\u001b[0m in \u001b[0;36mmean_absolute_percentage_error\u001b[0;34m(y_true, y_pred, sample_weight, multioutput)\u001b[0m\n\u001b[1;32m    345\u001b[0m     \"\"\"\n\u001b[1;32m    346\u001b[0m     y_type, y_true, y_pred, multioutput = _check_reg_targets(\n\u001b[0;32m--> 347\u001b[0;31m         \u001b[0my_true\u001b[0m\u001b[0;34m,\u001b[0m \u001b[0my_pred\u001b[0m\u001b[0;34m,\u001b[0m \u001b[0mmultioutput\u001b[0m\u001b[0;34m\u001b[0m\u001b[0;34m\u001b[0m\u001b[0m\n\u001b[0m\u001b[1;32m    348\u001b[0m     )\n\u001b[1;32m    349\u001b[0m     \u001b[0mcheck_consistent_length\u001b[0m\u001b[0;34m(\u001b[0m\u001b[0my_true\u001b[0m\u001b[0;34m,\u001b[0m \u001b[0my_pred\u001b[0m\u001b[0;34m,\u001b[0m \u001b[0msample_weight\u001b[0m\u001b[0;34m)\u001b[0m\u001b[0;34m\u001b[0m\u001b[0;34m\u001b[0m\u001b[0m\n",
            "\u001b[0;32m/usr/local/lib/python3.7/dist-packages/sklearn/metrics/_regression.py\u001b[0m in \u001b[0;36m_check_reg_targets\u001b[0;34m(y_true, y_pred, multioutput, dtype)\u001b[0m\n\u001b[1;32m     89\u001b[0m     \u001b[0mcheck_consistent_length\u001b[0m\u001b[0;34m(\u001b[0m\u001b[0my_true\u001b[0m\u001b[0;34m,\u001b[0m \u001b[0my_pred\u001b[0m\u001b[0;34m)\u001b[0m\u001b[0;34m\u001b[0m\u001b[0;34m\u001b[0m\u001b[0m\n\u001b[1;32m     90\u001b[0m     \u001b[0my_true\u001b[0m \u001b[0;34m=\u001b[0m \u001b[0mcheck_array\u001b[0m\u001b[0;34m(\u001b[0m\u001b[0my_true\u001b[0m\u001b[0;34m,\u001b[0m \u001b[0mensure_2d\u001b[0m\u001b[0;34m=\u001b[0m\u001b[0;32mFalse\u001b[0m\u001b[0;34m,\u001b[0m \u001b[0mdtype\u001b[0m\u001b[0;34m=\u001b[0m\u001b[0mdtype\u001b[0m\u001b[0;34m)\u001b[0m\u001b[0;34m\u001b[0m\u001b[0;34m\u001b[0m\u001b[0m\n\u001b[0;32m---> 91\u001b[0;31m     \u001b[0my_pred\u001b[0m \u001b[0;34m=\u001b[0m \u001b[0mcheck_array\u001b[0m\u001b[0;34m(\u001b[0m\u001b[0my_pred\u001b[0m\u001b[0;34m,\u001b[0m \u001b[0mensure_2d\u001b[0m\u001b[0;34m=\u001b[0m\u001b[0;32mFalse\u001b[0m\u001b[0;34m,\u001b[0m \u001b[0mdtype\u001b[0m\u001b[0;34m=\u001b[0m\u001b[0mdtype\u001b[0m\u001b[0;34m)\u001b[0m\u001b[0;34m\u001b[0m\u001b[0;34m\u001b[0m\u001b[0m\n\u001b[0m\u001b[1;32m     92\u001b[0m \u001b[0;34m\u001b[0m\u001b[0m\n\u001b[1;32m     93\u001b[0m     \u001b[0;32mif\u001b[0m \u001b[0my_true\u001b[0m\u001b[0;34m.\u001b[0m\u001b[0mndim\u001b[0m \u001b[0;34m==\u001b[0m \u001b[0;36m1\u001b[0m\u001b[0;34m:\u001b[0m\u001b[0;34m\u001b[0m\u001b[0;34m\u001b[0m\u001b[0m\n",
            "\u001b[0;32m/usr/local/lib/python3.7/dist-packages/sklearn/utils/validation.py\u001b[0m in \u001b[0;36mcheck_array\u001b[0;34m(array, accept_sparse, accept_large_sparse, dtype, order, copy, force_all_finite, ensure_2d, allow_nd, ensure_min_samples, ensure_min_features, estimator)\u001b[0m\n\u001b[1;32m    782\u001b[0m                     \u001b[0;34m\"Unable to convert array of bytes/strings \"\u001b[0m\u001b[0;34m\u001b[0m\u001b[0;34m\u001b[0m\u001b[0m\n\u001b[1;32m    783\u001b[0m                     \u001b[0;34m\"into decimal numbers with dtype='numeric'\"\u001b[0m\u001b[0;34m\u001b[0m\u001b[0;34m\u001b[0m\u001b[0m\n\u001b[0;32m--> 784\u001b[0;31m                 ) from e\n\u001b[0m\u001b[1;32m    785\u001b[0m         \u001b[0;32mif\u001b[0m \u001b[0;32mnot\u001b[0m \u001b[0mallow_nd\u001b[0m \u001b[0;32mand\u001b[0m \u001b[0marray\u001b[0m\u001b[0;34m.\u001b[0m\u001b[0mndim\u001b[0m \u001b[0;34m>=\u001b[0m \u001b[0;36m3\u001b[0m\u001b[0;34m:\u001b[0m\u001b[0;34m\u001b[0m\u001b[0;34m\u001b[0m\u001b[0m\n\u001b[1;32m    786\u001b[0m             raise ValueError(\n",
            "\u001b[0;31mValueError\u001b[0m: Unable to convert array of bytes/strings into decimal numbers with dtype='numeric'"
          ]
        }
      ]
    },
    {
      "cell_type": "markdown",
      "source": [
        "## Ridge"
      ],
      "metadata": {
        "id": "Y9At2eqTAtgB"
      }
    },
    {
      "cell_type": "code",
      "source": [
        "PIT_CreditIndex_Ridge = {}\n",
        "PIT_CreditIndex_Ridge[1] = pd.read_excel(\"Matrice PIT credit index/Credit Index to Matrice Cumule_RIDGE.xlsx\",sheet_name=\"PIT12\")\n",
        "PIT_CreditIndex_Ridge[1] = PIT_CreditIndex_Ridge[1].iloc[:,1:]\n",
        "PIT_CreditIndex_Ridge[2] = pd.read_excel(\"Matrice PIT credit index/Credit Index to Matrice Cumule_RIDGE.xlsx\",sheet_name=\"PIT24\")\n",
        "PIT_CreditIndex_Ridge[2] = PIT_CreditIndex_Ridge[2].iloc[:,1:]\n",
        "PIT_CreditIndex_Ridge[3] = pd.read_excel(\"Matrice PIT credit index/Credit Index to Matrice Cumule_RIDGE.xlsx\",sheet_name=\"PIT36\")\n",
        "PIT_CreditIndex_Ridge[3] = PIT_CreditIndex_Ridge[3].iloc[:,1:]\n",
        "\n",
        "listeR=[]\n",
        "for i in range(1,11):\n",
        "  for j in range(0,10):\n",
        "    listeR.append(PIT_CreditIndex_Ridge[1].iloc[j,i])\n",
        "listePIT=[]\n",
        "for i in range(1,11):\n",
        "  for j in range(0,10):\n",
        "    listePIT.append(PIT_CUMULE[97].iloc[j,i])\n",
        "\n",
        "print(\"MAPE : \",me.mean_absolute_percentage_error(listePIT,listeR))\n",
        "print(\"MAE : \",me.mean_absolute_error(listePIT,listeR))\n",
        "print(\"MSE : \",me.mean_squared_error(listePIT,listeR))\n",
        "print(\"RMSE : \",math.sqrt(me.mean_squared_error(listePIT,listeR)))\n",
        "\n",
        "listeR=[]\n",
        "for i in range(1,11):\n",
        "  for j in range(0,10):\n",
        "    listeR.append(PIT_CreditIndex_Ridge[2].iloc[j,i])\n",
        "listePIT=[]\n",
        "for i in range(1,11):\n",
        "  for j in range(0,10):\n",
        "    listePIT.append(PIT_CUMULE[108].iloc[j,i])\n",
        "\n",
        "print(\"MAPE : \",me.mean_absolute_percentage_error(listePIT,listeR))\n",
        "print(\"MAE : \",me.mean_absolute_error(listePIT,listeR))\n",
        "print(\"MSE : \",me.mean_squared_error(listePIT,listeR))\n",
        "print(\"RMSE : \",math.sqrt(me.mean_squared_error(listePIT,listeR)))\n",
        "\n",
        "listeR=[]\n",
        "for i in range(1,11):\n",
        "  for j in range(0,10):\n",
        "    listeR.append(PIT_CreditIndex_Ridge[3].iloc[j,i])\n",
        "listePIT=[]\n",
        "for i in range(1,11):\n",
        "  for j in range(0,10):\n",
        "    listePIT.append(PIT_CUMULE[120].iloc[j,i])\n",
        "\n",
        "print(\"MAPE : \",me.mean_absolute_percentage_error(listePIT,listeR))\n",
        "print(\"MAE : \",me.mean_absolute_error(listePIT,listeR))\n",
        "print(\"MSE : \",me.mean_squared_error(listePIT,listeR))\n",
        "print(\"RMSE : \",math.sqrt(me.mean_squared_error(listePIT,listeR)))\n",
        "\n",
        "PIT_CI_Ridge = {}\n",
        "for i in range(1,4):\n",
        "  liste=[]\n",
        "  for j in range(0,10):\n",
        "    compteur=[]\n",
        "    for k in range(0,10):\n",
        "      compteur.append(PIT_CreditIndex_Ridge[i].iloc[j,k]-PIT_CreditIndex_Ridge[i].iloc[j,k+1])\n",
        "    compteur.append(PIT_CreditIndex_Ridge[i].iloc[j,10])\n",
        "    liste.append(compteur)\n",
        "  PIT_CI_Ridge[i]=pd.DataFrame(liste,columns=[\"1\",\"2\",\"3\",\"4\",\"5\",\"6\",\"7\",\"8\",\"9\",\"10\",\"D\"],index=[\"1\",\"2\",\"3\",\"4\",\"5\",\"6\",\"7\",\"8\",\"9\",\"10\"])"
      ],
      "metadata": {
        "colab": {
          "base_uri": "https://localhost:8080/"
        },
        "id": "4-99py6M_d0p",
        "outputId": "77ec4b12-c9aa-46f5-90dd-95288ac4d242"
      },
      "execution_count": 38,
      "outputs": [
        {
          "output_type": "stream",
          "name": "stdout",
          "text": [
            "MAPE :  1.2700152793578223\n",
            "MAE :  0.22557156490924757\n",
            "MSE :  0.13752909682314157\n",
            "RMSE :  0.37084915642770655\n",
            "MAPE :  0.7562430039637182\n",
            "MAE :  0.3082107045008915\n",
            "MSE :  0.23238122233628766\n",
            "RMSE :  0.48205935561535124\n",
            "MAPE :  0.815968073288601\n",
            "MAE :  0.31860460768373916\n",
            "MSE :  0.24563083991973816\n",
            "RMSE :  0.4956115817046028\n"
          ]
        }
      ]
    },
    {
      "cell_type": "markdown",
      "source": [
        "## Msaenet"
      ],
      "metadata": {
        "id": "tOOACZr7B7iU"
      }
    },
    {
      "cell_type": "code",
      "source": [
        "PIT_CreditIndex_Msaenet = {}\n",
        "PIT_CreditIndex_Msaenet[1] = pd.read_excel(\"Matrice PIT credit index/Credit Index to Matrice Cumule_MSAENET.xlsx\",sheet_name=\"PIT12\")\n",
        "PIT_CreditIndex_Msaenet[1] = PIT_CreditIndex_Msaenet[1].iloc[:,1:]\n",
        "PIT_CreditIndex_Msaenet[2] = pd.read_excel(\"Matrice PIT credit index/Credit Index to Matrice Cumule_MSAENET.xlsx\",sheet_name=\"PIT24\")\n",
        "PIT_CreditIndex_Msaenet[2] = PIT_CreditIndex_Msaenet[2].iloc[:,1:]\n",
        "PIT_CreditIndex_Msaenet[3] = pd.read_excel(\"Matrice PIT credit index/Credit Index to Matrice Cumule_MSAENET.xlsx\",sheet_name=\"PIT36\")\n",
        "PIT_CreditIndex_Msaenet[3] = PIT_CreditIndex_Msaenet[3].iloc[:,1:]\n",
        "\n",
        "listeR=[]\n",
        "for i in range(1,11):\n",
        "  for j in range(0,10):\n",
        "    listeR.append(PIT_CreditIndex_Msaenet[1].iloc[j,i])\n",
        "listePIT=[]\n",
        "for i in range(1,11):\n",
        "  for j in range(0,10):\n",
        "    listePIT.append(PIT_CUMULE[97].iloc[j,i])\n",
        "\n",
        "print(\"MAPE : \",me.mean_absolute_percentage_error(listePIT,listeR))\n",
        "print(\"MAE : \",me.mean_absolute_error(listePIT,listeR))\n",
        "print(\"MSE : \",me.mean_squared_error(listePIT,listeR))\n",
        "print(\"RMSE : \",math.sqrt(me.mean_squared_error(listePIT,listeR)))\n",
        "\n",
        "listeR=[]\n",
        "for i in range(1,11):\n",
        "  for j in range(0,10):\n",
        "    listeR.append(PIT_CreditIndex_Msaenet[2].iloc[j,i])\n",
        "listePIT=[]\n",
        "for i in range(1,11):\n",
        "  for j in range(0,10):\n",
        "    listePIT.append(PIT_CUMULE[108].iloc[j,i])\n",
        "\n",
        "print(\"MAPE : \",me.mean_absolute_percentage_error(listePIT,listeR))\n",
        "print(\"MAE : \",me.mean_absolute_error(listePIT,listeR))\n",
        "print(\"MSE : \",me.mean_squared_error(listePIT,listeR))\n",
        "print(\"RMSE : \",math.sqrt(me.mean_squared_error(listePIT,listeR)))\n",
        "\n",
        "listeR=[]\n",
        "for i in range(1,11):\n",
        "  for j in range(0,10):\n",
        "    listeR.append(PIT_CreditIndex_Msaenet[3].iloc[j,i])\n",
        "listePIT=[]\n",
        "for i in range(1,11):\n",
        "  for j in range(0,10):\n",
        "    listePIT.append(PIT_CUMULE[120].iloc[j,i])\n",
        "\n",
        "print(\"MAPE : \",me.mean_absolute_percentage_error(listePIT,listeR))\n",
        "print(\"MAE : \",me.mean_absolute_error(listePIT,listeR))\n",
        "print(\"MSE : \",me.mean_squared_error(listePIT,listeR))\n",
        "print(\"RMSE : \",math.sqrt(me.mean_squared_error(listePIT,listeR)))\n",
        "\n",
        "PIT_CI_Msaenet = {}\n",
        "for i in range(1,4):\n",
        "  liste=[]\n",
        "  for j in range(0,10):\n",
        "    compteur=[]\n",
        "    for k in range(0,10):\n",
        "      compteur.append(PIT_CreditIndex_Msaenet[i].iloc[j,k]-PIT_CreditIndex_Msaenet[i].iloc[j,k+1])\n",
        "    compteur.append(PIT_CreditIndex_Msaenet[i].iloc[j,10])\n",
        "    liste.append(compteur)\n",
        "  PIT_CI_Msaenet[i]=pd.DataFrame(liste,columns=[\"1\",\"2\",\"3\",\"4\",\"5\",\"6\",\"7\",\"8\",\"9\",\"10\",\"D\"],index=[\"1\",\"2\",\"3\",\"4\",\"5\",\"6\",\"7\",\"8\",\"9\",\"10\"])"
      ],
      "metadata": {
        "colab": {
          "base_uri": "https://localhost:8080/"
        },
        "id": "SqTN2QFeB6x6",
        "outputId": "7237f9ee-ff8e-43e9-dd27-dfda047c88f4"
      },
      "execution_count": 39,
      "outputs": [
        {
          "output_type": "stream",
          "name": "stdout",
          "text": [
            "MAPE :  0.798967246675713\n",
            "MAE :  0.27316794353748625\n",
            "MSE :  0.18898506612763755\n",
            "RMSE :  0.4347241264614118\n",
            "MAPE :  0.8878263734847002\n",
            "MAE :  0.3535713719908322\n",
            "MSE :  0.2929518622892933\n",
            "RMSE :  0.5412502769415396\n",
            "MAPE :  0.8444170845525018\n",
            "MAE :  0.33117903069594334\n",
            "MSE :  0.26288931122956066\n",
            "RMSE :  0.5127273263924604\n"
          ]
        }
      ]
    },
    {
      "cell_type": "markdown",
      "source": [
        "## Elastic Net"
      ],
      "metadata": {
        "id": "Ju3BuQ6VDR25"
      }
    },
    {
      "cell_type": "code",
      "source": [
        "PIT_CreditIndex_Elastic = {}\n",
        "PIT_CreditIndex_Elastic[1] = pd.read_excel(\"Matrice PIT credit index/Credit Index to Matrice Cumule_ELAS.xlsx\",sheet_name=\"PIT12\")\n",
        "PIT_CreditIndex_Elastic[1] = PIT_CreditIndex_Elastic[1].iloc[:,1:]\n",
        "PIT_CreditIndex_Elastic[2] = pd.read_excel(\"Matrice PIT credit index/Credit Index to Matrice Cumule_ELAS.xlsx\",sheet_name=\"PIT24\")\n",
        "PIT_CreditIndex_Elastic[2] = PIT_CreditIndex_Elastic[2].iloc[:,1:]\n",
        "PIT_CreditIndex_Elastic[3] = pd.read_excel(\"Matrice PIT credit index/Credit Index to Matrice Cumule_ELAS.xlsx\",sheet_name=\"PIT36\")\n",
        "PIT_CreditIndex_Elastic[3] = PIT_CreditIndex_Elastic[3].iloc[:,1:]\n",
        "\n",
        "listeR=[]\n",
        "for i in range(1,11):\n",
        "  for j in range(0,10):\n",
        "    listeR.append(PIT_CreditIndex_Elastic[1].iloc[j,i])\n",
        "listePIT=[]\n",
        "for i in range(1,11):\n",
        "  for j in range(0,10):\n",
        "    listePIT.append(PIT_CUMULE[97].iloc[j,i])\n",
        "\n",
        "print(\"MAPE : \",me.mean_absolute_percentage_error(listePIT,listeR))\n",
        "print(\"MAE : \",me.mean_absolute_error(listePIT,listeR))\n",
        "print(\"MSE : \",me.mean_squared_error(listePIT,listeR))\n",
        "print(\"RMSE : \",math.sqrt(me.mean_squared_error(listePIT,listeR)))\n",
        "\n",
        "listeR=[]\n",
        "for i in range(1,11):\n",
        "  for j in range(0,10):\n",
        "    listeR.append(PIT_CreditIndex_Elastic[2].iloc[j,i])\n",
        "listePIT=[]\n",
        "for i in range(1,11):\n",
        "  for j in range(0,10):\n",
        "    listePIT.append(PIT_CUMULE[108].iloc[j,i])\n",
        "\n",
        "print(\"MAPE : \",me.mean_absolute_percentage_error(listePIT,listeR))\n",
        "print(\"MAE : \",me.mean_absolute_error(listePIT,listeR))\n",
        "print(\"MSE : \",me.mean_squared_error(listePIT,listeR))\n",
        "print(\"RMSE : \",math.sqrt(me.mean_squared_error(listePIT,listeR)))\n",
        "\n",
        "listeR=[]\n",
        "for i in range(1,11):\n",
        "  for j in range(0,10):\n",
        "    listeR.append(PIT_CreditIndex_Elastic[3].iloc[j,i])\n",
        "listePIT=[]\n",
        "for i in range(1,11):\n",
        "  for j in range(0,10):\n",
        "    listePIT.append(PIT_CUMULE[120].iloc[j,i])\n",
        "\n",
        "print(\"MAPE : \",me.mean_absolute_percentage_error(listePIT,listeR))\n",
        "print(\"MAE : \",me.mean_absolute_error(listePIT,listeR))\n",
        "print(\"MSE : \",me.mean_squared_error(listePIT,listeR))\n",
        "print(\"RMSE : \",math.sqrt(me.mean_squared_error(listePIT,listeR)))\n",
        "\n",
        "PIT_CI_Elastic = {}\n",
        "for i in range(1,4):\n",
        "  liste=[]\n",
        "  for j in range(0,10):\n",
        "    compteur=[]\n",
        "    for k in range(0,10):\n",
        "      compteur.append(PIT_CreditIndex_Elastic[i].iloc[j,k]-PIT_CreditIndex_Elastic[i].iloc[j,k+1])\n",
        "    compteur.append(PIT_CreditIndex_Elastic[i].iloc[j,10])\n",
        "    liste.append(compteur)\n",
        "  PIT_CI_Elastic[i]=pd.DataFrame(liste,columns=[\"1\",\"2\",\"3\",\"4\",\"5\",\"6\",\"7\",\"8\",\"9\",\"10\",\"D\"],index=[\"1\",\"2\",\"3\",\"4\",\"5\",\"6\",\"7\",\"8\",\"9\",\"10\"])"
      ],
      "metadata": {
        "colab": {
          "base_uri": "https://localhost:8080/"
        },
        "id": "JyaIUuyKDaiO",
        "outputId": "711c248b-c793-4811-844b-61e5bdeb17ea"
      },
      "execution_count": 40,
      "outputs": [
        {
          "output_type": "stream",
          "name": "stdout",
          "text": [
            "MAPE :  0.5808220368571749\n",
            "MAE :  0.0708454832039837\n",
            "MSE :  0.024730724194060003\n",
            "RMSE :  0.15726005275994284\n",
            "MAPE :  0.7367029866771472\n",
            "MAE :  0.18546899172113762\n",
            "MSE :  0.10147764970355314\n",
            "RMSE :  0.31855556768569143\n",
            "MAPE :  0.7535573475001105\n",
            "MAE :  0.20121886302530675\n",
            "MSE :  0.11721956732620142\n",
            "RMSE :  0.34237343256479674\n"
          ]
        }
      ]
    },
    {
      "cell_type": "markdown",
      "source": [
        "# Methode Classique : Matrice PIT"
      ],
      "metadata": {
        "id": "VAQApLbMIkvp"
      }
    },
    {
      "cell_type": "markdown",
      "source": [
        "## AdaLasso"
      ],
      "metadata": {
        "id": "nNHa0XvLJSQ8"
      }
    },
    {
      "cell_type": "code",
      "source": [
        "PIT_Predit_AdaLasso = {}\n",
        "PIT_Predit_AdaLasso[1] = pd.read_excel(\"Matrice PIT taux de défaut projetés/Matrice projetée_Adalasso.xlsx\",sheet_name=\"PIT12\")\n",
        "PIT_Predit_AdaLasso[1] = PIT_Predit_AdaLasso[1].iloc[:,1:]\n",
        "PIT_Predit_AdaLasso[2] = pd.read_excel(\"Matrice PIT taux de défaut projetés/Matrice projetée_Adalasso.xlsx\",sheet_name=\"PIT24\")\n",
        "PIT_Predit_AdaLasso[2] = PIT_Predit_AdaLasso[2].iloc[:,1:]\n",
        "PIT_Predit_AdaLasso[3] = pd.read_excel(\"Matrice PIT taux de défaut projetés/Matrice projetée_Adalasso.xlsx\",sheet_name=\"PIT36\")\n",
        "PIT_Predit_AdaLasso[3] = PIT_Predit_AdaLasso[3].iloc[:,1:]\n",
        "\n",
        "listeR=[]\n",
        "for i in range(1,11):\n",
        "  for j in range(0,10):\n",
        "    listeR.append(PIT_Predit_AdaLasso[1].iloc[j,i])\n",
        "listePIT=[]\n",
        "for i in range(1,11):\n",
        "  for j in range(0,10):\n",
        "    listePIT.append(PIT_CUMULE[97].iloc[j,i])\n",
        "\n",
        "print(\"MAPE : \",me.mean_absolute_percentage_error(listePIT,listeR))\n",
        "print(\"MAE : \",me.mean_absolute_error(listePIT,listeR))\n",
        "print(\"MSE : \",me.mean_squared_error(listePIT,listeR))\n",
        "print(\"RMSE : \",math.sqrt(me.mean_squared_error(listePIT,listeR)))\n",
        "\n",
        "listeR=[]\n",
        "for i in range(1,11):\n",
        "  for j in range(0,10):\n",
        "    listeR.append(PIT_Predit_AdaLasso[2].iloc[j,i])\n",
        "listePIT=[]\n",
        "for i in range(1,11):\n",
        "  for j in range(0,10):\n",
        "    listePIT.append(PIT_CUMULE[108].iloc[j,i])\n",
        "\n",
        "print(\"MAPE : \",me.mean_absolute_percentage_error(listePIT,listeR))\n",
        "print(\"MAE : \",me.mean_absolute_error(listePIT,listeR))\n",
        "print(\"MSE : \",me.mean_squared_error(listePIT,listeR))\n",
        "print(\"RMSE : \",math.sqrt(me.mean_squared_error(listePIT,listeR)))\n",
        "\n",
        "listeR=[]\n",
        "for i in range(1,11):\n",
        "  for j in range(0,10):\n",
        "    listeR.append(PIT_Predit_AdaLasso[3].iloc[j,i])\n",
        "listePIT=[]\n",
        "for i in range(1,11):\n",
        "  for j in range(0,10):\n",
        "    listePIT.append(PIT_CUMULE[120].iloc[j,i])\n",
        "\n",
        "print(\"MAPE : \",me.mean_absolute_percentage_error(listePIT,listeR))\n",
        "print(\"MAE : \",me.mean_absolute_error(listePIT,listeR))\n",
        "print(\"MSE : \",me.mean_squared_error(listePIT,listeR))\n",
        "print(\"RMSE : \",math.sqrt(me.mean_squared_error(listePIT,listeR)))\n",
        "\n",
        "PIT_P_AdaLasso = {}\n",
        "for i in range(1,4):\n",
        "  liste=[]\n",
        "  for j in range(0,10):\n",
        "    compteur=[]\n",
        "    for k in range(0,10):\n",
        "      compteur.append(PIT_Predit_AdaLasso[i].iloc[j,k]-PIT_Predit_AdaLasso[i].iloc[j,k+1])\n",
        "    compteur.append(PIT_Predit_AdaLasso[i].iloc[j,10])\n",
        "    liste.append(compteur)\n",
        "  PIT_P_AdaLasso[i]=pd.DataFrame(liste,columns=[\"1\",\"2\",\"3\",\"4\",\"5\",\"6\",\"7\",\"8\",\"9\",\"10\",\"D\"],index=[\"1\",\"2\",\"3\",\"4\",\"5\",\"6\",\"7\",\"8\",\"9\",\"10\"])\n",
        "  PIT_P_AdaLasso[i].to_excel(\"Matrice Predite/PIT_Adalasso\"+str(i)+\"_Classique.xlsx\")"
      ],
      "metadata": {
        "colab": {
          "base_uri": "https://localhost:8080/"
        },
        "id": "IrDjYgHvJRnT",
        "outputId": "c277af14-94a0-493b-d2ba-a410fcbca74a"
      },
      "execution_count": 31,
      "outputs": [
        {
          "output_type": "stream",
          "name": "stdout",
          "text": [
            "MAPE :  0.5816881611529768\n",
            "MAE :  0.005710279352598883\n",
            "MSE :  0.00014270041452613114\n",
            "RMSE :  0.01194572787761931\n",
            "MAPE :  0.47242751124675225\n",
            "MAE :  0.006667960256594092\n",
            "MSE :  0.0001983426921428763\n",
            "RMSE :  0.01408341905017657\n",
            "MAPE :  0.5890942065647302\n",
            "MAE :  0.007703955584874304\n",
            "MSE :  0.000286511393991086\n",
            "RMSE :  0.016926647452791294\n"
          ]
        }
      ]
    },
    {
      "cell_type": "markdown",
      "source": [
        "## Lasso"
      ],
      "metadata": {
        "id": "_KREA5ctbpJG"
      }
    },
    {
      "cell_type": "code",
      "source": [
        "PIT_Predit_Lasso = {}\n",
        "PIT_Predit_Lasso[1] = pd.read_excel(\"Matrice PIT taux de défaut projetés/Matrice projetée_Lasso.xlsx\",sheet_name=\"PIT12\")\n",
        "PIT_Predit_Lasso[1] = PIT_Predit_Lasso[1].iloc[:,1:]\n",
        "PIT_Predit_Lasso[2] = pd.read_excel(\"Matrice PIT taux de défaut projetés/Matrice projetée_Lasso.xlsx\",sheet_name=\"PIT24\")\n",
        "PIT_Predit_Lasso[2] = PIT_Predit_Lasso[2].iloc[:,1:]\n",
        "PIT_Predit_Lasso[3] = pd.read_excel(\"Matrice PIT taux de défaut projetés/Matrice projetée_Lasso.xlsx\",sheet_name=\"PIT36\")\n",
        "PIT_Predit_Lasso[3] = PIT_Predit_Lasso[3].iloc[:,1:]\n",
        "\n",
        "listeR=[]\n",
        "for i in range(1,11):\n",
        "  for j in range(0,10):\n",
        "    listeR.append(PIT_Predit_Lasso[1].iloc[j,i])\n",
        "listePIT=[]\n",
        "for i in range(1,11):\n",
        "  for j in range(0,10):\n",
        "    listePIT.append(PIT_CUMULE[97].iloc[j,i])\n",
        "\n",
        "print(\"MAPE : \",me.mean_absolute_percentage_error(listePIT,listeR))\n",
        "print(\"MAE : \",me.mean_absolute_error(listePIT,listeR))\n",
        "print(\"MSE : \",me.mean_squared_error(listePIT,listeR))\n",
        "print(\"RMSE : \",math.sqrt(me.mean_squared_error(listePIT,listeR)))\n",
        "\n",
        "listeR=[]\n",
        "for i in range(1,11):\n",
        "  for j in range(0,10):\n",
        "    listeR.append(PIT_Predit_Lasso[2].iloc[j,i])\n",
        "listePIT=[]\n",
        "for i in range(1,11):\n",
        "  for j in range(0,10):\n",
        "    listePIT.append(PIT_CUMULE[108].iloc[j,i])\n",
        "\n",
        "print(\"MAPE : \",me.mean_absolute_percentage_error(listePIT,listeR))\n",
        "print(\"MAE : \",me.mean_absolute_error(listePIT,listeR))\n",
        "print(\"MSE : \",me.mean_squared_error(listePIT,listeR))\n",
        "print(\"RMSE : \",math.sqrt(me.mean_squared_error(listePIT,listeR)))\n",
        "\n",
        "listeR=[]\n",
        "for i in range(1,11):\n",
        "  for j in range(0,10):\n",
        "    listeR.append(PIT_Predit_Lasso[3].iloc[j,i])\n",
        "listePIT=[]\n",
        "for i in range(1,11):\n",
        "  for j in range(0,10):\n",
        "    listePIT.append(PIT_CUMULE[120].iloc[j,i])\n",
        "\n",
        "print(\"MAPE : \",me.mean_absolute_percentage_error(listePIT,listeR))\n",
        "print(\"MAE : \",me.mean_absolute_error(listePIT,listeR))\n",
        "print(\"MSE : \",me.mean_squared_error(listePIT,listeR))\n",
        "print(\"RMSE : \",math.sqrt(me.mean_squared_error(listePIT,listeR)))\n",
        "\n",
        "PIT_P_Lasso = {}\n",
        "for i in range(1,4):\n",
        "  liste=[]\n",
        "  for j in range(0,10):\n",
        "    compteur=[]\n",
        "    for k in range(0,10):\n",
        "      compteur.append(PIT_Predit_Lasso[i].iloc[j,k]-PIT_Predit_Lasso[i].iloc[j,k+1])\n",
        "    compteur.append(PIT_Predit_Lasso[i].iloc[j,10])\n",
        "    liste.append(compteur)\n",
        "  PIT_P_Lasso[i]=pd.DataFrame(liste,columns=[\"1\",\"2\",\"3\",\"4\",\"5\",\"6\",\"7\",\"8\",\"9\",\"10\",\"D\"],index=[\"1\",\"2\",\"3\",\"4\",\"5\",\"6\",\"7\",\"8\",\"9\",\"10\"])"
      ],
      "metadata": {
        "colab": {
          "base_uri": "https://localhost:8080/"
        },
        "id": "mDYxVTWVbrm0",
        "outputId": "854aae20-1d89-488f-9da7-aafbebdccbcd"
      },
      "execution_count": 25,
      "outputs": [
        {
          "output_type": "stream",
          "name": "stdout",
          "text": [
            "MAPE :  0.9050979404687638\n",
            "MAE :  0.005714097712755653\n",
            "MSE :  0.00013619076548014052\n",
            "RMSE :  0.011670079926039089\n",
            "MAPE :  0.7459589905573286\n",
            "MAE :  0.006394874190189348\n",
            "MSE :  0.00018453727026184797\n",
            "RMSE :  0.013584449575225636\n",
            "MAPE :  0.9166645794141671\n",
            "MAE :  0.0075017307427334545\n",
            "MSE :  0.0002875306564084355\n",
            "RMSE :  0.016956728941881317\n"
          ]
        }
      ]
    },
    {
      "cell_type": "markdown",
      "source": [
        "## Ridge"
      ],
      "metadata": {
        "id": "xWtBn6O0cO6s"
      }
    },
    {
      "cell_type": "code",
      "source": [
        "PIT_Predit_Ridge= {}\n",
        "PIT_Predit_Ridge[1] = pd.read_excel(\"Matrice PIT taux de défaut projetés/Matrice projetée_Ridge.xlsx\",sheet_name=\"PIT12\")\n",
        "PIT_Predit_Ridge[1] = PIT_Predit_Ridge[1].iloc[:,1:]\n",
        "PIT_Predit_Ridge[2] = pd.read_excel(\"Matrice PIT taux de défaut projetés/Matrice projetée_Ridge.xlsx\",sheet_name=\"PIT24\")\n",
        "PIT_Predit_Ridge[2] = PIT_Predit_Ridge[2].iloc[:,1:]\n",
        "PIT_Predit_Ridge[3] = pd.read_excel(\"Matrice PIT taux de défaut projetés/Matrice projetée_Ridge.xlsx\",sheet_name=\"PIT36\")\n",
        "PIT_Predit_Ridge[3] = PIT_Predit_Ridge[3].iloc[:,1:]\n",
        "\n",
        "listeR=[]\n",
        "for i in range(1,11):\n",
        "  for j in range(0,10):\n",
        "    listeR.append(PIT_Predit_Ridge[1].iloc[j,i])\n",
        "listePIT=[]\n",
        "for i in range(1,11):\n",
        "  for j in range(0,10):\n",
        "    listePIT.append(PIT_CUMULE[97].iloc[j,i])\n",
        "\n",
        "print(\"MAPE : \",me.mean_absolute_percentage_error(listePIT,listeR))\n",
        "print(\"MAE : \",me.mean_absolute_error(listePIT,listeR))\n",
        "print(\"MSE : \",me.mean_squared_error(listePIT,listeR))\n",
        "print(\"RMSE : \",math.sqrt(me.mean_squared_error(listePIT,listeR)))\n",
        "\n",
        "listeR=[]\n",
        "for i in range(1,11):\n",
        "  for j in range(0,10):\n",
        "    listeR.append(PIT_Predit_Ridge[2].iloc[j,i])\n",
        "listePIT=[]\n",
        "for i in range(1,11):\n",
        "  for j in range(0,10):\n",
        "    listePIT.append(PIT_CUMULE[108].iloc[j,i])\n",
        "\n",
        "print(\"MAPE : \",me.mean_absolute_percentage_error(listePIT,listeR))\n",
        "print(\"MAE : \",me.mean_absolute_error(listePIT,listeR))\n",
        "print(\"MSE : \",me.mean_squared_error(listePIT,listeR))\n",
        "print(\"RMSE : \",math.sqrt(me.mean_squared_error(listePIT,listeR)))\n",
        "\n",
        "listeR=[]\n",
        "for i in range(1,11):\n",
        "  for j in range(0,10):\n",
        "    listeR.append(PIT_Predit_Ridge[3].iloc[j,i])\n",
        "listePIT=[]\n",
        "for i in range(1,11):\n",
        "  for j in range(0,10):\n",
        "    listePIT.append(PIT_CUMULE[120].iloc[j,i])\n",
        "\n",
        "print(\"MAPE : \",me.mean_absolute_percentage_error(listePIT,listeR))\n",
        "print(\"MAE : \",me.mean_absolute_error(listePIT,listeR))\n",
        "print(\"MSE : \",me.mean_squared_error(listePIT,listeR))\n",
        "print(\"RMSE : \",math.sqrt(me.mean_squared_error(listePIT,listeR)))\n",
        "\n",
        "PIT_P_Ridge = {}\n",
        "for i in range(1,4):\n",
        "  liste=[]\n",
        "  for j in range(0,10):\n",
        "    compteur=[]\n",
        "    for k in range(0,10):\n",
        "      compteur.append(PIT_Predit_Ridge[i].iloc[j,k]-PIT_Predit_Ridge[i].iloc[j,k+1])\n",
        "    compteur.append(PIT_Predit_Ridge[i].iloc[j,10])\n",
        "    liste.append(compteur)\n",
        "  PIT_P_Ridge[i]=pd.DataFrame(liste,columns=[\"1\",\"2\",\"3\",\"4\",\"5\",\"6\",\"7\",\"8\",\"9\",\"10\",\"D\"],index=[\"1\",\"2\",\"3\",\"4\",\"5\",\"6\",\"7\",\"8\",\"9\",\"10\"])"
      ],
      "metadata": {
        "colab": {
          "base_uri": "https://localhost:8080/"
        },
        "id": "lk05u8gOcQof",
        "outputId": "5d31f98c-61be-4de5-c839-d203f61ab768"
      },
      "execution_count": 27,
      "outputs": [
        {
          "output_type": "stream",
          "name": "stdout",
          "text": [
            "MAPE :  0.9477433899109847\n",
            "MAE :  0.005853109960953776\n",
            "MSE :  0.00014032702656566166\n",
            "RMSE :  0.011845970900085044\n",
            "MAPE :  0.7877278654187881\n",
            "MAE :  0.0065669556837031975\n",
            "MSE :  0.000191848838088156\n",
            "RMSE :  0.013850950800871252\n",
            "MAPE :  0.9364243489286893\n",
            "MAE :  0.0075984347483184335\n",
            "MSE :  0.0002912704898666636\n",
            "RMSE :  0.01706664846613604\n"
          ]
        }
      ]
    },
    {
      "cell_type": "markdown",
      "source": [
        "## Elastic Net"
      ],
      "metadata": {
        "id": "0QeJ2Gyrc40v"
      }
    },
    {
      "cell_type": "code",
      "source": [
        "PIT_Predit_Elastic = {}\n",
        "PIT_Predit_Elastic[1] = pd.read_excel(\"Matrice PIT taux de défaut projetés/Matrice projetée_Elastic.xlsx\",sheet_name=\"PIT12\")\n",
        "PIT_Predit_Elastic[1] = PIT_Predit_Elastic[1].iloc[:,1:]\n",
        "PIT_Predit_Elastic[2] = pd.read_excel(\"Matrice PIT taux de défaut projetés/Matrice projetée_Elastic.xlsx\",sheet_name=\"PIT24\")\n",
        "PIT_Predit_Elastic[2] = PIT_Predit_Elastic[2].iloc[:,1:]\n",
        "PIT_Predit_Elastic[3] = pd.read_excel(\"Matrice PIT taux de défaut projetés/Matrice projetée_Elastic.xlsx\",sheet_name=\"PIT36\")\n",
        "PIT_Predit_Elastic[3] = PIT_Predit_Elastic[3].iloc[:,1:]\n",
        "\n",
        "listeR=[]\n",
        "for i in range(1,11):\n",
        "  for j in range(0,10):\n",
        "    listeR.append(PIT_Predit_Elastic[1].iloc[j,i])\n",
        "listePIT=[]\n",
        "for i in range(1,11):\n",
        "  for j in range(0,10):\n",
        "    listePIT.append(PIT_CUMULE[97].iloc[j,i])\n",
        "\n",
        "print(\"MAPE : \",me.mean_absolute_percentage_error(listePIT,listeR))\n",
        "print(\"MAE : \",me.mean_absolute_error(listePIT,listeR))\n",
        "print(\"MSE : \",me.mean_squared_error(listePIT,listeR))\n",
        "print(\"RMSE : \",math.sqrt(me.mean_squared_error(listePIT,listeR)))\n",
        "\n",
        "listeR=[]\n",
        "for i in range(1,11):\n",
        "  for j in range(0,10):\n",
        "    listeR.append(PIT_Predit_Elastic[2].iloc[j,i])\n",
        "listePIT=[]\n",
        "for i in range(1,11):\n",
        "  for j in range(0,10):\n",
        "    listePIT.append(PIT_CUMULE[108].iloc[j,i])\n",
        "\n",
        "print(\"MAPE : \",me.mean_absolute_percentage_error(listePIT,listeR))\n",
        "print(\"MAE : \",me.mean_absolute_error(listePIT,listeR))\n",
        "print(\"MSE : \",me.mean_squared_error(listePIT,listeR))\n",
        "print(\"RMSE : \",math.sqrt(me.mean_squared_error(listePIT,listeR)))\n",
        "\n",
        "listeR=[]\n",
        "for i in range(1,11):\n",
        "  for j in range(0,10):\n",
        "    listeR.append(PIT_Predit_Elastic[3].iloc[j,i])\n",
        "listePIT=[]\n",
        "for i in range(1,11):\n",
        "  for j in range(0,10):\n",
        "    listePIT.append(PIT_CUMULE[120].iloc[j,i])\n",
        "\n",
        "print(\"MAPE : \",me.mean_absolute_percentage_error(listePIT,listeR))\n",
        "print(\"MAE : \",me.mean_absolute_error(listePIT,listeR))\n",
        "print(\"MSE : \",me.mean_squared_error(listePIT,listeR))\n",
        "print(\"RMSE : \",math.sqrt(me.mean_squared_error(listePIT,listeR)))\n",
        "\n",
        "PIT_P_Elastic = {}\n",
        "for i in range(1,4):\n",
        "  liste=[]\n",
        "  for j in range(0,10):\n",
        "    compteur=[]\n",
        "    for k in range(0,10):\n",
        "      compteur.append(PIT_Predit_Elastic[i].iloc[j,k]-PIT_Predit_Elastic[i].iloc[j,k+1])\n",
        "    compteur.append(PIT_Predit_Elastic[i].iloc[j,10])\n",
        "    liste.append(compteur)\n",
        "  PIT_P_Elastic[i]=pd.DataFrame(liste,columns=[\"1\",\"2\",\"3\",\"4\",\"5\",\"6\",\"7\",\"8\",\"9\",\"10\",\"D\"],index=[\"1\",\"2\",\"3\",\"4\",\"5\",\"6\",\"7\",\"8\",\"9\",\"10\"])"
      ],
      "metadata": {
        "colab": {
          "base_uri": "https://localhost:8080/"
        },
        "id": "0kyTjsoec6jU",
        "outputId": "e3213f62-6b09-487a-ca95-8bf27b719bf9"
      },
      "execution_count": 28,
      "outputs": [
        {
          "output_type": "stream",
          "name": "stdout",
          "text": [
            "MAPE :  0.9121845980892842\n",
            "MAE :  0.005737708933425449\n",
            "MSE :  0.00013677462208891046\n",
            "RMSE :  0.01169506828064336\n",
            "MAPE :  0.7562885978497443\n",
            "MAE :  0.006435672347441619\n",
            "MSE :  0.00018627645317005755\n",
            "RMSE :  0.013648313198709119\n",
            "MAPE :  0.9262922946600674\n",
            "MAE :  0.007534647270137672\n",
            "MSE :  0.00028922019239269745\n",
            "RMSE :  0.017006475013732196\n"
          ]
        }
      ]
    },
    {
      "cell_type": "markdown",
      "source": [
        "## MSAENET"
      ],
      "metadata": {
        "id": "ihKARhF9d6pf"
      }
    },
    {
      "cell_type": "code",
      "source": [
        "PIT_Predit_Msaenet = {}\n",
        "PIT_Predit_Msaenet[1] = pd.read_excel(\"Matrice PIT taux de défaut projetés/Matrice projetée_Msaenet.xlsx\",sheet_name=\"PIT12\")\n",
        "PIT_Predit_Msaenet[1] = PIT_Predit_Msaenet[1].iloc[:,1:]\n",
        "PIT_Predit_Msaenet[2] = pd.read_excel(\"Matrice PIT taux de défaut projetés/Matrice projetée_Msaenet.xlsx\",sheet_name=\"PIT24\")\n",
        "PIT_Predit_Msaenet[2] = PIT_Predit_Msaenet[2].iloc[:,1:]\n",
        "PIT_Predit_Msaenet[3] = pd.read_excel(\"Matrice PIT taux de défaut projetés/Matrice projetée_Msaenet.xlsx\",sheet_name=\"PIT36\")\n",
        "PIT_Predit_Msaenet[3] = PIT_Predit_Msaenet[3].iloc[:,1:]\n",
        "\n",
        "listeR=[]\n",
        "for i in range(1,11):\n",
        "  for j in range(0,10):\n",
        "    listeR.append(PIT_Predit_Msaenet[1].iloc[j,i])\n",
        "listePIT=[]\n",
        "for i in range(1,11):\n",
        "  for j in range(0,10):\n",
        "    listePIT.append(PIT_CUMULE[97].iloc[j,i])\n",
        "\n",
        "print(\"MAPE : \",me.mean_absolute_percentage_error(listePIT,listeR))\n",
        "print(\"MAE : \",me.mean_absolute_error(listePIT,listeR))\n",
        "print(\"MSE : \",me.mean_squared_error(listePIT,listeR))\n",
        "print(\"RMSE : \",math.sqrt(me.mean_squared_error(listePIT,listeR)))\n",
        "\n",
        "listeR=[]\n",
        "for i in range(1,11):\n",
        "  for j in range(0,10):\n",
        "    listeR.append(PIT_Predit_Msaenet[2].iloc[j,i])\n",
        "listePIT=[]\n",
        "for i in range(1,11):\n",
        "  for j in range(0,10):\n",
        "    listePIT.append(PIT_CUMULE[108].iloc[j,i])\n",
        "\n",
        "print(\"MAPE : \",me.mean_absolute_percentage_error(listePIT,listeR))\n",
        "print(\"MAE : \",me.mean_absolute_error(listePIT,listeR))\n",
        "print(\"MSE : \",me.mean_squared_error(listePIT,listeR))\n",
        "print(\"RMSE : \",math.sqrt(me.mean_squared_error(listePIT,listeR)))\n",
        "\n",
        "listeR=[]\n",
        "for i in range(1,11):\n",
        "  for j in range(0,10):\n",
        "    listeR.append(PIT_Predit_Msaenet[3].iloc[j,i])\n",
        "listePIT=[]\n",
        "for i in range(1,11):\n",
        "  for j in range(0,10):\n",
        "    listePIT.append(PIT_CUMULE[120].iloc[j,i])\n",
        "\n",
        "print(\"MAPE : \",me.mean_absolute_percentage_error(listePIT,listeR))\n",
        "print(\"MAE : \",me.mean_absolute_error(listePIT,listeR))\n",
        "print(\"MSE : \",me.mean_squared_error(listePIT,listeR))\n",
        "print(\"RMSE : \",math.sqrt(me.mean_squared_error(listePIT,listeR)))\n",
        "\n",
        "PIT_P_Msaenet = {}\n",
        "for i in range(1,4):\n",
        "  liste=[]\n",
        "  for j in range(0,10):\n",
        "    compteur=[]\n",
        "    for k in range(0,10):\n",
        "      compteur.append(PIT_Predit_Msaenet[i].iloc[j,k]-PIT_Predit_Msaenet[i].iloc[j,k+1])\n",
        "    compteur.append(PIT_Predit_Msaenet[i].iloc[j,10])\n",
        "    liste.append(compteur)\n",
        "  PIT_P_Msaenet[i]=pd.DataFrame(liste,columns=[\"1\",\"2\",\"3\",\"4\",\"5\",\"6\",\"7\",\"8\",\"9\",\"10\",\"D\"],index=[\"1\",\"2\",\"3\",\"4\",\"5\",\"6\",\"7\",\"8\",\"9\",\"10\"])"
      ],
      "metadata": {
        "colab": {
          "base_uri": "https://localhost:8080/"
        },
        "id": "KP9oIZEoeHwB",
        "outputId": "1c7a473e-899f-48fa-e746-b831c7e7241d"
      },
      "execution_count": 29,
      "outputs": [
        {
          "output_type": "stream",
          "name": "stdout",
          "text": [
            "MAPE :  0.9352916628243731\n",
            "MAE :  0.005816801805205401\n",
            "MSE :  0.00013887259072342908\n",
            "RMSE :  0.011784421526890028\n",
            "MAPE :  0.7631211650913251\n",
            "MAE :  0.006485896542897649\n",
            "MSE :  0.00018828331520692797\n",
            "RMSE :  0.013721636753934566\n",
            "MAPE :  0.9750618120712263\n",
            "MAE :  0.00769922704684252\n",
            "MSE :  0.00029795456571744724\n",
            "RMSE :  0.017261360482808047\n"
          ]
        }
      ]
    },
    {
      "cell_type": "markdown",
      "source": [
        "# Plot pour diapo"
      ],
      "metadata": {
        "id": "CS7q_HMJe_Yo"
      }
    },
    {
      "cell_type": "code",
      "source": [
        "df3.iloc[:,1].value_counts()"
      ],
      "metadata": {
        "colab": {
          "base_uri": "https://localhost:8080/"
        },
        "id": "kLvjZ3zjfA55",
        "outputId": "6b914159-29f3-4cd5-cf00-889061967487"
      },
      "execution_count": 93,
      "outputs": [
        {
          "output_type": "execute_result",
          "data": {
            "text/plain": [
              "12    979247\n",
              "2      55462\n",
              "1      39413\n",
              "3      26221\n",
              "6       8532\n",
              "7       7482\n",
              "11      7326\n",
              "5       6218\n",
              "4       6093\n",
              "8       2144\n",
              "9       2019\n",
              "10      1021\n",
              "Name: Date0, dtype: int64"
            ]
          },
          "metadata": {},
          "execution_count": 93
        }
      ]
    },
    {
      "cell_type": "code",
      "source": [
        "df3.iloc[:,132].value_counts()"
      ],
      "metadata": {
        "colab": {
          "base_uri": "https://localhost:8080/"
        },
        "id": "NRbuuZtfgJGs",
        "outputId": "87bef666-c967-4461-fce0-956710d919d1"
      },
      "execution_count": 96,
      "outputs": [
        {
          "output_type": "execute_result",
          "data": {
            "text/plain": [
              "12    676972\n",
              "2     118960\n",
              "3      95856\n",
              "1      89107\n",
              "4      38893\n",
              "6      37532\n",
              "5      34959\n",
              "7      24806\n",
              "8       7631\n",
              "11      7583\n",
              "9       6499\n",
              "10      2380\n",
              "Name: Date131, dtype: int64"
            ]
          },
          "metadata": {},
          "execution_count": 96
        }
      ]
    }
  ]
}