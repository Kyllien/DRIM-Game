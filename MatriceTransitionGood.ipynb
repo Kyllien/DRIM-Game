{
  "nbformat": 4,
  "nbformat_minor": 0,
  "metadata": {
    "colab": {
      "name": "DRIM.ipynb",
      "provenance": [],
      "collapsed_sections": [],
      "authorship_tag": "ABX9TyMT2xWgcSGYmTezCxjOzfLu",
      "include_colab_link": true
    },
    "kernelspec": {
      "name": "python3",
      "display_name": "Python 3"
    },
    "language_info": {
      "name": "python"
    },
    "accelerator": "GPU"
  },
  "cells": [
    {
      "cell_type": "markdown",
      "metadata": {
        "id": "view-in-github",
        "colab_type": "text"
      },
      "source": [
        "<a href=\"https://colab.research.google.com/github/Kyllien/DRIM-Game/blob/main/MatriceTransitionGood.ipynb\" target=\"_parent\"><img src=\"https://colab.research.google.com/assets/colab-badge.svg\" alt=\"Open In Colab\"/></a>"
      ]
    },
    {
      "cell_type": "code",
      "metadata": {
        "colab": {
          "base_uri": "https://localhost:8080/"
        },
        "id": "GKZADErSrMZ1",
        "outputId": "c90b419c-8a47-41f1-95ea-4440b96ae7fd"
      },
      "source": [
        "#Connect to google drive\n",
        "from google.colab import drive\n",
        "drive.mount('/content/gdrive')"
      ],
      "execution_count": null,
      "outputs": [
        {
          "output_type": "stream",
          "name": "stdout",
          "text": [
            "Mounted at /content/gdrive\n"
          ]
        }
      ]
    },
    {
      "cell_type": "code",
      "metadata": {
        "id": "KNLjhTqFrw_H"
      },
      "source": [
        "#Import data from os\n",
        "import os\n",
        "os.chdir(\"/content/gdrive/My Drive/DRIM\")"
      ],
      "execution_count": null,
      "outputs": []
    },
    {
      "cell_type": "code",
      "metadata": {
        "colab": {
          "base_uri": "https://localhost:8080/"
        },
        "id": "IRQ6KFHWsQGP",
        "outputId": "32e4c732-e40e-4b40-a862-1bfb41b5ec7d"
      },
      "source": [
        "#Librairie\n",
        "import pandas as pd\n",
        "import matplotlib.pyplot as plt\n",
        "import numpy as np\n",
        "import transitionMatrix as tm\n",
        "from transitionMatrix.estimators import simple_estimator as es\n",
        "from transitionMatrix.estimators import cohort_estimator as ec\n",
        "import datetime"
      ],
      "execution_count": null,
      "outputs": [
        {
          "output_type": "stream",
          "name": "stderr",
          "text": [
            "/usr/local/lib/python3.7/dist-packages/statsmodels/tools/_testing.py:19: FutureWarning: pandas.util.testing is deprecated. Use the functions in the public API at pandas.testing instead.\n",
            "  import pandas.util.testing as tm\n"
          ]
        }
      ]
    },
    {
      "cell_type": "code",
      "metadata": {
        "id": "aoVwaJ9Y8S18"
      },
      "source": [
        "data = pd.read_csv('base_1.csv')\n",
        "\n",
        "# print(np.unique(data['classe'])) #Aucun prob de classe\n",
        "\n",
        "#rename the columns\n",
        "data = data.rename(columns={\"classe\": \"State\", \"dtf_per_trt\": \"Time\", \"ID_BCR_TRS\": \"ID\"})\n",
        "# Put Time in Date Forma\n",
        "data[\"Time\"]=pd.to_datetime(data[\"Time\"])\n",
        "\n"
      ],
      "execution_count": null,
      "outputs": []
    },
    {
      "cell_type": "code",
      "metadata": {
        "id": "UnE7jEOG9e-B"
      },
      "source": [
        "#Creation du Jeu Test\n",
        "df = data.sample(10)\n",
        "#df.to_csv('C:/Users/33640/source/repos/Kyllien/DRIM-Game/data_sample.csv')\n",
        "\n",
        "#df = data.head(1000000)\n",
        "df = df.sort_values(by=[\"ID\",\"Time\"])"
      ],
      "execution_count": null,
      "outputs": []
    },
    {
      "cell_type": "code",
      "metadata": {
        "id": "rTJoo7-c8ndL"
      },
      "source": [
        ""
      ],
      "execution_count": null,
      "outputs": []
    },
    {
      "cell_type": "code",
      "metadata": {
        "colab": {
          "base_uri": "https://localhost:8080/"
        },
        "id": "6w2XLeu-nXcs",
        "outputId": "4adf3833-4a8c-435a-8ada-82f03a352eb2"
      },
      "source": [
        "df=data\n",
        "df=df.sort_values(by=[\"Time\"])"
      ],
      "execution_count": null,
      "outputs": [
        {
          "output_type": "execute_result",
          "data": {
            "text/plain": [
              "<bound method NDFrame.head of                             ID       Time  State\n",
              "129470    9NYLO0OR7S35SU3FA63C 2010-01-31      5\n",
              "151892    9NYWOBAG6DND9CX35FS5 2010-01-31      7\n",
              "141574    9NYV8PAXR5ZXJZYXI368 2010-01-31      2\n",
              "147513    9NYWIJAXRGNCF33XI6WE 2010-01-31     11\n",
              "131274    9NYLOLNEO8VNDBH5UQIX 2010-01-31      2\n",
              "...                        ...        ...    ...\n",
              "21977805  9NVVORQL5WN5JSQXI6W5 2017-12-31      6\n",
              "22013341  9NY3IA76G5ZDQKNJ5QSU 2017-12-31      1\n",
              "22056281  9R9WIJAABOQMS153NQII 2017-12-31      6\n",
              "21975849  9NVVO7A7OCWHE63SW64J 2017-12-31      4\n",
              "21834477  9KVQUAL3AI3MJF4MW1DJ 2017-12-31      3\n",
              "\n",
              "[1000 rows x 3 columns]>"
            ]
          },
          "metadata": {},
          "execution_count": 72
        }
      ]
    },
    {
      "cell_type": "code",
      "metadata": {
        "colab": {
          "base_uri": "https://localhost:8080/"
        },
        "id": "GuFnGmdiB-Br",
        "outputId": "510b4d77-878b-4771-c4e5-6e30aa9aef5d"
      },
      "source": [
        "df=data\n",
        "df=df.sort_values(by=[\"Time\"])\n",
        "ID=np.unique(df[\"ID\"])\n",
        "df2=pd.DataFrame(ID,columns=[\"ID\"])\n",
        "compteur=0\n",
        "for i in np.unique(df[\"Time\"]):\n",
        "  print(i)\n",
        "  df3=df[df[\"Time\"]==i]\n",
        "  df3=df3[[\"ID\",\"State\"]]\n",
        "  df3=df3.rename({'ID': 'ID', 'State': 'Date'+str(compteur)}, axis='columns')\n",
        "  compteur=compteur+1\n",
        "  df2=df2.merge(df3,on='ID',how='left')\n"
      ],
      "execution_count": null,
      "outputs": [
        {
          "output_type": "stream",
          "name": "stdout",
          "text": [
            "2010-01-31T00:00:00.000000000\n",
            "2010-02-28T00:00:00.000000000\n",
            "2010-03-31T00:00:00.000000000\n",
            "2010-04-30T00:00:00.000000000\n",
            "2010-05-31T00:00:00.000000000\n",
            "2010-06-30T00:00:00.000000000\n",
            "2010-07-31T00:00:00.000000000\n",
            "2010-08-31T00:00:00.000000000\n",
            "2010-09-30T00:00:00.000000000\n",
            "2010-10-31T00:00:00.000000000\n",
            "2010-11-30T00:00:00.000000000\n",
            "2010-12-31T00:00:00.000000000\n",
            "2011-01-31T00:00:00.000000000\n",
            "2011-02-28T00:00:00.000000000\n",
            "2011-03-31T00:00:00.000000000\n",
            "2011-04-30T00:00:00.000000000\n",
            "2011-05-31T00:00:00.000000000\n",
            "2011-06-30T00:00:00.000000000\n",
            "2011-07-31T00:00:00.000000000\n",
            "2011-08-31T00:00:00.000000000\n",
            "2011-09-30T00:00:00.000000000\n",
            "2011-10-31T00:00:00.000000000\n",
            "2011-11-30T00:00:00.000000000\n",
            "2011-12-31T00:00:00.000000000\n",
            "2012-01-31T00:00:00.000000000\n",
            "2012-02-29T00:00:00.000000000\n",
            "2012-03-31T00:00:00.000000000\n",
            "2012-04-30T00:00:00.000000000\n",
            "2012-05-31T00:00:00.000000000\n",
            "2012-06-30T00:00:00.000000000\n",
            "2012-07-31T00:00:00.000000000\n",
            "2012-08-31T00:00:00.000000000\n",
            "2012-09-30T00:00:00.000000000\n",
            "2012-10-31T00:00:00.000000000\n",
            "2012-11-30T00:00:00.000000000\n",
            "2012-12-31T00:00:00.000000000\n",
            "2013-01-31T00:00:00.000000000\n",
            "2013-02-28T00:00:00.000000000\n",
            "2013-03-31T00:00:00.000000000\n",
            "2013-04-30T00:00:00.000000000\n",
            "2013-05-31T00:00:00.000000000\n",
            "2013-06-30T00:00:00.000000000\n",
            "2013-07-31T00:00:00.000000000\n",
            "2013-08-31T00:00:00.000000000\n",
            "2013-09-30T00:00:00.000000000\n",
            "2013-10-31T00:00:00.000000000\n",
            "2013-11-30T00:00:00.000000000\n",
            "2013-12-31T00:00:00.000000000\n",
            "2014-01-31T00:00:00.000000000\n",
            "2014-02-28T00:00:00.000000000\n",
            "2014-03-31T00:00:00.000000000\n",
            "2014-04-30T00:00:00.000000000\n",
            "2014-05-31T00:00:00.000000000\n",
            "2014-06-30T00:00:00.000000000\n",
            "2014-07-31T00:00:00.000000000\n",
            "2014-08-31T00:00:00.000000000\n",
            "2014-09-30T00:00:00.000000000\n",
            "2014-10-31T00:00:00.000000000\n",
            "2014-11-30T00:00:00.000000000\n",
            "2014-12-31T00:00:00.000000000\n",
            "2015-01-31T00:00:00.000000000\n",
            "2015-02-28T00:00:00.000000000\n",
            "2015-03-31T00:00:00.000000000\n",
            "2015-04-30T00:00:00.000000000\n",
            "2015-05-31T00:00:00.000000000\n",
            "2015-06-30T00:00:00.000000000\n",
            "2015-07-31T00:00:00.000000000\n",
            "2015-08-31T00:00:00.000000000\n",
            "2015-09-30T00:00:00.000000000\n",
            "2015-10-31T00:00:00.000000000\n",
            "2015-11-30T00:00:00.000000000\n",
            "2015-12-31T00:00:00.000000000\n",
            "2016-01-31T00:00:00.000000000\n",
            "2016-02-29T00:00:00.000000000\n",
            "2016-03-31T00:00:00.000000000\n",
            "2016-04-30T00:00:00.000000000\n",
            "2016-05-31T00:00:00.000000000\n",
            "2016-06-30T00:00:00.000000000\n",
            "2016-07-31T00:00:00.000000000\n",
            "2016-08-31T00:00:00.000000000\n",
            "2016-09-30T00:00:00.000000000\n",
            "2016-10-31T00:00:00.000000000\n",
            "2016-11-30T00:00:00.000000000\n",
            "2016-12-31T00:00:00.000000000\n",
            "2017-01-31T00:00:00.000000000\n",
            "2017-02-28T00:00:00.000000000\n",
            "2017-03-31T00:00:00.000000000\n",
            "2017-04-30T00:00:00.000000000\n",
            "2017-05-31T00:00:00.000000000\n",
            "2017-06-30T00:00:00.000000000\n",
            "2017-07-31T00:00:00.000000000\n",
            "2017-08-31T00:00:00.000000000\n",
            "2017-09-30T00:00:00.000000000\n",
            "2017-10-31T00:00:00.000000000\n",
            "2017-11-30T00:00:00.000000000\n",
            "2017-12-31T00:00:00.000000000\n"
          ]
        }
      ]
    },
    {
      "cell_type": "code",
      "metadata": {
        "id": "csbDOTomwkV1"
      },
      "source": [
        "#Creation d'une classe pour les non rating : 12\n",
        "df2=df2.fillna(12)"
      ],
      "execution_count": null,
      "outputs": []
    },
    {
      "cell_type": "code",
      "metadata": {
        "id": "F_xoBXSpEqmU"
      },
      "source": [
        "#Creation Matrice PIT\n",
        "PIT={}\n",
        "for i in range(1,96):\n",
        "  u=df2.columns[i]\n",
        "  m=df2.columns[i+1]\n",
        "  PIT[i]=pd.crosstab(df2[u],df2[m],normalize=\"index\")\n",
        "\n"
      ],
      "execution_count": null,
      "outputs": []
    },
    {
      "cell_type": "code",
      "metadata": {
        "colab": {
          "base_uri": "https://localhost:8080/",
          "height": 470
        },
        "id": "qYwH-NyDErsF",
        "outputId": "683327e7-c5aa-4a8e-e5bb-af4fb06c3b2e"
      },
      "source": [
        "#Creation matrice TTC\n",
        "TTC=PIT[1]\n",
        "for i in range(2,96):\n",
        "  TTC=TTC+PIT[i]\n",
        "TTC=TTC/len(PIT)\n",
        "TTC"
      ],
      "execution_count": null,
      "outputs": [
        {
          "output_type": "execute_result",
          "data": {
            "text/html": [
              "<div>\n",
              "<style scoped>\n",
              "    .dataframe tbody tr th:only-of-type {\n",
              "        vertical-align: middle;\n",
              "    }\n",
              "\n",
              "    .dataframe tbody tr th {\n",
              "        vertical-align: top;\n",
              "    }\n",
              "\n",
              "    .dataframe thead th {\n",
              "        text-align: right;\n",
              "    }\n",
              "</style>\n",
              "<table border=\"1\" class=\"dataframe\">\n",
              "  <thead>\n",
              "    <tr style=\"text-align: right;\">\n",
              "      <th>Date1</th>\n",
              "      <th>1.0</th>\n",
              "      <th>2.0</th>\n",
              "      <th>3.0</th>\n",
              "      <th>4.0</th>\n",
              "      <th>5.0</th>\n",
              "      <th>6.0</th>\n",
              "      <th>7.0</th>\n",
              "      <th>8.0</th>\n",
              "      <th>9.0</th>\n",
              "      <th>10.0</th>\n",
              "      <th>11.0</th>\n",
              "      <th>12.0</th>\n",
              "    </tr>\n",
              "    <tr>\n",
              "      <th>Date0</th>\n",
              "      <th></th>\n",
              "      <th></th>\n",
              "      <th></th>\n",
              "      <th></th>\n",
              "      <th></th>\n",
              "      <th></th>\n",
              "      <th></th>\n",
              "      <th></th>\n",
              "      <th></th>\n",
              "      <th></th>\n",
              "      <th></th>\n",
              "      <th></th>\n",
              "    </tr>\n",
              "  </thead>\n",
              "  <tbody>\n",
              "    <tr>\n",
              "      <th>1.0</th>\n",
              "      <td>0.918037</td>\n",
              "      <td>0.014044</td>\n",
              "      <td>0.011101</td>\n",
              "      <td>0.002218</td>\n",
              "      <td>0.000166</td>\n",
              "      <td>0.000362</td>\n",
              "      <td>0.000065</td>\n",
              "      <td>0.000041</td>\n",
              "      <td>0.000022</td>\n",
              "      <td>0.000002</td>\n",
              "      <td>0.000007</td>\n",
              "      <td>0.053935</td>\n",
              "    </tr>\n",
              "    <tr>\n",
              "      <th>2.0</th>\n",
              "      <td>0.025523</td>\n",
              "      <td>0.947654</td>\n",
              "      <td>0.001547</td>\n",
              "      <td>0.002833</td>\n",
              "      <td>0.004105</td>\n",
              "      <td>0.004805</td>\n",
              "      <td>0.001010</td>\n",
              "      <td>0.000078</td>\n",
              "      <td>0.000085</td>\n",
              "      <td>0.000004</td>\n",
              "      <td>0.000010</td>\n",
              "      <td>0.012347</td>\n",
              "    </tr>\n",
              "    <tr>\n",
              "      <th>3.0</th>\n",
              "      <td>0.004771</td>\n",
              "      <td>0.027495</td>\n",
              "      <td>0.946670</td>\n",
              "      <td>0.000338</td>\n",
              "      <td>0.000381</td>\n",
              "      <td>0.004274</td>\n",
              "      <td>0.004916</td>\n",
              "      <td>0.001363</td>\n",
              "      <td>0.000188</td>\n",
              "      <td>0.000100</td>\n",
              "      <td>0.000019</td>\n",
              "      <td>0.009486</td>\n",
              "    </tr>\n",
              "    <tr>\n",
              "      <th>4.0</th>\n",
              "      <td>0.000059</td>\n",
              "      <td>0.012926</td>\n",
              "      <td>0.030076</td>\n",
              "      <td>0.931962</td>\n",
              "      <td>0.000476</td>\n",
              "      <td>0.000693</td>\n",
              "      <td>0.010990</td>\n",
              "      <td>0.000104</td>\n",
              "      <td>0.003059</td>\n",
              "      <td>0.000169</td>\n",
              "      <td>0.000072</td>\n",
              "      <td>0.009413</td>\n",
              "    </tr>\n",
              "    <tr>\n",
              "      <th>5.0</th>\n",
              "      <td>0.000059</td>\n",
              "      <td>0.009737</td>\n",
              "      <td>0.008609</td>\n",
              "      <td>0.022137</td>\n",
              "      <td>0.933075</td>\n",
              "      <td>0.000658</td>\n",
              "      <td>0.012246</td>\n",
              "      <td>0.000416</td>\n",
              "      <td>0.004465</td>\n",
              "      <td>0.000226</td>\n",
              "      <td>0.000112</td>\n",
              "      <td>0.008261</td>\n",
              "    </tr>\n",
              "    <tr>\n",
              "      <th>6.0</th>\n",
              "      <td>0.000073</td>\n",
              "      <td>0.000923</td>\n",
              "      <td>0.014535</td>\n",
              "      <td>0.001806</td>\n",
              "      <td>0.015672</td>\n",
              "      <td>0.931821</td>\n",
              "      <td>0.001794</td>\n",
              "      <td>0.013944</td>\n",
              "      <td>0.006767</td>\n",
              "      <td>0.002724</td>\n",
              "      <td>0.000266</td>\n",
              "      <td>0.009676</td>\n",
              "    </tr>\n",
              "    <tr>\n",
              "      <th>7.0</th>\n",
              "      <td>0.000040</td>\n",
              "      <td>0.000939</td>\n",
              "      <td>0.002479</td>\n",
              "      <td>0.008797</td>\n",
              "      <td>0.009326</td>\n",
              "      <td>0.016917</td>\n",
              "      <td>0.906917</td>\n",
              "      <td>0.001875</td>\n",
              "      <td>0.022558</td>\n",
              "      <td>0.017797</td>\n",
              "      <td>0.001022</td>\n",
              "      <td>0.011334</td>\n",
              "    </tr>\n",
              "    <tr>\n",
              "      <th>8.0</th>\n",
              "      <td>0.000039</td>\n",
              "      <td>0.000383</td>\n",
              "      <td>0.005972</td>\n",
              "      <td>0.001114</td>\n",
              "      <td>0.001166</td>\n",
              "      <td>0.043384</td>\n",
              "      <td>0.036326</td>\n",
              "      <td>0.823006</td>\n",
              "      <td>0.014334</td>\n",
              "      <td>0.059834</td>\n",
              "      <td>0.003499</td>\n",
              "      <td>0.010943</td>\n",
              "    </tr>\n",
              "    <tr>\n",
              "      <th>9.0</th>\n",
              "      <td>0.000040</td>\n",
              "      <td>0.000673</td>\n",
              "      <td>0.001296</td>\n",
              "      <td>0.006093</td>\n",
              "      <td>0.009364</td>\n",
              "      <td>0.024286</td>\n",
              "      <td>0.089396</td>\n",
              "      <td>0.020483</td>\n",
              "      <td>0.697799</td>\n",
              "      <td>0.119445</td>\n",
              "      <td>0.018033</td>\n",
              "      <td>0.013092</td>\n",
              "    </tr>\n",
              "    <tr>\n",
              "      <th>10.0</th>\n",
              "      <td>0.000007</td>\n",
              "      <td>0.000092</td>\n",
              "      <td>0.000534</td>\n",
              "      <td>0.001284</td>\n",
              "      <td>0.001927</td>\n",
              "      <td>0.014829</td>\n",
              "      <td>0.092711</td>\n",
              "      <td>0.088718</td>\n",
              "      <td>0.117992</td>\n",
              "      <td>0.484325</td>\n",
              "      <td>0.180260</td>\n",
              "      <td>0.017322</td>\n",
              "    </tr>\n",
              "    <tr>\n",
              "      <th>11.0</th>\n",
              "      <td>0.000030</td>\n",
              "      <td>0.000120</td>\n",
              "      <td>0.000155</td>\n",
              "      <td>0.000250</td>\n",
              "      <td>0.000272</td>\n",
              "      <td>0.000904</td>\n",
              "      <td>0.002880</td>\n",
              "      <td>0.002915</td>\n",
              "      <td>0.005127</td>\n",
              "      <td>0.001497</td>\n",
              "      <td>0.954302</td>\n",
              "      <td>0.031549</td>\n",
              "    </tr>\n",
              "    <tr>\n",
              "      <th>12.0</th>\n",
              "      <td>0.006298</td>\n",
              "      <td>0.003350</td>\n",
              "      <td>0.001824</td>\n",
              "      <td>0.000669</td>\n",
              "      <td>0.000589</td>\n",
              "      <td>0.000612</td>\n",
              "      <td>0.000139</td>\n",
              "      <td>0.000010</td>\n",
              "      <td>0.000013</td>\n",
              "      <td>0.000009</td>\n",
              "      <td>0.000012</td>\n",
              "      <td>0.986477</td>\n",
              "    </tr>\n",
              "  </tbody>\n",
              "</table>\n",
              "</div>"
            ],
            "text/plain": [
              "Date1      1.0       2.0       3.0   ...      10.0      11.0      12.0\n",
              "Date0                                ...                              \n",
              "1.0    0.918037  0.014044  0.011101  ...  0.000002  0.000007  0.053935\n",
              "2.0    0.025523  0.947654  0.001547  ...  0.000004  0.000010  0.012347\n",
              "3.0    0.004771  0.027495  0.946670  ...  0.000100  0.000019  0.009486\n",
              "4.0    0.000059  0.012926  0.030076  ...  0.000169  0.000072  0.009413\n",
              "5.0    0.000059  0.009737  0.008609  ...  0.000226  0.000112  0.008261\n",
              "6.0    0.000073  0.000923  0.014535  ...  0.002724  0.000266  0.009676\n",
              "7.0    0.000040  0.000939  0.002479  ...  0.017797  0.001022  0.011334\n",
              "8.0    0.000039  0.000383  0.005972  ...  0.059834  0.003499  0.010943\n",
              "9.0    0.000040  0.000673  0.001296  ...  0.119445  0.018033  0.013092\n",
              "10.0   0.000007  0.000092  0.000534  ...  0.484325  0.180260  0.017322\n",
              "11.0   0.000030  0.000120  0.000155  ...  0.001497  0.954302  0.031549\n",
              "12.0   0.006298  0.003350  0.001824  ...  0.000009  0.000012  0.986477\n",
              "\n",
              "[12 rows x 12 columns]"
            ]
          },
          "metadata": {},
          "execution_count": 156
        }
      ]
    },
    {
      "cell_type": "code",
      "metadata": {
        "colab": {
          "base_uri": "https://localhost:8080/",
          "height": 417
        },
        "id": "lTD4KX3x18uR",
        "outputId": "d5d0c11e-ae4d-4bda-fb6b-5d2f8ed5bd4e"
      },
      "source": [
        "#Calcul des coefficient de correlation\n",
        "dataDefaut = pd.read_excel(\"Taux.Defaut.xlsx\")\n",
        "dataDefaut\n"
      ],
      "execution_count": null,
      "outputs": [
        {
          "output_type": "execute_result",
          "data": {
            "text/html": [
              "<div>\n",
              "<style scoped>\n",
              "    .dataframe tbody tr th:only-of-type {\n",
              "        vertical-align: middle;\n",
              "    }\n",
              "\n",
              "    .dataframe tbody tr th {\n",
              "        vertical-align: top;\n",
              "    }\n",
              "\n",
              "    .dataframe thead th {\n",
              "        text-align: right;\n",
              "    }\n",
              "</style>\n",
              "<table border=\"1\" class=\"dataframe\">\n",
              "  <thead>\n",
              "    <tr style=\"text-align: right;\">\n",
              "      <th></th>\n",
              "      <th>Time</th>\n",
              "      <th>Taux_Defaut</th>\n",
              "    </tr>\n",
              "  </thead>\n",
              "  <tbody>\n",
              "    <tr>\n",
              "      <th>0</th>\n",
              "      <td>2010-01-31</td>\n",
              "      <td>0.059661</td>\n",
              "    </tr>\n",
              "    <tr>\n",
              "      <th>1</th>\n",
              "      <td>2010-02-28</td>\n",
              "      <td>0.052415</td>\n",
              "    </tr>\n",
              "    <tr>\n",
              "      <th>2</th>\n",
              "      <td>2010-03-31</td>\n",
              "      <td>0.051614</td>\n",
              "    </tr>\n",
              "    <tr>\n",
              "      <th>3</th>\n",
              "      <td>2010-04-30</td>\n",
              "      <td>0.049995</td>\n",
              "    </tr>\n",
              "    <tr>\n",
              "      <th>4</th>\n",
              "      <td>2010-05-31</td>\n",
              "      <td>0.049792</td>\n",
              "    </tr>\n",
              "    <tr>\n",
              "      <th>...</th>\n",
              "      <td>...</td>\n",
              "      <td>...</td>\n",
              "    </tr>\n",
              "    <tr>\n",
              "      <th>115</th>\n",
              "      <td>2019-08-31</td>\n",
              "      <td>0.029779</td>\n",
              "    </tr>\n",
              "    <tr>\n",
              "      <th>116</th>\n",
              "      <td>2019-09-30</td>\n",
              "      <td>0.027923</td>\n",
              "    </tr>\n",
              "    <tr>\n",
              "      <th>117</th>\n",
              "      <td>2019-10-31</td>\n",
              "      <td>0.027948</td>\n",
              "    </tr>\n",
              "    <tr>\n",
              "      <th>118</th>\n",
              "      <td>2019-11-30</td>\n",
              "      <td>0.027663</td>\n",
              "    </tr>\n",
              "    <tr>\n",
              "      <th>119</th>\n",
              "      <td>2019-12-31</td>\n",
              "      <td>0.027384</td>\n",
              "    </tr>\n",
              "  </tbody>\n",
              "</table>\n",
              "<p>120 rows × 2 columns</p>\n",
              "</div>"
            ],
            "text/plain": [
              "          Time  Taux_Defaut\n",
              "0   2010-01-31     0.059661\n",
              "1   2010-02-28     0.052415\n",
              "2   2010-03-31     0.051614\n",
              "3   2010-04-30     0.049995\n",
              "4   2010-05-31     0.049792\n",
              "..         ...          ...\n",
              "115 2019-08-31     0.029779\n",
              "116 2019-09-30     0.027923\n",
              "117 2019-10-31     0.027948\n",
              "118 2019-11-30     0.027663\n",
              "119 2019-12-31     0.027384\n",
              "\n",
              "[120 rows x 2 columns]"
            ]
          },
          "metadata": {},
          "execution_count": 133
        }
      ]
    },
    {
      "cell_type": "code",
      "metadata": {
        "colab": {
          "base_uri": "https://localhost:8080/",
          "height": 229
        },
        "id": "3VEm4g_pK-QS",
        "outputId": "9d2c735f-c4d4-44c9-d7c3-a1ee84220fc1"
      },
      "source": [
        "#TTC Cumule\n",
        "TTC_C = TTC\n",
        "TTC[12][1]\n",
        "for i in range(1,13):\n",
        "  compteur=0\n",
        "  for j in reversed(range(1,13)):\n",
        "    compteur=TTC[j][i]+compteur\n",
        "    TTC_C[j][i]=compteur\n",
        "TTC_C\n"
      ],
      "execution_count": null,
      "outputs": [
        {
          "output_type": "error",
          "ename": "NameError",
          "evalue": "ignored",
          "traceback": [
            "\u001b[0;31m---------------------------------------------------------------------------\u001b[0m",
            "\u001b[0;31mNameError\u001b[0m                                 Traceback (most recent call last)",
            "\u001b[0;32m<ipython-input-1-0770d34f7e3c>\u001b[0m in \u001b[0;36m<module>\u001b[0;34m()\u001b[0m\n\u001b[1;32m      1\u001b[0m \u001b[0;31m#TTC Cumule\u001b[0m\u001b[0;34m\u001b[0m\u001b[0;34m\u001b[0m\u001b[0;34m\u001b[0m\u001b[0m\n\u001b[0;32m----> 2\u001b[0;31m \u001b[0mTTC_C\u001b[0m \u001b[0;34m=\u001b[0m \u001b[0mTTC\u001b[0m\u001b[0;34m\u001b[0m\u001b[0;34m\u001b[0m\u001b[0m\n\u001b[0m\u001b[1;32m      3\u001b[0m \u001b[0mTTC\u001b[0m\u001b[0;34m[\u001b[0m\u001b[0;36m12\u001b[0m\u001b[0;34m]\u001b[0m\u001b[0;34m[\u001b[0m\u001b[0;36m1\u001b[0m\u001b[0;34m]\u001b[0m\u001b[0;34m\u001b[0m\u001b[0;34m\u001b[0m\u001b[0m\n\u001b[1;32m      4\u001b[0m \u001b[0;32mfor\u001b[0m \u001b[0mi\u001b[0m \u001b[0;32min\u001b[0m \u001b[0mrange\u001b[0m\u001b[0;34m(\u001b[0m\u001b[0;36m1\u001b[0m\u001b[0;34m,\u001b[0m\u001b[0;36m13\u001b[0m\u001b[0;34m)\u001b[0m\u001b[0;34m:\u001b[0m\u001b[0;34m\u001b[0m\u001b[0;34m\u001b[0m\u001b[0m\n\u001b[1;32m      5\u001b[0m   \u001b[0mcompteur\u001b[0m\u001b[0;34m=\u001b[0m\u001b[0;36m0\u001b[0m\u001b[0;34m\u001b[0m\u001b[0;34m\u001b[0m\u001b[0m\n",
            "\u001b[0;31mNameError\u001b[0m: name 'TTC' is not defined"
          ]
        }
      ]
    }
  ]
}